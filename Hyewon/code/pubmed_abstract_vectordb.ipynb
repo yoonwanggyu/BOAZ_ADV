{
 "cells": [
  {
   "cell_type": "code",
   "execution_count": 14,
   "id": "8d0b8699",
   "metadata": {},
   "outputs": [],
   "source": [
    "import os\n",
    "import pandas as pd\n",
    "from langchain_core.documents import Document\n",
    "from langchain_community.embeddings import SentenceTransformerEmbeddings\n",
    "from pinecone import Pinecone, ServerlessSpec"
   ]
  },
  {
   "cell_type": "code",
   "execution_count": 2,
   "id": "083506b3",
   "metadata": {},
   "outputs": [
    {
     "data": {
      "text/plain": [
       "True"
      ]
     },
     "execution_count": 2,
     "metadata": {},
     "output_type": "execute_result"
    }
   ],
   "source": [
    "from dotenv import load_dotenv\n",
    "\n",
    "load_dotenv()"
   ]
  },
  {
   "cell_type": "markdown",
   "id": "08f5e0f4",
   "metadata": {},
   "source": [
    "- title, year가 NAN인 행들 12개는 직접 채워줬고,\n",
    "- abstract가 NAN인 1700여개는 제거함."
   ]
  },
  {
   "cell_type": "code",
   "execution_count": null,
   "id": "7fb0f5bc",
   "metadata": {},
   "outputs": [],
   "source": [
    "import pandas as pd\n",
    "from langchain_core.documents import Document\n",
    "\n",
    "excel_path = r\"C:\\Users\\user\\OneDrive\\바탕 화면\\BOAZ\\2025_분석_ADV session\\챗봇 프로젝트\\마취관련_키워드_pubmed_abstract_extraction_sample.xlsx\"\n",
    "df = pd.read_excel(excel_path)\n",
    "df = df.dropna(subset=['article_abstract'])"
   ]
  },
  {
   "cell_type": "code",
   "execution_count": null,
   "id": "cbfdc76e",
   "metadata": {},
   "outputs": [
    {
     "data": {
      "text/html": [
       "<div>\n",
       "<style scoped>\n",
       "    .dataframe tbody tr th:only-of-type {\n",
       "        vertical-align: middle;\n",
       "    }\n",
       "\n",
       "    .dataframe tbody tr th {\n",
       "        vertical-align: top;\n",
       "    }\n",
       "\n",
       "    .dataframe thead th {\n",
       "        text-align: right;\n",
       "    }\n",
       "</style>\n",
       "<table border=\"1\" class=\"dataframe\">\n",
       "  <thead>\n",
       "    <tr style=\"text-align: right;\">\n",
       "      <th></th>\n",
       "      <th>Unnamed: 0</th>\n",
       "      <th>article_title</th>\n",
       "      <th>article_abstract</th>\n",
       "      <th>year</th>\n",
       "      <th>article_url</th>\n",
       "    </tr>\n",
       "  </thead>\n",
       "  <tbody>\n",
       "    <tr>\n",
       "      <th>0</th>\n",
       "      <td>0</td>\n",
       "      <td>3D Imaging Reveals Complex Microvascular Remod...</td>\n",
       "      <td>BACKGROUND: Pathogenic concepts of right ventr...</td>\n",
       "      <td>2024</td>\n",
       "      <td>https://ncbi.nlm.nih.gov/pubmed/38770652</td>\n",
       "    </tr>\n",
       "    <tr>\n",
       "      <th>1</th>\n",
       "      <td>1</td>\n",
       "      <td>Neonatal isoflurane exposure disturbs granule ...</td>\n",
       "      <td>It has been reported that neonatal isoflurane ...</td>\n",
       "      <td>2022</td>\n",
       "      <td>https://ncbi.nlm.nih.gov/pubmed/35173111</td>\n",
       "    </tr>\n",
       "    <tr>\n",
       "      <th>2</th>\n",
       "      <td>2</td>\n",
       "      <td>Differential Effects of a Behavioral Treatment...</td>\n",
       "      <td>The purpose of this study was to examine poten...</td>\n",
       "      <td>2023</td>\n",
       "      <td>https://ncbi.nlm.nih.gov/pubmed/37142899</td>\n",
       "    </tr>\n",
       "    <tr>\n",
       "      <th>3</th>\n",
       "      <td>3</td>\n",
       "      <td>Risk factors and prevention of choking.</td>\n",
       "      <td>Choking (or foreign body airway obstruction) i...</td>\n",
       "      <td>2023</td>\n",
       "      <td>https://ncbi.nlm.nih.gov/pubmed/37905785</td>\n",
       "    </tr>\n",
       "    <tr>\n",
       "      <th>4</th>\n",
       "      <td>4</td>\n",
       "      <td>Complications and adverse events in lymphadene...</td>\n",
       "      <td>BACKGROUND: Inguinal lymph node dissection pla...</td>\n",
       "      <td>2024</td>\n",
       "      <td>https://ncbi.nlm.nih.gov/pubmed/38987232</td>\n",
       "    </tr>\n",
       "  </tbody>\n",
       "</table>\n",
       "</div>"
      ],
      "text/plain": [
       "   Unnamed: 0                                      article_title  \\\n",
       "0           0  3D Imaging Reveals Complex Microvascular Remod...   \n",
       "1           1  Neonatal isoflurane exposure disturbs granule ...   \n",
       "2           2  Differential Effects of a Behavioral Treatment...   \n",
       "3           3            Risk factors and prevention of choking.   \n",
       "4           4  Complications and adverse events in lymphadene...   \n",
       "\n",
       "                                    article_abstract  year  \\\n",
       "0  BACKGROUND: Pathogenic concepts of right ventr...  2024   \n",
       "1  It has been reported that neonatal isoflurane ...  2022   \n",
       "2  The purpose of this study was to examine poten...  2023   \n",
       "3  Choking (or foreign body airway obstruction) i...  2023   \n",
       "4  BACKGROUND: Inguinal lymph node dissection pla...  2024   \n",
       "\n",
       "                                article_url  \n",
       "0  https://ncbi.nlm.nih.gov/pubmed/38770652  \n",
       "1  https://ncbi.nlm.nih.gov/pubmed/35173111  \n",
       "2  https://ncbi.nlm.nih.gov/pubmed/37142899  \n",
       "3  https://ncbi.nlm.nih.gov/pubmed/37905785  \n",
       "4  https://ncbi.nlm.nih.gov/pubmed/38987232  "
      ]
     },
     "execution_count": 6,
     "metadata": {},
     "output_type": "execute_result"
    }
   ],
   "source": [
    "df.head()"
   ]
  },
  {
   "cell_type": "code",
   "execution_count": null,
   "id": "9a4712df",
   "metadata": {},
   "outputs": [
    {
     "name": "stdout",
     "output_type": "stream",
     "text": [
      "NaN이 하나라도 포함된 행의 개수: 0\n"
     ]
    }
   ],
   "source": [
    "num_nan_rows = df.isnull().any(axis=1).sum()\n",
    "print(f\"NaN이 하나라도 포함된 행의 개수: {num_nan_rows}\")"
   ]
  },
  {
   "cell_type": "code",
   "execution_count": null,
   "id": "018a33de",
   "metadata": {},
   "outputs": [
    {
     "name": "stdout",
     "output_type": "stream",
     "text": [
      "✅ 엑셀 기반 문서 26239개 생성 완료\n"
     ]
    }
   ],
   "source": [
    "documents = []\n",
    "for i, row in df.iterrows():\n",
    "    title = str(row.get(\"article_title\", \"\")).strip()\n",
    "    abstract = str(row.get(\"article_abstract\", \"\")).strip()\n",
    "    year = row.get(\"year\", \"\")\n",
    "\n",
    "    # title + abstract 합치기(선택)\n",
    "    full_text = f\"{title}\\n\\n{abstract}\" if abstract else title\n",
    "\n",
    "    metadata = {\n",
    "        \"paper_title\": title,\n",
    "        \"year\": year,\n",
    "        \"page_content\": full_text\n",
    "    }\n",
    "    doc = Document(page_content=full_text, metadata=metadata)\n",
    "    documents.append(doc)\n",
    "\n",
    "print(f\"✅ 엑셀 기반 문서 {len(documents)}개 생성 완료\")"
   ]
  },
  {
   "cell_type": "code",
   "execution_count": null,
   "id": "788f8eff",
   "metadata": {},
   "outputs": [
    {
     "name": "stdout",
     "output_type": "stream",
     "text": [
      "✅ 인덱스 'boazpubmed' 이미 존재합니다.\n"
     ]
    }
   ],
   "source": [
    "from pinecone import Pinecone, ServerlessSpec\n",
    "\n",
    "# ✅ 환경변수에서 API 키 불러오기\n",
    "api_key = os.environ.get(\"PINECONE_API_KEY\")\n",
    "if not api_key:\n",
    "    raise ValueError(\"❌ PINECONE_API_KEY 환경변수가 설정되지 않았습니다.\")\n",
    "\n",
    "# ✅ Pinecone 클라이언트 생성\n",
    "pc = Pinecone(api_key=api_key)\n",
    "\n",
    "# ✅ 인덱스 이름 및 설정\n",
    "index_name = \"boazpubmed\"\n",
    "dimension = 1536  # 예: OpenAI embedding 모델 \"text-embedding-ada-002\" 사용 시\n",
    "\n",
    "# ✅ 인덱스 생성 (이미 존재하는 경우 생략)\n",
    "if index_name not in [i.name for i in pc.list_indexes()]:\n",
    "    pc.create_index(\n",
    "        name=index_name,\n",
    "        dimension=dimension,\n",
    "        metric=\"cosine\",\n",
    "        spec=ServerlessSpec(cloud=\"aws\", region=\"us-east-1\")\n",
    "    )\n",
    "    print(f\"✅ 인덱스 '{index_name}' 생성 완료!\")\n",
    "else:\n",
    "    print(f\"✅ 인덱스 '{index_name}' 이미 존재합니다.\")\n"
   ]
  },
  {
   "cell_type": "code",
   "execution_count": null,
   "id": "2069f1fc",
   "metadata": {},
   "outputs": [],
   "source": [
    "import os\n",
    "from openai import OpenAI\n",
    "from uuid import uuid4\n",
    "from pinecone import Pinecone\n",
    "from tqdm import tqdm\n",
    "\n",
    "#  API 키 불러오기\n",
    "openai_api_key = os.environ[\"OPENAI_API_KEY\"]\n",
    "pinecone_api_key = os.environ[\"PINECONE_API_KEY\"]\n",
    "\n",
    "#  Pinecone 및 OpenAI 클라이언트 생성\n",
    "pc = Pinecone(api_key=pinecone_api_key)\n",
    "client = OpenAI(api_key=openai_api_key)\n",
    "index = pc.Index(\"boazpubmed\")  # <- 인덱스 이름 맞게 변경!\n",
    "\n",
    "# 메타데이터 정리 함수\n",
    "def clean_metadata(meta: dict) -> dict:\n",
    "    cleaned = {}\n",
    "    for k, v in meta.items():\n",
    "        if v is None:\n",
    "            continue\n",
    "        if isinstance(v, (str, int, float, bool)):\n",
    "            cleaned[k] = v\n",
    "        elif isinstance(v, list) and all(isinstance(i, str) for i in v):\n",
    "            cleaned[k] = v\n",
    "        else:\n",
    "            cleaned[k] = str(v)\n",
    "    return cleaned\n"
   ]
  },
  {
   "cell_type": "code",
   "execution_count": null,
   "id": "fd75dcbe",
   "metadata": {},
   "outputs": [],
   "source": [
    "# 업로드 루프\n",
    "batch_size = 100\n",
    "vectors = []\n",
    "\n",
    "for i, doc in enumerate(tqdm(documents)):\n",
    "    try:\n",
    "        # 임베딩 생성\n",
    "        response = client.embeddings.create(\n",
    "            model=\"text-embedding-ada-002\",\n",
    "            input=doc.page_content\n",
    "        )\n",
    "        embedding = response.data[0].embedding\n",
    "\n",
    "        metadata = clean_metadata(doc.metadata)\n",
    "\n",
    "        vectors.append({\n",
    "            \"id\": f\"pubmed_{i}\", \n",
    "            \"values\": embedding,\n",
    "            \"metadata\": metadata\n",
    "        })\n",
    "\n",
    "        if len(vectors) == batch_size:\n",
    "            index.upsert(vectors)\n",
    "            vectors = []\n",
    "\n",
    "    except Exception as e:\n",
    "        print(f\"❌ 에러 발생 (i={i}): {e}\")\n",
    "\n",
    "if vectors:\n",
    "    index.upsert(vectors)\n",
    "    print(\"남은 벡터 업로드 완료\")\n",
    "\n",
    "\n",
    "print(\"임베딩 벡터 저장 완료!\")"
   ]
  },
  {
   "cell_type": "markdown",
   "id": "ee2b56ea",
   "metadata": {},
   "source": [
    "* 중간에 멈춘 곳부터 재업로드"
   ]
  },
  {
   "cell_type": "code",
   "execution_count": null,
   "id": "675e0891",
   "metadata": {},
   "outputs": [],
   "source": [
    "# Pinecone에서 pubmed_0 ~ pubmed_n의 존재 여부를 이진 탐색식으로 빠르게 체크\n",
    "def find_last_index(index, max_search=30000):\n",
    "    left, right = 0, max_search\n",
    "    last_found = -1\n",
    "    while left <= right:\n",
    "        mid = (left + right) // 2\n",
    "        res = index.fetch(ids=[f\"pubmed_{mid}\"])\n",
    "        if f\"pubmed_{mid}\" in res[\"vectors\"]:\n",
    "            last_found = mid\n",
    "            left = mid + 1\n",
    "        else:\n",
    "            right = mid - 1\n",
    "    return last_found\n",
    "\n",
    "last_idx = find_last_index(index)\n",
    "print(f\"현재 Pinecone에 저장된 마지막 pubmed id: pubmed_{last_idx}\")\n",
    "start_idx = last_idx + 1\n",
    "print(f\"{start_idx}번째부터 다시 업로드를 시작합니다.\")"
   ]
  },
  {
   "cell_type": "code",
   "execution_count": 13,
   "id": "7b0520b6",
   "metadata": {},
   "outputs": [
    {
     "name": "stderr",
     "output_type": "stream",
     "text": [
      " 54%|█████▍    | 100/186 [01:10<11:09,  7.79s/it]"
     ]
    },
    {
     "name": "stdout",
     "output_type": "stream",
     "text": [
      "✅ 26153번째까지 업로드 완료 (100개)\n"
     ]
    },
    {
     "name": "stderr",
     "output_type": "stream",
     "text": [
      "100%|██████████| 186/186 [01:50<00:00,  1.69it/s]\n"
     ]
    },
    {
     "name": "stdout",
     "output_type": "stream",
     "text": [
      "✅ 마지막 배치 업로드 완료\n",
      "전체 임베딩 벡터 업로드 시도 완료!\n"
     ]
    }
   ],
   "source": [
    "batch_size = 100\n",
    "vectors = []\n",
    "\n",
    "for i in tqdm(range(start_idx, len(documents))):\n",
    "    doc = documents[i]\n",
    "    try:\n",
    "        response = client.embeddings.create(\n",
    "            model=\"text-embedding-ada-002\",\n",
    "            input=doc.page_content\n",
    "        )\n",
    "        embedding = response.data[0].embedding\n",
    "        metadata = clean_metadata(doc.metadata)\n",
    "        vectors.append({\n",
    "            \"id\": f\"pubmed_{i}\",\n",
    "            \"values\": embedding,\n",
    "            \"metadata\": metadata\n",
    "        })\n",
    "    except Exception as e:\n",
    "        print(f\"❌ 에러 발생 (i={i}): {e}\")\n",
    "\n",
    "    if len(vectors) == batch_size:\n",
    "        try:\n",
    "            index.upsert(vectors)\n",
    "            print(f\"✅ {i+1}번째까지 업로드 완료 ({batch_size}개)\")\n",
    "            vectors = []\n",
    "        except Exception as e:\n",
    "            print(f\"❌ 업로드 에러 (i={i}): {e}\")\n",
    "\n",
    "if vectors:\n",
    "    try:\n",
    "        index.upsert(vectors)\n",
    "        print(\"✅ 마지막 배치 업로드 완료\")\n",
    "    except Exception as e:\n",
    "        print(f\"❌ 마지막 배치 업로드 에러: {e}\")\n",
    "\n",
    "print(\"전체 임베딩 벡터 업로드 시도 완료!\")"
   ]
  },
  {
   "cell_type": "code",
   "execution_count": 5,
   "id": "b4589781",
   "metadata": {},
   "outputs": [
    {
     "name": "stdout",
     "output_type": "stream",
     "text": [
      "{'dimension': 1536,\n",
      " 'index_fullness': 0.0,\n",
      " 'namespaces': {'': {'vector_count': 26483}},\n",
      " 'total_vector_count': 26483}\n"
     ]
    }
   ],
   "source": [
    "from pinecone import Pinecone\n",
    "import os\n",
    "import pandas as pd\n",
    "from langchain_core.documents import Document\n",
    "from langchain_community.embeddings import SentenceTransformerEmbeddings\n",
    "from pinecone import Pinecone, ServerlessSpec\n",
    "\n",
    "from dotenv import load_dotenv\n",
    "import os\n",
    "from openai import OpenAI\n",
    "from uuid import uuid4\n",
    "from pinecone import Pinecone\n",
    "from tqdm import tqdm\n",
    "\n",
    "#  API 키 불러오기\n",
    "openai_api_key = os.environ[\"OPENAI_API_KEY\"]\n",
    "pinecone_api_key = os.environ[\"PINECONE_API_KEY\"]\n",
    "\n",
    "#  Pinecone 및 OpenAI 클라이언트 생성\n",
    "pc = Pinecone(api_key=pinecone_api_key)\n",
    "client = OpenAI(api_key=openai_api_key)\n",
    "index = pc.Index(\"boazpubmed\")  # <- 인덱스 이름 맞게 변경!\n",
    "load_dotenv()\n",
    "\n",
    "# 1) API 키와 인덱스 이름 설정\n",
    "openai_api_key = os.environ[\"OPENAI_API_KEY\"]\n",
    "pinecone_api_key = os.environ[\"PINECONE_API_KEY\"]\n",
    "\n",
    "#  Pinecone 및 OpenAI 클라이언트 생성\n",
    "pc = Pinecone(api_key=pinecone_api_key)\n",
    "client = OpenAI(api_key=openai_api_key)\n",
    "index = pc.Index(\"boazpubmed\")\n",
    "\n",
    "# 3) 인덱스 통계 조회\n",
    "stats = index.describe_index_stats()\n",
    "print(stats)\n"
   ]
  }
 ],
 "metadata": {
  "kernelspec": {
   "display_name": "Python (boaz)",
   "language": "python",
   "name": "boaz"
  },
  "language_info": {
   "codemirror_mode": {
    "name": "ipython",
    "version": 3
   },
   "file_extension": ".py",
   "mimetype": "text/x-python",
   "name": "python",
   "nbconvert_exporter": "python",
   "pygments_lexer": "ipython3",
   "version": "3.10.12"
  }
 },
 "nbformat": 4,
 "nbformat_minor": 5
}
