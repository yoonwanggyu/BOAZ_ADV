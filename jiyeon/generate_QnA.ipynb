{
 "cells": [
  {
   "cell_type": "code",
   "execution_count": null,
   "id": "e27ae7ef",
   "metadata": {},
   "outputs": [
    {
     "ename": "OpenAIError",
     "evalue": "The api_key client option must be set either by passing api_key to the client or by setting the OPENAI_API_KEY environment variable",
     "output_type": "error",
     "traceback": [
      "\u001b[1;31m---------------------------------------------------------------------------\u001b[0m",
      "\u001b[1;31mOpenAIError\u001b[0m                               Traceback (most recent call last)",
      "\u001b[1;32m~\\AppData\\Local\\Temp\\ipykernel_2736\\1962690668.py\u001b[0m in \u001b[0;36m<module>\u001b[1;34m\u001b[0m\n\u001b[0;32m      8\u001b[0m \u001b[1;33m\u001b[0m\u001b[0m\n\u001b[0;32m      9\u001b[0m \u001b[0mload_dotenv\u001b[0m\u001b[1;33m(\u001b[0m\u001b[1;33m)\u001b[0m\u001b[1;33m\u001b[0m\u001b[1;33m\u001b[0m\u001b[0m\n\u001b[1;32m---> 10\u001b[1;33m \u001b[0mclient\u001b[0m \u001b[1;33m=\u001b[0m \u001b[0mOpenAI\u001b[0m\u001b[1;33m(\u001b[0m\u001b[0mapi_key\u001b[0m\u001b[1;33m=\u001b[0m\u001b[0mos\u001b[0m\u001b[1;33m.\u001b[0m\u001b[0mgetenv\u001b[0m\u001b[1;33m(\u001b[0m\u001b[1;34m\"OPENAI_API_KEY\"\u001b[0m\u001b[1;33m)\u001b[0m\u001b[1;33m)\u001b[0m    \u001b[1;31m# <-------------본인 API키\u001b[0m\u001b[1;33m\u001b[0m\u001b[1;33m\u001b[0m\u001b[0m\n\u001b[0m\u001b[0;32m     11\u001b[0m \u001b[1;33m\u001b[0m\u001b[0m\n\u001b[0;32m     12\u001b[0m \u001b[0mfolder_path\u001b[0m \u001b[1;33m=\u001b[0m \u001b[1;34m\"C:/Users/USER/OneDrive/바탕 화면/내 자료/보아즈/ADV 플젝/소아협회50(20개만)_md\"\u001b[0m  \u001b[1;31m# <------------전처리한 데이터 폴더\u001b[0m\u001b[1;33m\u001b[0m\u001b[1;33m\u001b[0m\u001b[0m\n",
      "\u001b[1;32mc:\\Users\\USER\\anaconda3\\anaconda\\lib\\site-packages\\openai\\_client.py\u001b[0m in \u001b[0;36m__init__\u001b[1;34m(self, api_key, organization, project, base_url, websocket_base_url, timeout, max_retries, default_headers, default_query, http_client, _strict_response_validation)\u001b[0m\n\u001b[0;32m    112\u001b[0m             \u001b[0mapi_key\u001b[0m \u001b[1;33m=\u001b[0m \u001b[0mos\u001b[0m\u001b[1;33m.\u001b[0m\u001b[0menviron\u001b[0m\u001b[1;33m.\u001b[0m\u001b[0mget\u001b[0m\u001b[1;33m(\u001b[0m\u001b[1;34m\"OPENAI_API_KEY\"\u001b[0m\u001b[1;33m)\u001b[0m\u001b[1;33m\u001b[0m\u001b[1;33m\u001b[0m\u001b[0m\n\u001b[0;32m    113\u001b[0m         \u001b[1;32mif\u001b[0m \u001b[0mapi_key\u001b[0m \u001b[1;32mis\u001b[0m \u001b[1;32mNone\u001b[0m\u001b[1;33m:\u001b[0m\u001b[1;33m\u001b[0m\u001b[1;33m\u001b[0m\u001b[0m\n\u001b[1;32m--> 114\u001b[1;33m             raise OpenAIError(\n\u001b[0m\u001b[0;32m    115\u001b[0m                 \u001b[1;34m\"The api_key client option must be set either by passing api_key to the client or by setting the OPENAI_API_KEY environment variable\"\u001b[0m\u001b[1;33m\u001b[0m\u001b[1;33m\u001b[0m\u001b[0m\n\u001b[0;32m    116\u001b[0m             )\n",
      "\u001b[1;31mOpenAIError\u001b[0m: The api_key client option must be set either by passing api_key to the client or by setting the OPENAI_API_KEY environment variable"
     ]
    }
   ],
   "source": [
    "\n",
    "from prompt import system_prompt\n"
   ]
  },
  {
   "cell_type": "code",
   "execution_count": 11,
   "id": "11d48b15",
   "metadata": {},
   "outputs": [],
   "source": [
    "import json\n",
    "from openai import OpenAI\n",
    "from tqdm import tqdm\n",
    "import os\n",
    "from dotenv import load_dotenv\n",
    "import csv\n",
    "from openai import OpenAI\n",
    "from dotenv import load_dotenv\n",
    "\n",
    "load_dotenv()\n",
    "\n",
    "client = OpenAI(api_key=os.getenv(\"OPENAI_API_KEY\"))    # <-------------본인 API키\n",
    "\n",
    "folder_path = \"C:/Users/USER/OneDrive/바탕 화면/내 자료/보아즈/ADV 플젝/소아협회50(20개만)_md\"  # <------------전처리한 데이터 폴더\n",
    "\n",
    "output_csv_path = \"C:/Users/USER/OneDrive/바탕 화면/내 자료/보아즈/ADV 플젝/소아협회50(20개만)_qaset/PediatricAssociation.csv\"                           # <---------------최종 저장 경로\n",
    "csv_rows = []\n"
   ]
  },
  {
   "cell_type": "code",
   "execution_count": 12,
   "id": "8a4cda89",
   "metadata": {},
   "outputs": [],
   "source": [
    "system_prompt = \"\"\"\n",
    "# Role\n",
    "You are a board-certified pediatric anesthesiologist tasked with generating medically accurate and clinically meaningful Korean Q&A data from pediatric anesthesia documents.\n",
    "\n",
    "# Objective\n",
    "Generate a high-quality QA dataset to fine-tune a Korean-language LLM specialized in pediatric anesthesia. The model will be used by clinical professionals, so questions must reflect what experienced physicians would realistically ask in real-world pediatric anesthesia settings.\n",
    "\n",
    "# Core Principles\n",
    "- Generate exactly **10** high-quality Q&A pairs\n",
    "- Maintain strict medical accuracy and clinical validity\n",
    "- Focus on practical and realistic clinical scenarios\n",
    "- Ensure questions are specific, actionable, and non-redundant\n",
    "- Include relevant numerical values when applicable\n",
    "- Use professional and natural Korean suitable for clinical communication\n",
    "- Generate questions **strictly based on the provided context**\n",
    "\n",
    "# Question Generation Guidelines\n",
    "1. **Clinical Relevance**\n",
    "   - Focus on: diagnosis, treatment decisions, anesthesia drug usage, risk management, intra/post-op complications, airway management, fluid/blood dosing, sedation recovery\n",
    "   - Avoid: basic memorization, definitions, or simple score lookups\n",
    "   - Avoid questions derived from **tables** (e.g., “Ramsey sedation score 3점은 무엇인가요?”)\n",
    "   - Avoid referencing the specific case (e.g., “본 연구에서”, “본 증례에서”) — all questions must be **generalizable**\n",
    "\n",
    "2. **Non-Redundancy**\n",
    "   - Do not include similar or overlapping questions\n",
    "   - If multiple potential questions exist about the same topic, select only the **most clinically useful one**\n",
    "\n",
    "3. **Question Format**\n",
    "   - Open-ended, short-answer format\n",
    "   - Written in natural, professional Korean\n",
    "   - No multiple-choice or yes/no questions\n",
    "   - Avoid awkward or repetitive phrasing\n",
    "\n",
    "4. **Reference Requirements**\n",
    "   - Include relevant support sentences as `\"reference_sentences\"` array\n",
    "   - For figures: include captions and surrounding explanations\n",
    "   - **Do not use content that appears only in tables**\n",
    "\n",
    "5. **Answer Format**\n",
    "   - Begin with a reasoning step using evidence from the context\n",
    "   - Wrap quoted evidence in **##begin_quote## ... ##end_quote##**\n",
    "   - End with a Korean full-sentence answer prefixed by `<ANSWER>:`\n",
    "\n",
    "# Output Format\n",
    "Return your output in this **strict JSON format**:\n",
    "[\n",
    "  {\n",
    "    \"question\": \"한국어로 된 의학 질문\",\n",
    "    \"reference_sentences\": [\n",
    "      \"관련 문장 1\",\n",
    "      \"관련 문장 2\"\n",
    "    ],\n",
    "    \"answer\": \"##Reason: ...\\n<ANSWER>: ...\"\n",
    "  }\n",
    "]\n",
    "\n",
    "# Quality Checks\n",
    "- Verify all medical terminology and numerical values\n",
    "- Check Korean grammar and phrasing\n",
    "- Ensure JSON format validity\n",
    "- Eliminate redundant or low-value questions\n",
    "\n",
    "# Error Prevention\n",
    "- Double-check medical terminology\n",
    "- Verify numerical calculations\n",
    "- Ensure proper Korean grammar\n",
    "- Validate JSON structure\n",
    "- Confirm context alignment\n",
    "\n",
    "# Example Outputs\n",
    "Return as a **valid JSON array** of objects. Each object must look like:\n",
    "\n",
    "[\n",
    "  {{\n",
    "    \"question\": \"5살 23kg 소아 환자의 마취 중 적절한 수액 주입량은?\",\n",
    "    \"reference_sentences\": [\n",
    "      \"20kg을 초과하는 소아의 유지 수액량은 첫 20kg에 대해 1500mL를 적용하고, 이후 1kg당 20mL를 추가로 계산한다.\",\n",
    "      \"이 수액량은 전신마취 중 적절한 수분 공급을 위해 사용된다.\"\n",
    "    ],\n",
    "    \"answer\": \"##Reason: 문서의 ##begin_quote## 20kg을 초과하는 소아의 유지 수액량은 첫 20kg에 대해 1500mL를 적용하고, 이후 1kg당 20mL를 추가로 계산한다 ##end_quote## 라는 설명에 따르면, 23kg 소아는 1500mL + (3×20mL) = 1560mL가 필요합니다.\\n<ANSWER>: 5살 23kg 소아의 마취 중 유지 수액량은 1560mL입니다.\"\n",
    "  }},\n",
    "  {{\n",
    "    \"question\": \"소아 환자를 깨울 때 laryngospasm이 의심되면 어떤 처치를 해야 하나요?\",\n",
    "    \"reference_sentences\": [\n",
    "      \"Laryngospasm이 의심되는 경우 즉각적인 처치로는 jaw thrust, 양압 환기, 그리고 succinylcholine 투여가 포함된다.\",\n",
    "      \"신속한 인식과 처치가 저산소증을 예방하는 데 중요하다.\"\n",
    "    ],\n",
    "    \"answer\": \"##Reason: 문서에 따르면 ##begin_quote## 즉각적인 처치로는 jaw thrust, 양압 환기, 그리고 succinylcholine 투여가 포함된다 ##end_quote## 라고 되어 있습니다. 이는 환자의 기도를 유지하고 저산소증을 방지하는 데 중요한 조치입니다.\\n<ANSWER>: Laryngospasm이 의심되는 경우 jaw thrust, 양압 환기, succinylcholine 투여를 포함한 즉각적인 처치가 필요합니다.\"\n",
    "  }}\n",
    "]\n",
    "\"\"\""
   ]
  },
  {
   "cell_type": "code",
   "execution_count": 13,
   "id": "ceab954d",
   "metadata": {},
   "outputs": [
    {
     "name": "stderr",
     "output_type": "stream",
     "text": [
      "100%|██████████| 20/20 [08:36<00:00, 25.81s/it]"
     ]
    },
    {
     "name": "stdout",
     "output_type": "stream",
     "text": [
      "✅ CSV 저장 완료: C:/Users/USER/OneDrive/바탕 화면/내 자료/보아즈/ADV 플젝/소아협회50(20개만)_qaset/PediatricAssociation.csv\n"
     ]
    },
    {
     "name": "stderr",
     "output_type": "stream",
     "text": [
      "\n"
     ]
    }
   ],
   "source": [
    "for file_name in tqdm(os.listdir(folder_path)):\n",
    "\n",
    "    file_path = os.path.join(folder_path, file_name)\n",
    "\n",
    "    with open(file_path, 'r', encoding='utf-8') as f:\n",
    "        data = f.read()\n",
    "\n",
    "    try:\n",
    "        response = client.chat.completions.create(\n",
    "            model=\"gpt-4.1\",  # 또는 gpt-4.0, gpt-3.5-turbo\n",
    "            messages=[\n",
    "                {\"role\": \"system\", \"content\": system_prompt},\n",
    "                {\"role\": \"user\", \"content\": data}\n",
    "            ],\n",
    "            temperature=0.2\n",
    "        )\n",
    "        \n",
    "        output = response.choices[0].message.content.strip()\n",
    "        qna_list = json.loads(output,strict=False)\n",
    "\n",
    "        for qna in qna_list:\n",
    "            question = qna['question']\n",
    "            reference_sentences = qna['reference_sentences']\n",
    "            answer = qna['answer']\n",
    "            csv_rows.append([file_name, question, reference_sentences, answer])\n",
    "\n",
    "    except Exception as e:\n",
    "        print(f\"❌ Error processing {file_name}: {e}\")\n",
    "        continue\n",
    "\n",
    "# 5. 최종 CSV 저장\n",
    "with open(output_csv_path, \"w\", newline='', encoding=\"utf-8\") as csvfile:\n",
    "    writer = csv.writer(csvfile)\n",
    "    writer.writerow([\"파일명\", \"질문\", \"관련 문서\", \"답변\"])  # 헤더\n",
    "    writer.writerows(csv_rows)\n",
    "\n",
    "print(f\"✅ CSV 저장 완료: {output_csv_path}\")"
   ]
  },
  {
   "cell_type": "code",
   "execution_count": 19,
   "id": "98e0ec6d",
   "metadata": {},
   "outputs": [
    {
     "name": "stdout",
     "output_type": "stream",
     "text": [
      "엑셀 파일로 저장 완료: C:/Users/USER/OneDrive/바탕 화면/내 자료/보아즈/ADV 플젝/소아협회50(20개만)_qaset/PediatricAssociation.xlsx\n"
     ]
    }
   ],
   "source": [
    "import pandas as pd\n",
    "\n",
    "# CSV 파일 경로\n",
    "file_path1 = \"C:/Users/USER/OneDrive/바탕 화면/내 자료/보아즈/ADV 플젝/소아협회50(20개만)_qaset/PediatricAssociation.csv\"\n",
    "\n",
    "# CSV 파일 읽기\n",
    "df1 = pd.read_csv(file_path1, encoding=\"utf-8\")  # 또는 \"cp949\", \"utf-8-sig\" 등 필요에 따라 조정\n",
    "\n",
    "# 저장할 Excel 파일 경로\n",
    "excel_path = file_path1.replace(\".csv\", \".xlsx\")\n",
    "\n",
    "# Excel 파일로 저장\n",
    "df1.to_excel(excel_path, index=False)\n",
    "print(f\"엑셀 파일로 저장 완료: {excel_path}\")"
   ]
  }
 ],
 "metadata": {
  "kernelspec": {
   "display_name": "base",
   "language": "python",
   "name": "python3"
  },
  "language_info": {
   "codemirror_mode": {
    "name": "ipython",
    "version": 3
   },
   "file_extension": ".py",
   "mimetype": "text/x-python",
   "name": "python",
   "nbconvert_exporter": "python",
   "pygments_lexer": "ipython3",
   "version": "3.9.13"
  }
 },
 "nbformat": 4,
 "nbformat_minor": 5
}
