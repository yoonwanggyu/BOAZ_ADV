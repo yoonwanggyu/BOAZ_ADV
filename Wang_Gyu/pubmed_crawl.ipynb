{
 "cells": [
  {
   "cell_type": "code",
   "execution_count": null,
   "metadata": {},
   "outputs": [
    {
     "name": "stdout",
     "output_type": "stream",
     "text": [
      "✅ CSV 저장 완료: pubmed_airway_management_infant.csv\n"
     ]
    }
   ],
   "source": [
    "# ncbi 홈페이지 : https://www.ncbi.nlm.nih.gov\n",
    "\n",
    "from Bio import Entrez, Medline\n",
    "import time\n",
    "import pandas as pd\n",
    "from dotenv import load_dotenv\n",
    "import os\n",
    "\n",
    "load_dotenv()\n",
    "\n",
    "# ✨ 반드시 본인의 이메일로 바꿔야 함\n",
    "Entrez.email = \"wanggyu3467@gmail.com\"\n",
    "Entrez.api_key = os.environ.get(\"ENTREZ_API_KEY\")  # 선택사항이지만 추천\n",
    "\n",
    "query = \"airway management infant\"\n",
    "max_results = 10\n",
    "\n",
    "# 1. PMID 검색\n",
    "query = '\"airway management\"[All Fields] AND \"infant\"[All Fields]'\n",
    "# query = '\"Airway Management\"[MeSH Terms] AND \"Infant\"[MeSH Terms]'\n",
    "handle = Entrez.esearch(db=\"pubmed\", term=query, retmax=10, sort=\"relevance\")\n",
    "# Entrez.esearch(db=\"pubmed\", term=query, retmax=10, sort=\"relevance\")  # 기본값\n",
    "# Entrez.esearch(db=\"pubmed\", term=query, retmax=10, sort=\"pub+date\")  # 최신순\n",
    "# Entrez.esearch(db=\"pubmed\", term=query, retmax=10, sort=\"author\")    # 저자 이름순\n",
    "record = Entrez.read(handle)\n",
    "handle.close()\n",
    "id_list = record[\"IdList\"]\n",
    "\n",
    "# 2. 상세 정보 가져오기\n",
    "handle = Entrez.efetch(db=\"pubmed\", id=\",\".join(id_list), rettype=\"medline\", retmode=\"text\")\n",
    "records = list(Medline.parse(handle))\n",
    "handle.close()\n",
    "\n",
    "# 3. 데이터 정리\n",
    "data = []\n",
    "for record in records:\n",
    "    title = record.get(\"TI\", \"N/A\")\n",
    "    abstract = record.get(\"AB\", \"N/A\")\n",
    "    pmid = record.get(\"PMID\", \"N/A\")\n",
    "    url = f\"https://pubmed.ncbi.nlm.nih.gov/{pmid}/\" if pmid != \"N/A\" else \"N/A\"\n",
    "    data.append({\n",
    "        \"keyword\": query,\n",
    "        \"title\": title,\n",
    "        \"abstract\": abstract,\n",
    "        \"url\": url\n",
    "    })\n",
    "\n",
    "# 4. CSV 저장\n",
    "df = pd.DataFrame(data)\n",
    "df.to_csv(\"pubmed_airway_management_infant.csv\", index=False, encoding=\"utf-8-sig\")\n",
    "print(\"✅ CSV 저장 완료: pubmed_airway_management_infant.csv\")"
   ]
  },
  {
   "cell_type": "markdown",
   "metadata": {},
   "source": [
    "## 파일 하나로 합치기"
   ]
  },
  {
   "cell_type": "code",
   "execution_count": 6,
   "metadata": {},
   "outputs": [
    {
     "name": "stdout",
     "output_type": "stream",
     "text": [
      "   page                                           question  \\\n",
      "0     2  만 19세 미만의 소아 환자가 병동에서 진정을 필요로 하는 상황이 발생했습니다. 이...   \n",
      "1     2  소아 환자가 병동에서 진정을 필요로 하는 상황이 발생했습니다. 이런 상황에서 필요한...   \n",
      "2     4  8세 소아 환자가 진정 약물 투여를 받고 있습니다. 진정 약물 투여 중에는 어떤 항...   \n",
      "3     7  소아 환자가 진정 약물 투여 후 회복실에서 모니터링을 받고 있습니다. 이때 어떤 항...   \n",
      "4     8           진정 약물 투여 후 회복실에 있는 소아 환자를 언제 퇴실시킬 수 있나요?   \n",
      "5     5            소아 환자에게 진정 약물을 투여하기 전에 어떤 것들을 확인해야 하나요?   \n",
      "6     7     소아 환자가 진정 약물 투여 후 회복실에서 어떤 상황에서 길항제를 사용해야 하나요?   \n",
      "7     6               3세의 아이가 진정 약물을 투여받기 전에 얼마나 금식해야 하나요?   \n",
      "8     5                         소아 진정 시 주의해야 할 합병증은 무엇인가요?   \n",
      "9     4                     진정 후에 환자와 보호자에게 어떤 교육을 해야 하나요?   \n",
      "\n",
      "                                              source  \\\n",
      "0  \\\"1) 진정 진료권자\\\", \\\"- ① 실제 소아 진정을 수행하는 의사로서\\\", \\...   \n",
      "1  \\\"4) 장비\\\", \\\"- ① 산소공급원\\\", \\\"- ② 산소투여 및 인공기도: 비...   \n",
      "2  \\\"진정 약물 투여 중에는 다음 항목을 모니터링한다: 혈압, 심박동수, 호흡수(깊은...   \n",
      "3  회복실 모니터링 시에는 진정 시술 중과 동일한 항목을 모니터링한다. 빈도는 회복 시...   \n",
      "4  \\\"퇴실 기준: 회복 시작 30분이 경과 후 (modified) Aldrete sc...   \n",
      "5  \\\"진정 약물 투여 전에는 환아의 진단명과 수술(시술)명을 확인하고, 진정 동의서를...   \n",
      "6  \\\"길항제의 사용은 일괄적인 사용은 피해야 하며, 자발 호흡 노력이 부족한 경우 또...   \n",
      "7  \\\"별첨 3. 금식 지침\\\", \\\"섭취 음식 | <6 mon | 6 mon< age...   \n",
      "8  \\\"8. 위험성과 합병증 및 이에 대한 대처\\\", \\\"1) 가능한 위험성 및 합병증...   \n",
      "9  \\\"② 환자 및 보호자 교육: 귀가 시 환자 및 보호자에게 구두와 서면으로 발생할 ...   \n",
      "\n",
      "                                       Merged_Answer  \n",
      "0  진정을 수행하는 의료진은 실제 소아 진정을 수행할 수 있는 의사이며, 진정 교육과 ...  \n",
      "1  ##Reason: 문서 ##begin_quote## 4) 장비 - ① 산소공급원 -...  \n",
      "2  ##Reason: 문서 ##begin_quote## 진정 약물 투여 중에는 다음 항...  \n",
      "3  ##Reason: 문서 ##begin_quote## 회복실 모니터링 시에는 진정 시...  \n",
      "4  ##Reason: 문서 ##begin_quote## 퇴실 기준: 회복 시작 30분이...  \n",
      "5  ##Reason: 문서 ##begin_quote## 진정 약물 투여 전에는 환아의 ...  \n",
      "6  ##Reason: 문서 ##begin_quote## 길항제의 사용은 일괄적인 사용은...  \n",
      "7  ##Reason: 문서 ##begin_quote## 섭취 음식 | <6 mon | ...  \n",
      "8  ##Reason: 문서 ##begin_quote## 1) 가능한 위험성 및 합병증6...  \n",
      "9  ##Reason: 문서 ##begin_quote## ② 환자 및 보호자 교육: 귀가...  \n"
     ]
    }
   ],
   "source": [
    "import pandas as pd\n",
    "\n",
    "# 파일 불러오기\n",
    "df = pd.read_excel(\"/Users/yoon/BOAZ_ADV/Wang_Gyu/소아마취가이드라인1차QAset_지연(수정).xlsx\")  # 실제 경로로 변경하세요\n",
    "\n",
    "# 두 열을 하나로 합치기 (예: 중간에 줄바꿈 추가)\n",
    "df[\"Merged_Answer\"] = df[\"CoT Answer\"].astype(str) + \"\\n\" + \"<ANSWER>:\" + df[\"Answer\"].astype(str)\n",
    "\n",
    "# 기존 두 열 제거\n",
    "df.drop(columns=[\"CoT Answer\", \"Answer\"], inplace=True)\n",
    "\n",
    "# 결과 확인\n",
    "print(df.head(10))\n",
    "\n",
    "# # 필요하면 저장\n",
    "df.to_excel(\"merged_file.xlsx\", index=False)"
   ]
  },
  {
   "cell_type": "code",
   "execution_count": 1,
   "metadata": {},
   "outputs": [
    {
     "name": "stdout",
     "output_type": "stream",
     "text": [
      "997\n"
     ]
    }
   ],
   "source": [
    "import pandas as pd\n",
    "\n",
    "file_path1 = \"/Users/yoon/BOAZ_ADV/Wang_Gyu/학술지_QnA.csv\"\n",
    "file_path2 = \"/Users/yoon/BOAZ_ADV/Wang_Gyu/qaset_daeun.csv\"\n",
    "file_path3 = \"/Users/yoon/BOAZ_ADV/Wang_Gyu/PediatricAssociation.csv\"\n",
    "file_path4 = \"/Users/yoon/BOAZ_ADV/Wang_Gyu/qaset_hyewon_final_207.csv\"\n",
    "file_path5 = \"/Users/yoon/BOAZ_ADV/Wang_Gyu/학술지_QA_Set(재원).csv\"\n",
    "\n",
    "# 읽기\n",
    "df1 = pd.read_csv(file_path1)\n",
    "df2 = pd.read_csv(file_path2)\n",
    "df3 = pd.read_csv(file_path3)\n",
    "df4 = pd.read_csv(file_path4)\n",
    "df5 = pd.read_csv(file_path5)\n",
    "\n",
    "# 통일할 컬럼명 리스트 예시 (열 개수는 같아야 함)\n",
    "# 실제로 출력해서 눈으로 확인 후 수정해야 함\n",
    "standard_columns = ['file_name', 'question', 'context', 'answer']\n",
    "\n",
    "# 열 이름을 강제로 통일\n",
    "df1.columns = standard_columns\n",
    "df2.columns = standard_columns\n",
    "df3.columns = standard_columns\n",
    "df4.columns = standard_columns\n",
    "df5.columns = standard_columns\n",
    "\n",
    "# 합치기\n",
    "merged_df = pd.concat([df1, df2, df3, df4, df5], ignore_index=True)\n",
    "\n",
    "print(len(merged_df))\n",
    "\n",
    "# 저장 \n",
    "merged_df.to_csv(\"/Users/yoon/BOAZ_ADV/Wang_Gyu/학술지_all.csv\", index=False)"
   ]
  }
 ],
 "metadata": {
  "kernelspec": {
   "display_name": "boaz",
   "language": "python",
   "name": "python3"
  },
  "language_info": {
   "codemirror_mode": {
    "name": "ipython",
    "version": 3
   },
   "file_extension": ".py",
   "mimetype": "text/x-python",
   "name": "python",
   "nbconvert_exporter": "python",
   "pygments_lexer": "ipython3",
   "version": "3.11.11"
  }
 },
 "nbformat": 4,
 "nbformat_minor": 2
}
