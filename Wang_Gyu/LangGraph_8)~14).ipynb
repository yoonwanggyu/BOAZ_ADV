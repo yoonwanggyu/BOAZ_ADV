{
 "cells": [
  {
   "cell_type": "markdown",
   "metadata": {},
   "source": [
    "# 8) 메시지 삭제\n",
    "\n",
    "그래프의 일반적인 상태 중 하나는 메시지 목록입니다. 일반적으로 해당 상태에 메시지를 추가만 합니다. 하지만 때로는 **메시지를 제거** 해야 할 수도 있습니다. \n",
    "\n",
    "이를 위해 `RemoveMessage` 수정자를 사용할 수 있습니다. 그리고, `RemoveMessage` 수정자는 `reducer` 키를 가진다는 것입니다. \n",
    "\n",
    "기본 `MessagesState`는 messages 키를 가지고 있으며, 해당 키의 reducer는 이러한 `RemoveMessage` 수정자를 허용합니다.\n",
    "\n",
    "이 reducer는 `RemoveMessage`를 사용하여 키에서 메시지를 삭제합니다."
   ]
  },
  {
   "cell_type": "code",
   "execution_count": 1,
   "metadata": {},
   "outputs": [
    {
     "data": {
      "image/jpeg": "[encoded data removed]",
      "text/plain": [
       "<IPython.core.display.Image object>"
      ]
     },
     "metadata": {},
     "output_type": "display_data"
    }
   ],
   "source": [
    "# API 키를 환경변수로 관리하기 위한 설정 파일\n",
    "from dotenv import load_dotenv\n",
    "from typing import Literal\n",
    "\n",
    "from langchain_core.tools import tool\n",
    "from langchain_openai import ChatOpenAI\n",
    "from langgraph.checkpoint.memory import MemorySaver\n",
    "from langgraph.graph import MessagesState, StateGraph, START, END\n",
    "from langgraph.prebuilt import ToolNode, tools_condition\n",
    "from langchain_teddynote.graphs import visualize_graph\n",
    "\n",
    "# API 키 정보 로드\n",
    "load_dotenv()\n",
    "\n",
    "# 기본적인 graph 구조---------------\n",
    "memory = MemorySaver()\n",
    "\n",
    "# 웹 검색 기능을 모방하는 도구 함수 정의\n",
    "@tool\n",
    "def search(query: str):\n",
    "    \"\"\"Call to surf on the web.\"\"\"\n",
    "    return \"웹 검색 결과: LangGraph 한글 튜토리얼은 https://wikidocs.net/233785 에서 확인할 수 있습니다.\"\n",
    "\n",
    "tools = [search]\n",
    "tool_node = ToolNode(tools)\n",
    "\n",
    "model = ChatOpenAI(model_name = \"gpt-4o-mini\")\n",
    "bound_model = model.bind_tools(tools)\n",
    "\n",
    "# 대화 상태에 따른 다음 실행 노드 결정 함수\n",
    "def should_continue(state:MessagesState):\n",
    "    last_messages = state['messages'][-1]\n",
    "    if not last_messages.tool_calls:\n",
    "        return END\n",
    "    return \"tool\"\n",
    "\n",
    "# LLM 모델 호출 및 응답 처리 함수\n",
    "def call_model(state: MessagesState):\n",
    "    response = model.invoke(state[\"messages\"])\n",
    "    return {\"messages\": response}\n",
    "\n",
    "\n",
    "# 상태 기반 워크플로우 그래프 초기화\n",
    "workflow = StateGraph(MessagesState)\n",
    "\n",
    "# 에이전트와 액션 노드 추가\n",
    "workflow.add_node(\"agent\", call_model)\n",
    "workflow.add_node(\"tool\", tool_node)\n",
    "\n",
    "# 시작점을 에이전트 노드로 설정\n",
    "workflow.add_edge(START, \"agent\")\n",
    "\n",
    "# 조건부 엣지 설정: 에이전트 노드 이후의 실행 흐름 정의\n",
    "workflow.add_conditional_edges(\"agent\", should_continue, {\"tool\": \"tool\", END: END})\n",
    "\n",
    "# 도구 실행 후 에이전트로 돌아가는 엣지 추가\n",
    "workflow.add_edge(\"tool\", \"agent\")\n",
    "\n",
    "# 체크포인터가 포함된 최종 실행 가능한 워크플로우 컴파일\n",
    "app = workflow.compile(checkpointer=memory)\n",
    "\n",
    "visualize_graph(app)\n"
   ]
  },
  {
   "cell_type": "code",
   "execution_count": 2,
   "metadata": {},
   "outputs": [
    {
     "name": "stdout",
     "output_type": "stream",
     "text": [
      "================================\u001b[1m Human Message \u001b[0m=================================\n",
      "\n",
      "안녕하세요! 제 이름은 Teddy입니다. 잘 부탁드립니다.\n",
      "==================================\u001b[1m Ai Message \u001b[0m==================================\n",
      "\n",
      "안녕하세요, Teddy! 만나서 반갑습니다. 어떻게 도와드릴까요?\n"
     ]
    }
   ],
   "source": [
    "# 첫 질문\n",
    "from langchain_core.messages import HumanMessage\n",
    "\n",
    "# 스레드 ID가 1인 기본 설정 객체 초기화\n",
    "config = {\"configurable\": {\"thread_id\": \"1\"}}\n",
    "\n",
    "# 1번째 질문 수행\n",
    "input_message = HumanMessage(\n",
    "    content=\"안녕하세요! 제 이름은 Teddy입니다. 잘 부탁드립니다.\"\n",
    ")\n",
    "\n",
    "# 스트림 모드로 메시지 처리 및 응답 출력, 마지막 메시지의 상세 정보 표시\n",
    "for event in app.stream({\"messages\": [input_message]}, config, stream_mode=\"values\"):\n",
    "    event[\"messages\"][-1].pretty_print()"
   ]
  },
  {
   "cell_type": "code",
   "execution_count": 3,
   "metadata": {},
   "outputs": [
    {
     "name": "stdout",
     "output_type": "stream",
     "text": [
      "================================\u001b[1m Human Message \u001b[0m=================================\n",
      "\n",
      "내 이름이 뭐라고요?\n",
      "==================================\u001b[1m Ai Message \u001b[0m==================================\n",
      "\n",
      "당신의 이름은 Teddy입니다. 맞나요?\n"
     ]
    }
   ],
   "source": [
    "# 후속 질문 수행\n",
    "input_message = HumanMessage(content=\"내 이름이 뭐라고요?\")\n",
    "\n",
    "# 스트림 모드로 두 번째 메시지 처리 및 응답 출력\n",
    "for event in app.stream({\"messages\": [input_message]}, config, stream_mode=\"values\"):\n",
    "    event[\"messages\"][-1].pretty_print()"
   ]
  },
  {
   "cell_type": "code",
   "execution_count": 4,
   "metadata": {},
   "outputs": [
    {
     "name": "stdout",
     "output_type": "stream",
     "text": [
      "================================\u001b[1m Human Message \u001b[0m=================================\n",
      "\n",
      "안녕하세요! 제 이름은 Teddy입니다. 잘 부탁드립니다.\n",
      "==================================\u001b[1m Ai Message \u001b[0m==================================\n",
      "\n",
      "안녕하세요, Teddy! 만나서 반갑습니다. 어떻게 도와드릴까요?\n",
      "================================\u001b[1m Human Message \u001b[0m=================================\n",
      "\n",
      "내 이름이 뭐라고요?\n",
      "==================================\u001b[1m Ai Message \u001b[0m==================================\n",
      "\n",
      "당신의 이름은 Teddy입니다. 맞나요?\n"
     ]
    }
   ],
   "source": [
    "# 단계별 상태 확인\n",
    "messages = app.get_state(config).values[\"messages\"]\n",
    "for message in messages:\n",
    "    message.pretty_print()"
   ]
  },
  {
   "cell_type": "markdown",
   "metadata": {},
   "source": [
    "### RemoveMessage 수정자를 사용하여 메시지 삭제\n",
    "\n",
    "먼저 메시지를 수동으로 삭제하는 방법을 살펴보겠습니다. 현재 스레드의 상태를 확인해보겠습니다:"
   ]
  },
  {
   "cell_type": "code",
   "execution_count": 5,
   "metadata": {},
   "outputs": [
    {
     "name": "stdout",
     "output_type": "stream",
     "text": [
      "================================\u001b[1m Remove Message \u001b[0m================================\n",
      "\n",
      "\n",
      "==================================\u001b[1m Ai Message \u001b[0m==================================\n",
      "\n",
      "안녕하세요, Teddy! 만나서 반갑습니다. 어떻게 도와드릴까요?\n",
      "================================\u001b[1m Human Message \u001b[0m=================================\n",
      "\n",
      "내 이름이 뭐라고요?\n",
      "==================================\u001b[1m Ai Message \u001b[0m==================================\n",
      "\n",
      "당신의 이름은 Teddy입니다. 맞나요?\n"
     ]
    },
    {
     "name": "stderr",
     "output_type": "stream",
     "text": [
      "C:\\Users\\user\\AppData\\Local\\Temp\\ipykernel_22740\\1008945876.py:4: LangChainBetaWarning: The class `RemoveMessage` is in beta. It is actively being worked on, so the API may change.\n",
      "  app.update_state(config, {\"messages\": RemoveMessage(id=messages[0].id)})\n"
     ]
    }
   ],
   "source": [
    "from langchain_core.messages import RemoveMessage\n",
    "\n",
    "# 메시지 배열의 첫 번째 메시지를 ID 기반으로 제거하고 앱 상태 업데이트\n",
    "app.update_state(config, {\"messages\": RemoveMessage(id=messages[0].id)})\n",
    "\n",
    "# 이제 메시지들을 확인해보면 첫 번째 메시지가 삭제되었음을 확인할 수 있습니다.\n",
    "# 앱 상태에서 메시지 목록 추출 및 저장된 대화 내역 조회\n",
    "messages = app.get_state(config).values[\"messages\"]\n",
    "for message in messages:\n",
    "    message.pretty_print()"
   ]
  },
  {
   "cell_type": "markdown",
   "metadata": {},
   "source": [
    "### 더 많은 메시지를 동적으로 삭제\n",
    "\n",
    "그래프 내부에서 프로그래밍 방식으로 메시지를 삭제할 수도 있습니다. \n",
    "\n",
    "그래프 실행이 종료될 때 오래된 메시지(3개 이전의 메시지보다 더 이전의 메시지)를 삭제하도록 그래프를 수정하는 방법을 살펴보겠습니다."
   ]
  },
  {
   "cell_type": "code",
   "execution_count": 6,
   "metadata": {},
   "outputs": [
    {
     "data": {
      "image/jpeg": "[encoded data removed]",
      "text/plain": [
       "<IPython.core.display.Image object>"
      ]
     },
     "metadata": {},
     "output_type": "display_data"
    }
   ],
   "source": [
    "# 메시지 개수가 3개 초과 시 오래된 메시지 삭제 및 최신 메시지만 유지\n",
    "def delete_messages(state):\n",
    "    messages = state[\"messages\"]\n",
    "    if len(messages) > 3:\n",
    "        return {\"messages\": [RemoveMessage(id=m.id) for m in messages[:-3]]}\n",
    "\n",
    "\n",
    "# 메시지 상태에 따른 다음 실행 노드 결정 로직\n",
    "def should_continue(state: MessagesState) -> Literal[\"action\", \"delete_messages\"]:\n",
    "    \"\"\"Return the next node to execute.\"\"\"\n",
    "    last_message = state[\"messages\"][-1]\n",
    "    # 함수 호출이 없는 경우 메시지 삭제 함수 실행\n",
    "    if not last_message.tool_calls:\n",
    "        return \"delete_messages\"\n",
    "    # 함수 호출이 있는 경우 액션 실행\n",
    "    return \"action\"\n",
    "\n",
    "\n",
    "# 메시지 상태 기반 워크플로우 그래프 정의\n",
    "workflow = StateGraph(MessagesState)\n",
    "\n",
    "# 에이전트와 액션 노드 추가\n",
    "workflow.add_node(\"agent\", call_model)\n",
    "workflow.add_node(\"action\", tool_node)\n",
    "\n",
    "# 메시지 삭제 노드 추가\n",
    "workflow.add_node(delete_messages)\n",
    "\n",
    "# 시작 노드에서 에이전트 노드로 연결\n",
    "workflow.add_edge(START, \"agent\")\n",
    "\n",
    "# 조건부 엣지 추가를 통한 노드 간 흐름 제어\n",
    "workflow.add_conditional_edges(\n",
    "    \"agent\",\n",
    "    should_continue,\n",
    ")\n",
    "\n",
    "# 액션 노드에서 에이전트 노드로 연결\n",
    "workflow.add_edge(\"action\", \"agent\")\n",
    "\n",
    "# 메시지 삭제 노드에서 종료 노드로 연결\n",
    "workflow.add_edge(\"delete_messages\", END)\n",
    "\n",
    "# 메모리 체크포인터를 사용하여 워크플로우 컴파일\n",
    "app = workflow.compile(checkpointer=memory)\n",
    "\n",
    "visualize_graph(app)\n"
   ]
  },
  {
   "cell_type": "code",
   "execution_count": 7,
   "metadata": {},
   "outputs": [
    {
     "name": "stdout",
     "output_type": "stream",
     "text": [
      "[('human', '안녕하세요! 제 이름은 Teddy입니다. 잘 부탁드립니다.')]\n",
      "[('human', '안녕하세요! 제 이름은 Teddy입니다. 잘 부탁드립니다.'), ('ai', '안녕하세요, Teddy님! 만나서 반갑습니다. 어떻게 도와드릴까요?')]\n"
     ]
    }
   ],
   "source": [
    "# 스레드 ID가 포함된 설정 객체 초기화\n",
    "config = {\"configurable\": {\"thread_id\": \"2\"}}\n",
    "\n",
    "# 1번째 질문 수행\n",
    "input_message = HumanMessage(\n",
    "    content=\"안녕하세요! 제 이름은 Teddy입니다. 잘 부탁드립니다.\"\n",
    ")\n",
    "for event in app.stream({\"messages\": [input_message]}, config, stream_mode=\"values\"):\n",
    "    print([(message.type, message.content) for message in event[\"messages\"]])"
   ]
  },
  {
   "cell_type": "code",
   "execution_count": 8,
   "metadata": {},
   "outputs": [
    {
     "name": "stdout",
     "output_type": "stream",
     "text": [
      "[('human', '안녕하세요! 제 이름은 Teddy입니다. 잘 부탁드립니다.'), ('ai', '안녕하세요, Teddy님! 만나서 반갑습니다. 어떻게 도와드릴까요?'), ('human', '내 이름이 뭐라고요?')]\n",
      "[('human', '안녕하세요! 제 이름은 Teddy입니다. 잘 부탁드립니다.'), ('ai', '안녕하세요, Teddy님! 만나서 반갑습니다. 어떻게 도와드릴까요?'), ('human', '내 이름이 뭐라고요?'), ('ai', 'Teddy님이시죠! 맞나요?')]\n",
      "[('remove', ''), ('ai', '안녕하세요, Teddy님! 만나서 반갑습니다. 어떻게 도와드릴까요?'), ('human', '내 이름이 뭐라고요?'), ('ai', 'Teddy님이시죠! 맞나요?')]\n"
     ]
    }
   ],
   "source": [
    "# 2번째 질문 수행\n",
    "input_message = HumanMessage(content=\"내 이름이 뭐라고요?\")\n",
    "\n",
    "for event in app.stream({\"messages\": [input_message]}, config, stream_mode=\"values\"):\n",
    "    print([(message.type, message.content) for message in event[\"messages\"]])"
   ]
  },
  {
   "cell_type": "code",
   "execution_count": 9,
   "metadata": {},
   "outputs": [
    {
     "name": "stdout",
     "output_type": "stream",
     "text": [
      "================================\u001b[1m Remove Message \u001b[0m================================\n",
      "\n",
      "\n",
      "==================================\u001b[1m Ai Message \u001b[0m==================================\n",
      "\n",
      "안녕하세요, Teddy님! 만나서 반갑습니다. 어떻게 도와드릴까요?\n",
      "================================\u001b[1m Human Message \u001b[0m=================================\n",
      "\n",
      "내 이름이 뭐라고요?\n",
      "==================================\u001b[1m Ai Message \u001b[0m==================================\n",
      "\n",
      "Teddy님이시죠! 맞나요?\n"
     ]
    }
   ],
   "source": [
    "# 최종 상태를 확인해보면 메시지가 단 세 개만 있는 것을 확인할 수 있습니다. \n",
    "\n",
    "# 이는 이전 메시지들을 방금 삭제했기 때문입니다.\n",
    "\n",
    "# 앱 상태에서 메시지 목록 추출 및 저장\n",
    "messages = app.get_state(config).values[\"messages\"]\n",
    "# 메시지 목록 반환\n",
    "for message in messages:\n",
    "    message.pretty_print()"
   ]
  },
  {
   "cell_type": "markdown",
   "metadata": {},
   "source": [
    "# 9) ToolNode 를 사용하여 도구를 호출하는 방법\n",
    "\n",
    "이번 튜토리얼에서는 도구 호출을 위한 LangGraph의 사전 구축된 `pre-built`의 `ToolNode` 사용 방법을 다룹니다.\n",
    "\n",
    "`ToolNode`는 메시지 목록이 포함된 그래프 상태를 입력으로 받아 도구 호출 결과로 상태를 업데이트하는 LangChain Runnable입니다. \n",
    "\n",
    "이는 LangGraph의 사전 구축된 Agent 와 즉시 사용할 수 있도록 설계되었으며, 상태에 적절한 리듀서가 있는 `messages` 키가 포함된 경우 모든 `StateGraph` 와 함께 작동할 수 있습니다."
   ]
  },
  {
   "cell_type": "code",
   "execution_count": 10,
   "metadata": {},
   "outputs": [
    {
     "data": {
      "text/plain": [
       "True"
      ]
     },
     "execution_count": 10,
     "metadata": {},
     "output_type": "execute_result"
    }
   ],
   "source": [
    "# API 키를 환경변수로 관리하기 위한 설정 파일\n",
    "from dotenv import load_dotenv\n",
    "\n",
    "# API 키 정보 로드\n",
    "load_dotenv()"
   ]
  },
  {
   "cell_type": "code",
   "execution_count": 11,
   "metadata": {},
   "outputs": [
    {
     "name": "stderr",
     "output_type": "stream",
     "text": [
      "c:\\Users\\user\\anaconda3\\envs\\myenv\\Lib\\site-packages\\pydantic\\_internal\\_config.py:341: UserWarning: Valid config keys have changed in V2:\n",
      "* 'allow_population_by_field_name' has been renamed to 'populate_by_name'\n",
      "* 'smart_union' has been removed\n",
      "  warnings.warn(message, UserWarning)\n"
     ]
    }
   ],
   "source": [
    "from langchain_core.tools import tool\n",
    "from langchain_experimental.tools.python.tool import PythonAstREPLTool\n",
    "from langchain_teddynote.tools import GoogleNews\n",
    "from typing import List, Dict\n",
    "from langgraph.prebuilt import ToolNode, tools_condition\n",
    "\n",
    "# 도구 정의\n",
    "\n",
    "# 도구 생성\n",
    "@tool\n",
    "def search_news(query: str) -> List[Dict[str, str]]:\n",
    "    \"\"\"Search Google News by input keyword\"\"\"\n",
    "    news_tool = GoogleNews()\n",
    "    return news_tool.search_by_keyword(query, k=5)\n",
    "\n",
    "\n",
    "@tool\n",
    "def python_code_interpreter(code: str):\n",
    "    \"\"\"Call to execute python code.\"\"\"\n",
    "    return PythonAstREPLTool().invoke(code)\n",
    "\n",
    "# 다음으로는 `ToolNode` 를 사용하여 도구를 호출하는 방법을 살펴보겠습니다.\n",
    "# 도구 리스트 생성\n",
    "tools = [search_news, python_code_interpreter]\n",
    "\n",
    "# ToolNode 초기화\n",
    "tool_node = ToolNode(tools)"
   ]
  },
  {
   "cell_type": "markdown",
   "metadata": {},
   "source": [
    "###  `ToolNode`를 수동으로 호출하기\n",
    "\n",
    "`ToolNode`는 메시지 목록과 함께 그래프 상태에서 작동합니다. \n",
    "\n",
    "- **중요**: 이때 목록의 마지막 메시지는 `tool_calls` 속성을 포함하는 `AIMessage`여야 합니다.\n",
    "\n",
    "먼저 도구 노드를 수동으로 호출하는 방법을 살펴보겠습니다."
   ]
  },
  {
   "cell_type": "code",
   "execution_count": 12,
   "metadata": {},
   "outputs": [
    {
     "data": {
      "text/plain": [
       "{'messages': [ToolMessage(content='[{\"url\": \"https://news.google.com/rss/articles/CBMiakFVX3lxTE5zT3VxSkxjUW1fMEJVU3J6TVhFYkF4QkhZUC1KVHFmeXhNQk9UemVEQi1IVUdrbUV0S2FPdkZYWDVMZmczRnhVcTZzcVlQQk44MTg4emkyTG05d3ZiOTFhdVpyRHJwa2ExY3c?oc=5\", \"content\": \"\\\\uc624\\\\ud508AI, \\\\uac00\\\\uc7a5 \\\\ud070 AI \\\\ubaa8\\\\ub378 \\'GPT-4.5\\' \\\\uacf5\\\\uac1c...\\\\ube44\\\\ucd94\\\\ub860 \\\\ubaa8\\\\ub378 \\\\ud55c\\\\uacc4 \\\\ubcf4\\\\uc5ec\\\\uc918 - AI\\\\ud0c0\\\\uc784\\\\uc2a4\"}, {\"url\": \"https://news.google.com/rss/articles/CBMiW0FVX3lxTE1KSUV3VUUwQThfWTlGMFBqLXJ2RnZxdWFNbmllQTVmVVVwc3ZDZVpvMXkyQVZsUjZjNG44TTJTdElibUpwQlFGZEJjcEhNV2ZtTmdGQ25haXV4OGvSAWBBVV95cUxQeTFzVC1kTkxuc1JHOUtLM25lUjV6b2hXcUs3V3NqQjFfWG1xWjlVZ3V1eFFCT2p2eWpwRE1aekpBX2ZJNnBHWHJoVm4yLXl2MnhtVmtTcVc5aGl5MTd6QVM?oc=5\", \"content\": \"\\\\uc624\\\\ud508AI, \\\\ucd5c\\\\uc2e0 AI \\\\ubaa8\\\\ub378 GPT-4.5 \\\\ucd9c\\\\uc2dc\\\\u2026\\\\\"\\\\ub300\\\\ud654\\\\ud615 \\\\ubaa8\\\\ub378 \\\\ucd5c\\\\uac15\\\\\" - \\\\uc5f0\\\\ud569\\\\ub274\\\\uc2a4\"}, {\"url\": \"https://news.google.com/rss/articles/CBMiggFBVV95cUxQQVRHMnJkZFpjbVR2NGNOZEpuZHV6UXQ0UlotVnlTN0FFcDBJcW5JYXRwR25oN0dmbEh2di1jbHFSZEtfUG5KS0RCTHlJTEo4a3dSdUVjZ1FtR0xndHpIdGhnUmpXTlV4cHR2aTZTOEo2WGhseHpTaFR2RUk4ejVVdHZR0gGWAUFVX3lxTE1fTHMzcnFuYW5iUFVadGtzV2NuYmpybUl3N3lZUGJsM2llZFh4VmVrY2tOSnN1YnhVMXBXRlB4U1NyaGhWS21DWFZobktvMDNiRnJ4eUxKTjF2a2tZd3dBckNYaXVhaTRSSUN0M0ZxdFVwTC1qNEZ5WjZiY3NMaTZmd2lzb1RMbmtEZ19sdUVqQ05TSlVBZw?oc=5\", \"content\": \"\\\\u201cAI \\\\uc131\\\\ub2a5 \\\\uac1c\\\\uc120 \\\\ud55c\\\\uacc4 \\\\uc654\\\\ub098\\\\u201d\\\\u2026 \\\\uc624\\\\ud508AI GPT-4.5, \\\\uc131\\\\ub2a5\\\\u00b7\\\\uac00\\\\uaca9 \\\\ub17c\\\\ub780 - \\\\uc870\\\\uc120\\\\ube44\\\\uc988 - \\\\uc870\\\\uc120\\\\ube44\\\\uc988\"}, {\"url\": \"https://news.google.com/rss/articles/CBMiggFBVV95cUxQb0JUMTlpUDlTUzlIeEdIdmtFakRrMjRjdnVJN1ZMM1JVZG12ZTFDaDlDd08wRjdKU1MtX212Vm1wVEZiU3ZsUVVCSFVhZWQ1VWhWWXBVSU1aWFRxMWhTVmhTOWhXeGU5V3h4YzNScTdiNk02eU1adERfZ0F4VEtLdDFB0gGWAUFVX3lxTE1IVHhNNGx3cmhrOHVQVWlDSlBNLWpPWWRpVkZ4cDltZXppU0xtR0pBWS1qOWpIbjdlSmlWeWN5Um5mVTJ4MTdmTjFpYTVISndvTEVmRGhXSGdScURkRlBSTDd2TFpIYnZuWndCd2pVaDhfYkdreVdhZkFZUERmd0tlWVF4ejBnSEI1MEpBWFV4SEUtVVdvUQ?oc=5\", \"content\": \"AI \\\\uc5f4\\\\ud48d\\\\uc5d0 \\\\ud2b9\\\\uc131\\\\ud654\\\\uace0 \\\\uc774\\\\ub984\\\\ub3c4 \\\\u2018\\\\uc778\\\\uacf5\\\\uc9c0\\\\ub2a5\\\\uace0\\\\u2019\\\\ub85c\\\\u2026 \\\\u201c\\\\uac04\\\\ud310\\\\ub9cc \\\\ubc14\\\\uafb8\\\\uba74 \\\\ud63c\\\\ub780\\\\ub9cc \\\\ucd08\\\\ub798\\\\u201d - \\\\uc870\\\\uc120\\\\ube44\\\\uc988 - \\\\uc870\\\\uc120\\\\ube44\\\\uc988\"}, {\"url\": \"https://news.google.com/rss/articles/CBMicEFVX3lxTE5iaE5sLUZmclQ5aHRTN3VQZ3lfWWcxbEJXTlBORnZHbDN3RmZ3MWxSU0ZGWUFtUW9QdndMMjd3ci1WZEJvRFlDRU9mMGE4QjlGcExtV3lpa1JQNG5rNWR0MWlLNkRabHNtVHVZcU1Yb2M?oc=5\", \"content\": \"[\\\\ubc30\\\\uc885\\\\ucc2c\\\\uc758 \\\\ubcf4\\\\uc548 \\\\ube45\\\\ub370\\\\uc774\\\\ud130] AI\\\\uae30\\\\ubcf8\\\\ubc95\\\\uc5d0\\\\ub3c4 \\\\ubb34\\\\ub108\\\\uc9c0\\\\ub294 \\\\u2018AI\\\\uac15\\\\uad6d\\\\u2019\\\\uc758 \\\\uafc8 - \\\\ubcf4\\\\uc548\\\\ub274\\\\uc2a4\"}]', name='search_news', tool_call_id='tool_call_id')]}"
      ]
     },
     "execution_count": 12,
     "metadata": {},
     "output_type": "execute_result"
    }
   ],
   "source": [
    "from langchain_core.messages import AIMessage\n",
    "\n",
    "# 단일 도구 호출을 포함하는 AI 메시지 객체 생성\n",
    "# AIMessage 객체이어야 함\n",
    "message_with_single_tool_call = AIMessage(\n",
    "    content=\"\",\n",
    "    tool_calls=[\n",
    "        {\n",
    "            \"name\": \"search_news\",  # 도구 이름 <------이름 명시하여 지정해서 사용 가능\n",
    "            \"args\": {\"query\": \"AI\"},  # 도구 인자\n",
    "            \"id\": \"tool_call_id\",  # 도구 호출 ID\n",
    "            \"type\": \"tool_call\",  # 도구 호출 유형\n",
    "        }\n",
    "    ],\n",
    ")\n",
    "\n",
    "# 도구 노드를 통한 메시지 처리 및 날씨 정보 요청 실행\n",
    "tool_node.invoke({\"messages\": [message_with_single_tool_call]})"
   ]
  },
  {
   "cell_type": "markdown",
   "metadata": {},
   "source": [
    "일반적으로 `AIMessage`를 수동으로 생성할 필요가 없으며, 도구 호출을 지원하는 모든 LangChain 채팅 모델에서 자동으로 생성됩니다.\n",
    "\n",
    "또한 `AIMessage`의 `tol_callos` 매개변수에 여러 도구 호출을 전달하면 `ToolNode`를 사용하여 병렬 도구 호출을 수행할 수 있습니다."
   ]
  },
  {
   "cell_type": "code",
   "execution_count": 13,
   "metadata": {},
   "outputs": [
    {
     "data": {
      "text/plain": [
       "{'messages': [ToolMessage(content='[{\"url\": \"https://news.google.com/rss/articles/CBMiakFVX3lxTE5zT3VxSkxjUW1fMEJVU3J6TVhFYkF4QkhZUC1KVHFmeXhNQk9UemVEQi1IVUdrbUV0S2FPdkZYWDVMZmczRnhVcTZzcVlQQk44MTg4emkyTG05d3ZiOTFhdVpyRHJwa2ExY3c?oc=5\", \"content\": \"\\\\uc624\\\\ud508AI, \\\\uac00\\\\uc7a5 \\\\ud070 AI \\\\ubaa8\\\\ub378 \\'GPT-4.5\\' \\\\uacf5\\\\uac1c...\\\\ube44\\\\ucd94\\\\ub860 \\\\ubaa8\\\\ub378 \\\\ud55c\\\\uacc4 \\\\ubcf4\\\\uc5ec\\\\uc918 - AI\\\\ud0c0\\\\uc784\\\\uc2a4\"}, {\"url\": \"https://news.google.com/rss/articles/CBMiW0FVX3lxTE1KSUV3VUUwQThfWTlGMFBqLXJ2RnZxdWFNbmllQTVmVVVwc3ZDZVpvMXkyQVZsUjZjNG44TTJTdElibUpwQlFGZEJjcEhNV2ZtTmdGQ25haXV4OGvSAWBBVV95cUxQeTFzVC1kTkxuc1JHOUtLM25lUjV6b2hXcUs3V3NqQjFfWG1xWjlVZ3V1eFFCT2p2eWpwRE1aekpBX2ZJNnBHWHJoVm4yLXl2MnhtVmtTcVc5aGl5MTd6QVM?oc=5\", \"content\": \"\\\\uc624\\\\ud508AI, \\\\ucd5c\\\\uc2e0 AI \\\\ubaa8\\\\ub378 GPT-4.5 \\\\ucd9c\\\\uc2dc\\\\u2026\\\\\"\\\\ub300\\\\ud654\\\\ud615 \\\\ubaa8\\\\ub378 \\\\ucd5c\\\\uac15\\\\\" - \\\\uc5f0\\\\ud569\\\\ub274\\\\uc2a4\"}, {\"url\": \"https://news.google.com/rss/articles/CBMiggFBVV95cUxQQVRHMnJkZFpjbVR2NGNOZEpuZHV6UXQ0UlotVnlTN0FFcDBJcW5JYXRwR25oN0dmbEh2di1jbHFSZEtfUG5KS0RCTHlJTEo4a3dSdUVjZ1FtR0xndHpIdGhnUmpXTlV4cHR2aTZTOEo2WGhseHpTaFR2RUk4ejVVdHZR0gGWAUFVX3lxTE1fTHMzcnFuYW5iUFVadGtzV2NuYmpybUl3N3lZUGJsM2llZFh4VmVrY2tOSnN1YnhVMXBXRlB4U1NyaGhWS21DWFZobktvMDNiRnJ4eUxKTjF2a2tZd3dBckNYaXVhaTRSSUN0M0ZxdFVwTC1qNEZ5WjZiY3NMaTZmd2lzb1RMbmtEZ19sdUVqQ05TSlVBZw?oc=5\", \"content\": \"\\\\u201cAI \\\\uc131\\\\ub2a5 \\\\uac1c\\\\uc120 \\\\ud55c\\\\uacc4 \\\\uc654\\\\ub098\\\\u201d\\\\u2026 \\\\uc624\\\\ud508AI GPT-4.5, \\\\uc131\\\\ub2a5\\\\u00b7\\\\uac00\\\\uaca9 \\\\ub17c\\\\ub780 - \\\\uc870\\\\uc120\\\\ube44\\\\uc988 - \\\\uc870\\\\uc120\\\\ube44\\\\uc988\"}, {\"url\": \"https://news.google.com/rss/articles/CBMiggFBVV95cUxQb0JUMTlpUDlTUzlIeEdIdmtFakRrMjRjdnVJN1ZMM1JVZG12ZTFDaDlDd08wRjdKU1MtX212Vm1wVEZiU3ZsUVVCSFVhZWQ1VWhWWXBVSU1aWFRxMWhTVmhTOWhXeGU5V3h4YzNScTdiNk02eU1adERfZ0F4VEtLdDFB0gGWAUFVX3lxTE1IVHhNNGx3cmhrOHVQVWlDSlBNLWpPWWRpVkZ4cDltZXppU0xtR0pBWS1qOWpIbjdlSmlWeWN5Um5mVTJ4MTdmTjFpYTVISndvTEVmRGhXSGdScURkRlBSTDd2TFpIYnZuWndCd2pVaDhfYkdreVdhZkFZUERmd0tlWVF4ejBnSEI1MEpBWFV4SEUtVVdvUQ?oc=5\", \"content\": \"AI \\\\uc5f4\\\\ud48d\\\\uc5d0 \\\\ud2b9\\\\uc131\\\\ud654\\\\uace0 \\\\uc774\\\\ub984\\\\ub3c4 \\\\u2018\\\\uc778\\\\uacf5\\\\uc9c0\\\\ub2a5\\\\uace0\\\\u2019\\\\ub85c\\\\u2026 \\\\u201c\\\\uac04\\\\ud310\\\\ub9cc \\\\ubc14\\\\uafb8\\\\uba74 \\\\ud63c\\\\ub780\\\\ub9cc \\\\ucd08\\\\ub798\\\\u201d - \\\\uc870\\\\uc120\\\\ube44\\\\uc988 - \\\\uc870\\\\uc120\\\\ube44\\\\uc988\"}, {\"url\": \"https://news.google.com/rss/articles/CBMicEFVX3lxTE5iaE5sLUZmclQ5aHRTN3VQZ3lfWWcxbEJXTlBORnZHbDN3RmZ3MWxSU0ZGWUFtUW9QdndMMjd3ci1WZEJvRFlDRU9mMGE4QjlGcExtV3lpa1JQNG5rNWR0MWlLNkRabHNtVHVZcU1Yb2M?oc=5\", \"content\": \"[\\\\ubc30\\\\uc885\\\\ucc2c\\\\uc758 \\\\ubcf4\\\\uc548 \\\\ube45\\\\ub370\\\\uc774\\\\ud130] AI\\\\uae30\\\\ubcf8\\\\ubc95\\\\uc5d0\\\\ub3c4 \\\\ubb34\\\\ub108\\\\uc9c0\\\\ub294 \\\\u2018AI\\\\uac15\\\\uad6d\\\\u2019\\\\uc758 \\\\uafc8 - \\\\ubcf4\\\\uc548\\\\ub274\\\\uc2a4\"}]', name='search_news', tool_call_id='tool_call_id'),\n",
       "  ToolMessage(content='10\\n', name='python_code_interpreter', tool_call_id='tool_call_id')]}"
      ]
     },
     "execution_count": 13,
     "metadata": {},
     "output_type": "execute_result"
    }
   ],
   "source": [
    "# 다중 도구 호출을 포함하는 AI 메시지 객체 생성 및 초기화\n",
    "message_with_multiple_tool_calls = AIMessage(\n",
    "    content=\"\",\n",
    "    tool_calls=[\n",
    "        {\n",
    "            \"name\": \"search_news\",\n",
    "            \"args\": {\"query\": \"AI\"},\n",
    "            \"id\": \"tool_call_id\",\n",
    "            \"type\": \"tool_call\",\n",
    "        },\n",
    "        {\n",
    "            \"name\": \"python_code_interpreter\",\n",
    "            \"args\": {\"code\": \"print(1+2+3+4)\"},\n",
    "            \"id\": \"tool_call_id\",\n",
    "            \"type\": \"tool_call\",\n",
    "        },\n",
    "    ],\n",
    ")\n",
    "\n",
    "# 생성된 메시지를 도구 노드에 전달하여 다중 도구 호출 실행\n",
    "tool_node.invoke({\"messages\": [message_with_multiple_tool_calls]})"
   ]
  },
  {
   "cell_type": "markdown",
   "metadata": {},
   "source": [
    "### llm 과 함께 사용하기\n",
    "\n",
    "도구 호출 기능이 있는 채팅 모델을 사용하기 위해서는 먼저 모델이 사용 가능한 도구들을 인식하도록 해야 합니다. \n",
    "\n",
    "이는 `ChatOpenAI` 모델에서 `.bind_tools` 메서드를 호출하여 수행합니다."
   ]
  },
  {
   "cell_type": "code",
   "execution_count": 14,
   "metadata": {},
   "outputs": [],
   "source": [
    "# LLM 모델 초기화 및 도구 바인딩\n",
    "model_with_tools = ChatOpenAI(model=\"gpt-4o-mini\", temperature=0).bind_tools(tools)"
   ]
  },
  {
   "cell_type": "code",
   "execution_count": 15,
   "metadata": {},
   "outputs": [
    {
     "data": {
      "text/plain": [
       "[{'name': 'python_code_interpreter',\n",
       "  'args': {'code': 'def first_n_primes(n):\\n    primes = []\\n    num = 2  # Starting from the first prime number\\n    while len(primes) < n:\\n        is_prime = True\\n        for i in range(2, int(num**0.5) + 1):\\n            if num % i == 0:\\n                is_prime = False\\n                break\\n        if is_prime:\\n            primes.append(num)\\n        num += 1\\n    return primes\\n\\n# Get the first 5 prime numbers\\nfirst_n_primes(5)'},\n",
       "  'id': 'call_yDgiERfBzf9ml2LGBA13vFFr',\n",
       "  'type': 'tool_call'}]"
      ]
     },
     "execution_count": 15,
     "metadata": {},
     "output_type": "execute_result"
    }
   ],
   "source": [
    "# 도구 호출 확인\n",
    "model_with_tools.invoke(\"처음 5개의 소수를 출력하는 python code 를 작성해줘\").tool_calls"
   ]
  },
  {
   "cell_type": "markdown",
   "metadata": {},
   "source": [
    "- 보시다시피 채팅 모델이 생성한 AI 메시지에는 이미 `tool_calls`가 채워져 있으므로, 이를 `ToolNode`에 직접 전달할 수 있습니다.\n",
    "- 위에서 ToolNode를 수동으로 호출하기 위해 tool_calls 넣어준 것과 같음"
   ]
  },
  {
   "cell_type": "code",
   "execution_count": 16,
   "metadata": {},
   "outputs": [
    {
     "data": {
      "text/plain": [
       "{'messages': [ToolMessage(content='[2, 3, 5, 7, 11]', name='python_code_interpreter', tool_call_id='call_BMjg9OdoJsclgobu2J3R4MeT')]}"
      ]
     },
     "execution_count": 16,
     "metadata": {},
     "output_type": "execute_result"
    }
   ],
   "source": [
    "# 도구 노드를 통한 메시지 처리 및 LLM 모델의 도구 기반 응답 생성\n",
    "tool_node.invoke(\n",
    "    {\n",
    "        \"messages\": [\n",
    "            model_with_tools.invoke(\n",
    "                \"처음 5개의 소수를 출력하는 python code 를 작성해줘\"\n",
    "            )\n",
    "        ]\n",
    "    }\n",
    ")"
   ]
  },
  {
   "cell_type": "markdown",
   "metadata": {},
   "source": [
    "### Agent 와 함께 사용하기\n",
    "\n",
    "다음으로, LangGraph 그래프 내에서 `ToolNode`를 사용하는 방법을 살펴보겠습니다. \n",
    "\n",
    "Agent 의 그래프 구현을 설정해보겠습니다. 이 **Agent** 는 쿼리를 입력으로 받아, 쿼리를 해결하는 데 필요한 충분한 정보를 얻을 때까지 반복적으로 도구들을 호출합니다. \n",
    "\n",
    "방금 정의한 도구들과 함께 `ToolNode` 및 OpenAI 모델을 사용하게 됩니다."
   ]
  },
  {
   "cell_type": "code",
   "execution_count": 17,
   "metadata": {},
   "outputs": [
    {
     "data": {
      "image/jpeg": "[encoded data removed]",
      "text/plain": [
       "<IPython.core.display.Image object>"
      ]
     },
     "metadata": {},
     "output_type": "display_data"
    }
   ],
   "source": [
    "# LangGraph 워크플로우 상태 및 메시지 처리를 위한 타입 임포트\n",
    "from langgraph.graph import StateGraph, MessagesState, START, END\n",
    "\n",
    "\n",
    "# LLM 모델을 사용하여 메시지 처리 및 응답 생성, 도구 호출이 포함된 응답 반환\n",
    "def call_model(state: MessagesState):\n",
    "    messages = state[\"messages\"]\n",
    "    response = model_with_tools.invoke(messages)\n",
    "    return {\"messages\": [response]}\n",
    "\n",
    "\n",
    "# 메시지 상태 기반 워크플로우 그래프 초기화\n",
    "workflow = StateGraph(MessagesState)\n",
    "\n",
    "# 에이전트와 도구 노드 정의 및 워크플로우 그래프에 추가\n",
    "workflow.add_node(\"agent\", call_model)\n",
    "workflow.add_node(\"tools\", tool_node)\n",
    "\n",
    "# 워크플로우 시작점에서 에이전트 노드로 연결\n",
    "workflow.add_edge(START, \"agent\")\n",
    "\n",
    "# 에이전트 노드에서 조건부 분기 설정, 도구 노드 또는 종료 지점으로 연결\n",
    "workflow.add_conditional_edges(\"agent\", tools_condition)\n",
    "\n",
    "# 도구 노드에서 에이전트 노드로 순환 연결\n",
    "workflow.add_edge(\"tools\", \"agent\")\n",
    "\n",
    "# 에이전트 노드에서 종료 지점으로 연결\n",
    "workflow.add_edge(\"agent\", END)\n",
    "\n",
    "\n",
    "# 정의된 워크플로우 그래프 컴파일 및 실행 가능한 애플리케이션 생성\n",
    "app = workflow.compile()\n",
    "\n",
    "visualize_graph(app)"
   ]
  },
  {
   "cell_type": "code",
   "execution_count": 18,
   "metadata": {},
   "outputs": [
    {
     "name": "stdout",
     "output_type": "stream",
     "text": [
      "================================\u001b[1m Human Message \u001b[0m=================================\n",
      "\n",
      "처음 5개의 소수를 출력하는 python code 를 작성해줘\n",
      "==================================\u001b[1m Ai Message \u001b[0m==================================\n",
      "Tool Calls:\n",
      "  python_code_interpreter (call_dRzshEwCjt8VuCbQdb772Mhr)\n",
      " Call ID: call_dRzshEwCjt8VuCbQdb772Mhr\n",
      "  Args:\n",
      "    code: def first_n_primes(n):\n",
      "    primes = []\n",
      "    num = 2  # Starting from the first prime number\n",
      "    while len(primes) < n:\n",
      "        is_prime = True\n",
      "        for i in range(2, int(num**0.5) + 1):\n",
      "            if num % i == 0:\n",
      "                is_prime = False\n",
      "                break\n",
      "        if is_prime:\n",
      "            primes.append(num)\n",
      "        num += 1\n",
      "    return primes\n",
      "\n",
      "# Get the first 5 prime numbers\n",
      "first_n_primes(5)\n",
      "=================================\u001b[1m Tool Message \u001b[0m=================================\n",
      "Name: python_code_interpreter\n",
      "\n",
      "[2, 3, 5, 7, 11]\n",
      "==================================\u001b[1m Ai Message \u001b[0m==================================\n",
      "\n",
      "처음 5개의 소수는 다음과 같습니다: [2, 3, 5, 7, 11]\n"
     ]
    }
   ],
   "source": [
    "# 실행 및 결과 확인\n",
    "for chunk in app.stream(\n",
    "    {\"messages\": [(\"human\", \"처음 5개의 소수를 출력하는 python code 를 작성해줘\")]},\n",
    "    stream_mode=\"values\",\n",
    "):\n",
    "    # 마지막 메시지 출력\n",
    "    chunk[\"messages\"][-1].pretty_print()"
   ]
  },
  {
   "cell_type": "code",
   "execution_count": 19,
   "metadata": {},
   "outputs": [
    {
     "name": "stdout",
     "output_type": "stream",
     "text": [
      "================================\u001b[1m Human Message \u001b[0m=================================\n",
      "\n",
      "search google news about AI\n",
      "==================================\u001b[1m Ai Message \u001b[0m==================================\n",
      "Tool Calls:\n",
      "  search_news (call_HKDIXkzkvxSRh8QlRutDd9xe)\n",
      " Call ID: call_HKDIXkzkvxSRh8QlRutDd9xe\n",
      "  Args:\n",
      "    query: AI\n",
      "=================================\u001b[1m Tool Message \u001b[0m=================================\n",
      "Name: search_news\n",
      "\n",
      "[{\"url\": \"https://news.google.com/rss/articles/CBMiakFVX3lxTE5zT3VxSkxjUW1fMEJVU3J6TVhFYkF4QkhZUC1KVHFmeXhNQk9UemVEQi1IVUdrbUV0S2FPdkZYWDVMZmczRnhVcTZzcVlQQk44MTg4emkyTG05d3ZiOTFhdVpyRHJwa2ExY3c?oc=5\", \"content\": \"\\uc624\\ud508AI, \\uac00\\uc7a5 \\ud070 AI \\ubaa8\\ub378 'GPT-4.5' \\uacf5\\uac1c...\\ube44\\ucd94\\ub860 \\ubaa8\\ub378 \\ud55c\\uacc4 \\ubcf4\\uc5ec\\uc918 - AI\\ud0c0\\uc784\\uc2a4\"}, {\"url\": \"https://news.google.com/rss/articles/CBMiW0FVX3lxTE1KSUV3VUUwQThfWTlGMFBqLXJ2RnZxdWFNbmllQTVmVVVwc3ZDZVpvMXkyQVZsUjZjNG44TTJTdElibUpwQlFGZEJjcEhNV2ZtTmdGQ25haXV4OGvSAWBBVV95cUxQeTFzVC1kTkxuc1JHOUtLM25lUjV6b2hXcUs3V3NqQjFfWG1xWjlVZ3V1eFFCT2p2eWpwRE1aekpBX2ZJNnBHWHJoVm4yLXl2MnhtVmtTcVc5aGl5MTd6QVM?oc=5\", \"content\": \"\\uc624\\ud508AI, \\ucd5c\\uc2e0 AI \\ubaa8\\ub378 GPT-4.5 \\ucd9c\\uc2dc\\u2026\\\"\\ub300\\ud654\\ud615 \\ubaa8\\ub378 \\ucd5c\\uac15\\\" - \\uc5f0\\ud569\\ub274\\uc2a4\"}, {\"url\": \"https://news.google.com/rss/articles/CBMiggFBVV95cUxQQVRHMnJkZFpjbVR2NGNOZEpuZHV6UXQ0UlotVnlTN0FFcDBJcW5JYXRwR25oN0dmbEh2di1jbHFSZEtfUG5KS0RCTHlJTEo4a3dSdUVjZ1FtR0xndHpIdGhnUmpXTlV4cHR2aTZTOEo2WGhseHpTaFR2RUk4ejVVdHZR0gGWAUFVX3lxTE1fTHMzcnFuYW5iUFVadGtzV2NuYmpybUl3N3lZUGJsM2llZFh4VmVrY2tOSnN1YnhVMXBXRlB4U1NyaGhWS21DWFZobktvMDNiRnJ4eUxKTjF2a2tZd3dBckNYaXVhaTRSSUN0M0ZxdFVwTC1qNEZ5WjZiY3NMaTZmd2lzb1RMbmtEZ19sdUVqQ05TSlVBZw?oc=5\", \"content\": \"\\u201cAI \\uc131\\ub2a5 \\uac1c\\uc120 \\ud55c\\uacc4 \\uc654\\ub098\\u201d\\u2026 \\uc624\\ud508AI GPT-4.5, \\uc131\\ub2a5\\u00b7\\uac00\\uaca9 \\ub17c\\ub780 - \\uc870\\uc120\\ube44\\uc988 - \\uc870\\uc120\\ube44\\uc988\"}, {\"url\": \"https://news.google.com/rss/articles/CBMiggFBVV95cUxQb0JUMTlpUDlTUzlIeEdIdmtFakRrMjRjdnVJN1ZMM1JVZG12ZTFDaDlDd08wRjdKU1MtX212Vm1wVEZiU3ZsUVVCSFVhZWQ1VWhWWXBVSU1aWFRxMWhTVmhTOWhXeGU5V3h4YzNScTdiNk02eU1adERfZ0F4VEtLdDFB0gGWAUFVX3lxTE1IVHhNNGx3cmhrOHVQVWlDSlBNLWpPWWRpVkZ4cDltZXppU0xtR0pBWS1qOWpIbjdlSmlWeWN5Um5mVTJ4MTdmTjFpYTVISndvTEVmRGhXSGdScURkRlBSTDd2TFpIYnZuWndCd2pVaDhfYkdreVdhZkFZUERmd0tlWVF4ejBnSEI1MEpBWFV4SEUtVVdvUQ?oc=5\", \"content\": \"AI \\uc5f4\\ud48d\\uc5d0 \\ud2b9\\uc131\\ud654\\uace0 \\uc774\\ub984\\ub3c4 \\u2018\\uc778\\uacf5\\uc9c0\\ub2a5\\uace0\\u2019\\ub85c\\u2026 \\u201c\\uac04\\ud310\\ub9cc \\ubc14\\uafb8\\uba74 \\ud63c\\ub780\\ub9cc \\ucd08\\ub798\\u201d - \\uc870\\uc120\\ube44\\uc988 - \\uc870\\uc120\\ube44\\uc988\"}, {\"url\": \"https://news.google.com/rss/articles/CBMicEFVX3lxTE5iaE5sLUZmclQ5aHRTN3VQZ3lfWWcxbEJXTlBORnZHbDN3RmZ3MWxSU0ZGWUFtUW9QdndMMjd3ci1WZEJvRFlDRU9mMGE4QjlGcExtV3lpa1JQNG5rNWR0MWlLNkRabHNtVHVZcU1Yb2M?oc=5\", \"content\": \"[\\ubc30\\uc885\\ucc2c\\uc758 \\ubcf4\\uc548 \\ube45\\ub370\\uc774\\ud130] AI\\uae30\\ubcf8\\ubc95\\uc5d0\\ub3c4 \\ubb34\\ub108\\uc9c0\\ub294 \\u2018AI\\uac15\\uad6d\\u2019\\uc758 \\uafc8 - \\ubcf4\\uc548\\ub274\\uc2a4\"}]\n",
      "==================================\u001b[1m Ai Message \u001b[0m==================================\n",
      "\n",
      "Here are some recent news articles about AI:\n",
      "\n",
      "1. **AI and the New GPT-4.5 Model**  \n",
      "   [Read more](https://news.google.com/rss/articles/CBMiakFVX3lxTE5zT3VxSkxjUW1fMEJVU3J6TVhFYkF4QkhZUC1KVHFmeXhNQk9UemVEQi1IVUdrbUV0S2FPdkZYWDVMZmczRnhVcTZzcVlQQk44MTg4emkyTG05d3ZiOTFhdVpyRHJwa2ExY3c?oc=5)  \n",
      "   Content: Discusses the latest developments in AI, particularly focusing on the new AI model 'GPT-4.5'.\n",
      "\n",
      "2. **AI's Latest Developments**  \n",
      "   [Read more](https://news.google.com/rss/articles/CBMiW0FVX3lxTE1KSUV3VUUwQThfWTlGMFBqLXJ2RnZxdWFNbmllQTVmVVVwc3ZDZVpvMXkyQVZsUjZjNG44TTJTdElibUpwQlFGZEJjcEhNV2ZtTmdGQ25haXV4OGvSAWBBVV95cUxQeTFzVC1kTkxuc1JHOUtLM25lUjV6b2hXcUs3V3NqQjFfWG1xWjlVZ3V1eFFCT2p2eWpwRE1aekpBX2ZJNnBHWHJoVm4yLXl2MnhtVmtTcVc5aGl5MTd6QVM?oc=5)  \n",
      "   Content: Covers the advancements in AI technology, particularly the GPT-4.5 model.\n",
      "\n",
      "3. **AI's Impact on Decision-Making**  \n",
      "   [Read more](https://news.google.com/rss/articles/CBMiggFBVV95cUxQQVRHMnJkZFpjbVR2NGNOZEpuZHV6UXQ0UlotVnlTN0FFcDBJcW5JYXRwR25oN0dmbEh2di1jbHFSZEtfUG5KS0RCTHlJTEo4a3dSdUVjZ1FtR0xndHpIdGhnUmpXTlV4cHR2aTZTOEo2WGhseHpTaFR2RUk4ejVVdHZR0gGWAUFVX3lxTE1fTHMzcnFuYW5iUFVadGtzV2NuYmpybUl3N3lZUGJsM2llZFh4VmVrY2tOSnN1YnhVMXBXRlB4U1NyaGhWS21DWFZobktvMDNiRnJ4eUxKTjF2a2tZd3dBckNYaXVhaTRSSUN0M0ZxdFVwTC1qNEZ5WjZiY3NMaTZmd2lzb1RMbmtEZ19sdUVqQ05TSlVBZw?oc=5)  \n",
      "   Content: Discusses how AI influences decision-making processes in various sectors.\n",
      "\n",
      "4. **AI and Personalization**  \n",
      "   [Read more](https://news.google.com/rss/articles/CBMiggFBVV95cUxQb0JUMTlpUDlTUzlIeEdIdmtFakRrMjRjdnVJN1ZMM1JVZG12ZTFDaDlDd08wRjdKU1MtX212Vm1wVEZiU3ZsUVVCSFVhZWQ1VWhWWXBVSU1aWFRxMWhTVmhTOWhXeGU5V3h4YzNScTdiNk02eU1adERfZ0F4VEtLdDFB0gGWAUFVX3lxTE1IVHhNNGx3cmhrOHVQVWlDSlBNLWpPWWRpVkZ4cDltZXppU0xtR0pBWS1qOWpIbjdlSmlWeWN5Um5mVTJ4MTdmTjFpYTVISndvTEVmRGhXSGdScURkRlBSTDd2TFpIYnZuWndCd2pVaDhfYkdreVdhZkFZUERmd0tlWVF4ejBnSEI1MEpBWFV4SEUtVVdvUQ?oc=5)  \n",
      "   Content: Explores how AI is used for personalization in various applications.\n",
      "\n",
      "5. **AI and Ethical Considerations**  \n",
      "   [Read more](https://news.google.com/rss/articles/CBMicEFVX3lxTE5iaE5sLUZmclQ5aHRTN3VQZ3lfWWcxbEJXTlBORnZHbDN3RmZ3MWxSU0ZGWUFtUW9QdndMMjd3ci1WZEJvRFlDRU9mMGE4QjlGcExtV3lpa1JQNG5rNWR0MWlLNkRabHNtVHVZcU1Yb2M?oc=5)  \n",
      "   Content: Discusses the ethical implications of AI technologies and their governance.\n",
      "\n",
      "Feel free to click on the links to read more about each topic!\n"
     ]
    }
   ],
   "source": [
    "# 검색 질문 수행\n",
    "for chunk in app.stream(\n",
    "    {\"messages\": [(\"human\", \"search google news about AI\")]},\n",
    "    stream_mode=\"values\",\n",
    "):\n",
    "    chunk[\"messages\"][-1].pretty_print()"
   ]
  },
  {
   "cell_type": "code",
   "execution_count": 20,
   "metadata": {},
   "outputs": [
    {
     "name": "stdout",
     "output_type": "stream",
     "text": [
      "================================\u001b[1m Human Message \u001b[0m=================================\n",
      "\n",
      "안녕? 반가워\n",
      "==================================\u001b[1m Ai Message \u001b[0m==================================\n",
      "\n",
      "안녕하세요! 반가워요. 어떻게 도와드릴까요?\n"
     ]
    }
   ],
   "source": [
    "# 도구 호출이 필요 없는 질문 수행\n",
    "for chunk in app.stream(\n",
    "    {\"messages\": [(\"human\", \"안녕? 반가워\")]},\n",
    "    stream_mode=\"values\",\n",
    "):\n",
    "    chunk[\"messages\"][-1].pretty_print()"
   ]
  },
  {
   "cell_type": "markdown",
   "metadata": {},
   "source": [
    "- `ToolNode`는 도구 실행 중 발생하는 오류도 처리할 수 있습니다. \n",
    "\n",
    "- `handle_tool_errors=True`를 설정하여 이 기능을 활성화/비활성화할 수 있습니다(기본적으로 활성화되어 있음)"
   ]
  },
  {
   "cell_type": "markdown",
   "metadata": {},
   "source": [
    "# 10) 병렬 노드 실행을 위한 분기 생성 방법\n",
    "\n",
    "![](image/langgraph-09.jpeg)\n",
    "\n",
    "노드의 병렬 실행은 전체 그래프 작업의 속도를 향상시키는 데 필수적입니다. `LangGraph`는 노드의 병렬 실행을 기본적으로 지원하며, 이는 그래프 기반 워크플로우의 성능을 크게 향상시킬 수 있습니다. \n",
    "\n",
    "이러한 병렬화는 **fan-out**과 **fan-in** 메커니즘을 통해 구현되며, 표준 엣지와 `conditional_edges` 를 활용합니다. "
   ]
  },
  {
   "cell_type": "code",
   "execution_count": 1,
   "metadata": {},
   "outputs": [
    {
     "data": {
      "text/plain": [
       "True"
      ]
     },
     "execution_count": 1,
     "metadata": {},
     "output_type": "execute_result"
    }
   ],
   "source": [
    "# API 키를 환경변수로 관리하기 위한 설정 파일\n",
    "from dotenv import load_dotenv\n",
    "\n",
    "# API 키 정보 로드\n",
    "load_dotenv()"
   ]
  },
  {
   "cell_type": "markdown",
   "metadata": {},
   "source": [
    "## 병렬 노드 fan-out 및 fan-in\n",
    "\n",
    "**fan-out / fan-in**\n",
    "\n",
    "병렬 처리에서 **fan-out**과 **fan-in**은 작업을 나누고 모으는 과정을 설명하는 개념입니다.\n",
    "\n",
    "- **Fan-out (확장)**: 큰 작업을 여러 작은 작업으로 쪼갭니다. 예를 들어, 피자를 만들 때 도우, 소스, 치즈 준비를 각각 별도로 할 수 있습니다. 이렇게 각각의 파트를 나눠 동시에 처리하는 것이 fan-out입니다.\n",
    "\n",
    "- **Fan-in (수집)**: 나뉜 작은 작업들을 다시 하나로 합칩니다. 피자에 준비된 재료들을 모두 올려 완성 피자를 만드는 과정처럼, 여러 작업이 끝나면 결과를 모아 최종 작업을 완성하는 것이 fan-in입니다.\n",
    "\n",
    "즉, **fan-out**으로 작업을 분산시키고, **fan-in**으로 결과를 합쳐 최종 결과를 얻는 흐름입니다.\n",
    "\n",
    "----\n",
    "\n",
    "이 예시에서는 `Node A`에서 `B and C`로 팬아웃하고 `D`로 팬인하는 과정을 보여줍니다. \n",
    "\n",
    "State에서는 `reducer(add)` 연산자를 지정합니다. 이는 State 내 특정 키의 기존 값을 단순히 덮어쓰는 대신 값들을 결합하거나 누적합니다. 리스트의 경우, 새로운 리스트를 기존 리스트와 연결하는 것을 의미합니다.\n",
    "\n",
    "LangGraph는 State의 특정 키에 대한 reducer 함수를 지정하기 위해 `Annotated` 타입을 사용합니다. 이는 타입 검사를 위해 원래 타입(`list`)을 유지하면서도, 타입 자체를 변경하지 않고 reducer 함수(`add`)를 타입에 첨부할 수 있게 합니다."
   ]
  },
  {
   "cell_type": "code",
   "execution_count": 2,
   "metadata": {},
   "outputs": [
    {
     "data": {
      "image/jpeg": "[encoded data removed]",
      "text/plain": [
       "<IPython.core.display.Image object>"
      ]
     },
     "metadata": {},
     "output_type": "display_data"
    }
   ],
   "source": [
    "from typing import Annotated, Any\n",
    "from typing_extensions import TypedDict\n",
    "from langgraph.graph import StateGraph, START, END\n",
    "from langgraph.graph.message import add_messages\n",
    "\n",
    "\n",
    "# 상태 정의(add_messages 리듀서 사용)\n",
    "class State(TypedDict):\n",
    "    aggregate: Annotated[list, add_messages]\n",
    "\n",
    "\n",
    "# 노드 값 반환 클래스\n",
    "class ReturnNodeValue:\n",
    "    # 초기화\n",
    "    def __init__(self, node_secret: str):\n",
    "        self._value = node_secret\n",
    "\n",
    "    # 호출시 상태 업데이트\n",
    "    def __call__(self, state: State) -> Any:\n",
    "        print(f\"Adding {self._value} to {state['aggregate']}\")\n",
    "        return {\"aggregate\": [self._value]}\n",
    "\n",
    "\n",
    "# 상태 그래프 초기화\n",
    "builder = StateGraph(State)\n",
    "\n",
    "# 노드 A부터 D까지 생성 및 값 할당\n",
    "builder.add_node(\"a\", ReturnNodeValue(\"I'm A\"))\n",
    "builder.add_edge(START, \"a\")\n",
    "builder.add_node(\"b\", ReturnNodeValue(\"I'm B\"))\n",
    "builder.add_node(\"c\", ReturnNodeValue(\"I'm C\"))\n",
    "builder.add_node(\"d\", ReturnNodeValue(\"I'm D\"))\n",
    "\n",
    "# 노드 연결\n",
    "builder.add_edge(\"a\", \"b\")\n",
    "builder.add_edge(\"a\", \"c\")\n",
    "builder.add_edge(\"b\", \"d\")\n",
    "builder.add_edge(\"c\", \"d\")\n",
    "builder.add_edge(\"d\", END)\n",
    "\n",
    "# 그래프 컴파일\n",
    "graph = builder.compile()\n",
    "\n",
    "from langchain_teddynote.graphs import visualize_graph\n",
    "\n",
    "visualize_graph(graph)"
   ]
  },
  {
   "cell_type": "code",
   "execution_count": 4,
   "metadata": {},
   "outputs": [
    {
     "name": "stdout",
     "output_type": "stream",
     "text": [
      "Adding I'm A to []\n",
      "Adding I'm B to [HumanMessage(content=\"I'm A\", id='55835ad6-97eb-44ce-8649-f36c0a57aada')]\n",
      "Adding I'm C to [HumanMessage(content=\"I'm A\", id='55835ad6-97eb-44ce-8649-f36c0a57aada')]\n",
      "Adding I'm D to [HumanMessage(content=\"I'm A\", id='55835ad6-97eb-44ce-8649-f36c0a57aada'), HumanMessage(content=\"I'm B\", id='9887ae4e-7fbf-4ed7-9250-52cec57410dd'), HumanMessage(content=\"I'm C\", id='60ae6921-26ce-46ac-bb2a-016088a1543d')]\n"
     ]
    },
    {
     "data": {
      "text/plain": [
       "{'aggregate': [HumanMessage(content=\"I'm A\", id='55835ad6-97eb-44ce-8649-f36c0a57aada'),\n",
       "  HumanMessage(content=\"I'm B\", id='9887ae4e-7fbf-4ed7-9250-52cec57410dd'),\n",
       "  HumanMessage(content=\"I'm C\", id='60ae6921-26ce-46ac-bb2a-016088a1543d'),\n",
       "  HumanMessage(content=\"I'm D\", id='bcfd354e-efff-43d9-839c-8eb5a9820f20')]}"
      ]
     },
     "execution_count": 4,
     "metadata": {},
     "output_type": "execute_result"
    }
   ],
   "source": [
    "# 그래프 실행\n",
    "# `reducer`를 통해 각 노드에 추가된 값들이 **누적**되는 것을 확인할 수 있습니다.\n",
    "\n",
    "graph.invoke({\"aggregate\": []}, {\"configurable\": {\"thread_id\": \"foo\"}})"
   ]
  },
  {
   "cell_type": "markdown",
   "metadata": {},
   "source": [
    "### 병렬처리 중 예외 발생시 대응\n",
    "\n",
    "LangGraph는 \"superstep(여러 노드들이 처리되는 전체 프로세스 스텝)\" 내에서 노드를 실행하는데, 이는 병렬 분기가 동시에 실행되더라도 전체 superstep이 **트랜잭션** 방식으로 처리됨을 의미합니다. \n",
    "\n",
    "따라서, 이러한 분기 중 하나라도 예외가 발생하면, 상태에 대한 업데이트가 **전혀** 적용되지 않습니다(전체 superstep이 오류 처리됨).\n",
    "\n",
    "> superstep: 여러 노드들이 처리되는 전체 프로세스 스텝\n",
    "\n",
    "![](image/langgraph-09.jpeg)"
   ]
  },
  {
   "cell_type": "markdown",
   "metadata": {},
   "source": [
    "오류가 발생하기 쉬운 작업(예: 불안정한 API 호출 처리)이 있는 경우, LangGraph는 이를 해결하기 위한 두 가지 방법을 제공합니다.\n",
    "\n",
    "1. 노드 내에서 일반적인 Python 코드를 작성하여 예외를 포착하고 처리할 수 있습니다.\n",
    "2. **[retry_policy](https://langchain-ai.github.io/langgraph/reference/graphs/#langgraph.graph.graph.CompiledGraph.retry_policy)** 를 설정하여 특정 유형의 예외가 발생한 노드를 재시도하도록 그래프를 지시할 수 있습니다. 실패한 분기만 재시도되므로 불필요한 작업 수행에 대해 걱정할 필요가 없습니다.\n",
    "\n",
    "이러한 기능들을 통해 병렬 실행과 예외 처리를 완벽하게 제어할 수 있습니다."
   ]
  },
  {
   "cell_type": "markdown",
   "metadata": {},
   "source": [
    "## 추가 단계가 있는 병렬 노드의 fan-out 및 fan-in\n",
    "\n",
    "위의 예시에서는 각 경로가 단일 단계일 때의 `fan-out`과 `fan-in` 방법을 보여주었습니다. 하지만 하나의 경로에 여러 단계가 있다면 어떻게 될까요?"
   ]
  },
  {
   "cell_type": "code",
   "execution_count": 5,
   "metadata": {},
   "outputs": [
    {
     "data": {
      "image/jpeg": "[encoded data removed]",
      "text/plain": [
       "<IPython.core.display.Image object>"
      ]
     },
     "metadata": {},
     "output_type": "display_data"
    }
   ],
   "source": [
    "from typing import Annotated\n",
    "from typing_extensions import TypedDict\n",
    "from langgraph.graph import StateGraph\n",
    "from langgraph.graph.message import add_messages\n",
    "\n",
    "\n",
    "# 상태 정의(add_messages 리듀서 사용)\n",
    "class State(TypedDict):\n",
    "    aggregate: Annotated[list, add_messages]\n",
    "\n",
    "\n",
    "# 노드 값 반환 클래스\n",
    "class ReturnNodeValue:\n",
    "    # 초기화\n",
    "    def __init__(self, node_secret: str):\n",
    "        self._value = node_secret\n",
    "\n",
    "    # 호출시 상태 업데이트\n",
    "    def __call__(self, state: State) -> Any:\n",
    "        print(f\"Adding {self._value} to {state['aggregate']}\")\n",
    "        return {\"aggregate\": [self._value]}\n",
    "\n",
    "\n",
    "# 상태 그래프 초기화\n",
    "builder = StateGraph(State)\n",
    "\n",
    "# 노드 생성 및 연결\n",
    "builder.add_node(\"a\", ReturnNodeValue(\"I'm A\"))\n",
    "builder.add_edge(START, \"a\")\n",
    "builder.add_node(\"b1\", ReturnNodeValue(\"I'm B1\"))\n",
    "builder.add_node(\"b2\", ReturnNodeValue(\"I'm B2\"))\n",
    "builder.add_node(\"c\", ReturnNodeValue(\"I'm C\"))\n",
    "builder.add_node(\"d\", ReturnNodeValue(\"I'm D\"))\n",
    "builder.add_edge(\"a\", \"b1\")\n",
    "builder.add_edge(\"a\", \"c\")\n",
    "builder.add_edge(\"b1\", \"b2\")\n",
    "builder.add_edge([\"b2\", \"c\"], \"d\")\n",
    "builder.add_edge(\"d\", END)\n",
    "\n",
    "# 그래프 컴파일\n",
    "graph = builder.compile()\n",
    "\n",
    "from langchain_teddynote.graphs import visualize_graph\n",
    "\n",
    "visualize_graph(graph)"
   ]
  },
  {
   "cell_type": "code",
   "execution_count": 6,
   "metadata": {},
   "outputs": [
    {
     "name": "stdout",
     "output_type": "stream",
     "text": [
      "Adding I'm A to []\n",
      "Adding I'm B1 to [HumanMessage(content=\"I'm A\", id='5c75d93e-f391-4b6a-9058-5abf72f9f674')]\n",
      "Adding I'm C to [HumanMessage(content=\"I'm A\", id='5c75d93e-f391-4b6a-9058-5abf72f9f674')]\n",
      "Adding I'm B2 to [HumanMessage(content=\"I'm A\", id='5c75d93e-f391-4b6a-9058-5abf72f9f674'), HumanMessage(content=\"I'm B1\", id='69dac63a-0028-46ba-ba13-635f0e3c977b'), HumanMessage(content=\"I'm C\", id='fb35f4c9-87d3-4a93-9ba8-a4e7146b53d9')]\n",
      "Adding I'm D to [HumanMessage(content=\"I'm A\", id='5c75d93e-f391-4b6a-9058-5abf72f9f674'), HumanMessage(content=\"I'm B1\", id='69dac63a-0028-46ba-ba13-635f0e3c977b'), HumanMessage(content=\"I'm C\", id='fb35f4c9-87d3-4a93-9ba8-a4e7146b53d9'), HumanMessage(content=\"I'm B2\", id='7709752e-7ddf-42cd-96c6-cfb4ec02cb40')]\n"
     ]
    },
    {
     "data": {
      "text/plain": [
       "{'aggregate': [HumanMessage(content=\"I'm A\", id='5c75d93e-f391-4b6a-9058-5abf72f9f674'),\n",
       "  HumanMessage(content=\"I'm B1\", id='69dac63a-0028-46ba-ba13-635f0e3c977b'),\n",
       "  HumanMessage(content=\"I'm C\", id='fb35f4c9-87d3-4a93-9ba8-a4e7146b53d9'),\n",
       "  HumanMessage(content=\"I'm B2\", id='7709752e-7ddf-42cd-96c6-cfb4ec02cb40'),\n",
       "  HumanMessage(content=\"I'm D\", id='2f997bbe-8eb4-4553-9785-3af99034315e')]}"
      ]
     },
     "execution_count": 6,
     "metadata": {},
     "output_type": "execute_result"
    }
   ],
   "source": [
    "# 빈 리스트를 사용한 그래프 집계 연산 실행, 모든 데이터에 대한 기본 집계 수행\n",
    "graph.invoke({\"aggregate\": []})"
   ]
  },
  {
   "cell_type": "markdown",
   "metadata": {},
   "source": [
    "## 조건부 분기(conditional branching)\n",
    "\n",
    "fan-out이 결정적이지 않은 경우, `add_conditional_edges` 를 직접 사용할 수 있습니다.\n",
    "\n",
    "조건부 분기 이후 연결될 알려진 \"sink\" 노드가 있는 경우, 조건부 엣지를 생성할 때 `then=\"실행할 노드명\"` 을 제공할 수 있습니다."
   ]
  },
  {
   "cell_type": "code",
   "execution_count": 7,
   "metadata": {},
   "outputs": [
    {
     "data": {
      "image/jpeg": "[encoded data removed]",
      "text/plain": [
       "<IPython.core.display.Image object>"
      ]
     },
     "metadata": {},
     "output_type": "display_data"
    }
   ],
   "source": [
    "from typing import Annotated, Sequence\n",
    "from typing_extensions import TypedDict\n",
    "from langgraph.graph import END, START, StateGraph\n",
    "\n",
    "\n",
    "# 상태 정의(add_messages 리듀서 사용)\n",
    "class State(TypedDict):\n",
    "    aggregate: Annotated[list, add_messages]\n",
    "    which: str\n",
    "\n",
    "\n",
    "# 노드별 고유 값을 반환하는 클래스\n",
    "class ReturnNodeValue:\n",
    "    def __init__(self, node_secret: str):\n",
    "        self._value = node_secret\n",
    "\n",
    "    def __call__(self, state: State) -> Any:\n",
    "        print(f\"Adding {self._value} to {state['aggregate']}\")\n",
    "        return {\"aggregate\": [self._value]}\n",
    "\n",
    "\n",
    "# 상태 그래프 초기화\n",
    "builder = StateGraph(State)\n",
    "builder.add_node(\"a\", ReturnNodeValue(\"I'm A\"))\n",
    "builder.add_edge(START, \"a\")\n",
    "builder.add_node(\"b\", ReturnNodeValue(\"I'm B\"))\n",
    "builder.add_node(\"c\", ReturnNodeValue(\"I'm C\"))\n",
    "builder.add_node(\"d\", ReturnNodeValue(\"I'm D\"))\n",
    "builder.add_node(\"e\", ReturnNodeValue(\"I'm E\"))\n",
    "\n",
    "\n",
    "# 상태의 'which' 값에 따른 조건부 라우팅 경로 결정 함수\n",
    "def route_bc_or_cd(state: State) -> Sequence[str]:\n",
    "    if state[\"which\"] == \"cd\":\n",
    "        return [\"c\", \"d\"]\n",
    "    return [\"b\", \"c\"]\n",
    "\n",
    "\n",
    "# 전체 병렬 처리할 노드 목록\n",
    "intermediates = [\"b\", \"c\", \"d\"]\n",
    "\n",
    "builder.add_conditional_edges(\n",
    "    \"a\",\n",
    "    route_bc_or_cd,\n",
    "    intermediates,\n",
    ")\n",
    "for node in intermediates:\n",
    "    builder.add_edge(node, \"e\")\n",
    "\n",
    "\n",
    "# 최종 노드 연결 및 그래프 컴파일\n",
    "builder.add_edge(\"e\", END)\n",
    "graph = builder.compile()\n",
    "\n",
    "from langchain_teddynote.graphs import visualize_graph\n",
    "\n",
    "visualize_graph(graph)"
   ]
  },
  {
   "cell_type": "code",
   "execution_count": 8,
   "metadata": {},
   "outputs": [
    {
     "name": "stdout",
     "output_type": "stream",
     "text": [
      "Adding I'm A to []\n",
      "Adding I'm B to [HumanMessage(content=\"I'm A\", id='adc87278-24a9-41b7-a6e9-8aad75bc6840')]\n",
      "Adding I'm C to [HumanMessage(content=\"I'm A\", id='adc87278-24a9-41b7-a6e9-8aad75bc6840')]\n",
      "Adding I'm E to [HumanMessage(content=\"I'm A\", id='adc87278-24a9-41b7-a6e9-8aad75bc6840'), HumanMessage(content=\"I'm B\", id='1f823e83-2da4-4b59-9fa5-af6c8908598a'), HumanMessage(content=\"I'm C\", id='ba41a81f-83fb-4149-8b6f-9247118a7cfa')]\n"
     ]
    },
    {
     "data": {
      "text/plain": [
       "{'aggregate': [HumanMessage(content=\"I'm A\", id='adc87278-24a9-41b7-a6e9-8aad75bc6840'),\n",
       "  HumanMessage(content=\"I'm B\", id='1f823e83-2da4-4b59-9fa5-af6c8908598a'),\n",
       "  HumanMessage(content=\"I'm C\", id='ba41a81f-83fb-4149-8b6f-9247118a7cfa'),\n",
       "  HumanMessage(content=\"I'm E\", id='69f68790-4785-4dbf-a699-07990b73caf9')],\n",
       " 'which': 'bc'}"
      ]
     },
     "execution_count": 8,
     "metadata": {},
     "output_type": "execute_result"
    }
   ],
   "source": [
    "# 그래프 실행(which: bc 로 지정)\n",
    "graph.invoke({\"aggregate\": [], \"which\": \"bc\"})"
   ]
  },
  {
   "cell_type": "code",
   "execution_count": 9,
   "metadata": {},
   "outputs": [
    {
     "name": "stdout",
     "output_type": "stream",
     "text": [
      "Adding I'm A to []\n",
      "Adding I'm C to [HumanMessage(content=\"I'm A\", id='cd69af50-5dec-4e7e-adbb-03fc8139ffdb')]\n",
      "Adding I'm D to [HumanMessage(content=\"I'm A\", id='cd69af50-5dec-4e7e-adbb-03fc8139ffdb')]\n",
      "Adding I'm E to [HumanMessage(content=\"I'm A\", id='cd69af50-5dec-4e7e-adbb-03fc8139ffdb'), HumanMessage(content=\"I'm C\", id='71bdbeed-6586-4fa7-96e3-c1644e110b50'), HumanMessage(content=\"I'm D\", id='5f66fbec-be3a-4641-b08b-9b770a9d40a4')]\n"
     ]
    },
    {
     "data": {
      "text/plain": [
       "{'aggregate': [HumanMessage(content=\"I'm A\", id='cd69af50-5dec-4e7e-adbb-03fc8139ffdb'),\n",
       "  HumanMessage(content=\"I'm C\", id='71bdbeed-6586-4fa7-96e3-c1644e110b50'),\n",
       "  HumanMessage(content=\"I'm D\", id='5f66fbec-be3a-4641-b08b-9b770a9d40a4'),\n",
       "  HumanMessage(content=\"I'm E\", id='e17a52f4-dbae-4845-abff-df6c75182da7')],\n",
       " 'which': 'cd'}"
      ]
     },
     "execution_count": 9,
     "metadata": {},
     "output_type": "execute_result"
    }
   ],
   "source": [
    "# 그래프 실행(which: cd 로 지정)\n",
    "graph.invoke({\"aggregate\": [], \"which\": \"cd\"})"
   ]
  },
  {
   "cell_type": "markdown",
   "metadata": {},
   "source": [
    "## fan-out 값의 신뢰도에 따른 정렬\n",
    "\n",
    "병렬로 펼쳐진 노드들은 하나의 \"**super-step**\"으로 실행됩니다. 각 super-step 에서 발생한 업데이트들은 해당 super-step 이 완료된 후 순차적으로 상태에 적용됩니다.\n",
    "\n",
    "병렬 super-step 에서 일관된 사전 정의된 업데이트 순서가 필요한 경우, 출력값을 식별 키와 함께 상태의 별도 필드에 기록한 다음, 팬아웃된 각 노드에서 집결 지점까지 일반 `edge` 를 추가하여 \"sink\" 노드에서 이들을 결합해야 합니다.\n",
    "\n",
    "예를 들어, 병렬 단계의 출력을 \"신뢰도\"에 따라 정렬하고자 하는 경우를 고려해보겠습니다."
   ]
  },
  {
   "cell_type": "code",
   "execution_count": 11,
   "metadata": {},
   "outputs": [
    {
     "data": {
      "image/jpeg": "[encoded data removed]",
      "text/plain": [
       "<IPython.core.display.Image object>"
      ]
     },
     "metadata": {},
     "output_type": "display_data"
    }
   ],
   "source": [
    "from typing import Annotated, Sequence\n",
    "from typing_extensions import TypedDict\n",
    "from langgraph.graph import StateGraph\n",
    "from langgraph.graph.message import add_messages\n",
    "\n",
    "\n",
    "# 팬아웃 값들의 병합 로직 구현, 빈 리스트 처리 및 리스트 연결 수행\n",
    "def reduce_fanouts(left, right):\n",
    "    if left is None:\n",
    "        left = []\n",
    "    if not right:\n",
    "        # 덮어쓰기\n",
    "        return []\n",
    "    return left + right\n",
    "\n",
    "\n",
    "# 상태 관리를 위한 타입 정의, 집계 및 팬아웃 값 저장 구조 설정\n",
    "class State(TypedDict):\n",
    "    # add_messages 리듀서 사용\n",
    "    aggregate: Annotated[list, add_messages]\n",
    "    fanout_values: Annotated[list, reduce_fanouts]\n",
    "    which: str\n",
    "\n",
    "\n",
    "# 그래프 초기화\n",
    "builder = StateGraph(State)\n",
    "builder.add_node(\"a\", ReturnNodeValue(\"I'm A\"))\n",
    "builder.add_edge(START, \"a\")\n",
    "\n",
    "\n",
    "# 병렬 노드 값 반환 클래스\n",
    "class ParallelReturnNodeValue:\n",
    "    def __init__(\n",
    "        self,\n",
    "        node_secret: str,\n",
    "        reliability: float,\n",
    "    ):\n",
    "        self._value = node_secret\n",
    "        self._reliability = reliability\n",
    "\n",
    "    # 호출시 상태 업데이트\n",
    "    def __call__(self, state: State) -> Any:\n",
    "        print(f\"Adding {self._value} to {state['aggregate']} in parallel.\")\n",
    "        return {\n",
    "            \"fanout_values\": [\n",
    "                {\n",
    "                    \"value\": [self._value],\n",
    "                    \"reliability\": self._reliability,\n",
    "                }\n",
    "            ]\n",
    "        }\n",
    "\n",
    "\n",
    "# 신뢰도(reliability)가 다른 병렬 노드들 추가\n",
    "builder.add_node(\"b\", ParallelReturnNodeValue(\"I'm B\", reliability=0.1))\n",
    "builder.add_node(\"c\", ParallelReturnNodeValue(\"I'm C\", reliability=0.9))\n",
    "builder.add_node(\"d\", ParallelReturnNodeValue(\"I'm D\", reliability=0.5))\n",
    "\n",
    "\n",
    "# 팬아웃 값들을 신뢰도 기준으로 정렬하고 최종 집계 수행\n",
    "def aggregate_fanout_values(state: State) -> Any:\n",
    "    # 신뢰도 기준 정렬\n",
    "    ranked_values = sorted(\n",
    "        state[\"fanout_values\"], key=lambda x: x[\"reliability\"], reverse=True\n",
    "    )\n",
    "    print(ranked_values)\n",
    "    return {\n",
    "        \"aggregate\": [x[\"value\"][0] for x in ranked_values] + [\"I'm E\"],\n",
    "        \"fanout_values\": [],\n",
    "    }\n",
    "\n",
    "\n",
    "# 집계 노드 추가\n",
    "builder.add_node(\"e\", aggregate_fanout_values)\n",
    "\n",
    "\n",
    "# 상태에 따른 조건부 라우팅 로직 구현\n",
    "def route_bc_or_cd(state: State) -> Sequence[str]:\n",
    "    if state[\"which\"] == \"cd\":\n",
    "        return [\"c\", \"d\"]\n",
    "    return [\"b\", \"c\"]\n",
    "\n",
    "\n",
    "# 중간 노드들 설정 및 조건부 엣지 추가\n",
    "intermediates = [\"b\", \"c\", \"d\"]\n",
    "builder.add_conditional_edges(\"a\", route_bc_or_cd, intermediates)\n",
    "\n",
    "# 중간 노드들과 최종 집계 노드 연결\n",
    "for node in intermediates:\n",
    "    builder.add_edge(node, \"e\")\n",
    "\n",
    "# 그래프 완성을 위한 최종\n",
    "graph = builder.compile()\n",
    "\n",
    "from langchain_teddynote.graphs import visualize_graph\n",
    "\n",
    "visualize_graph(graph)"
   ]
  },
  {
   "cell_type": "markdown",
   "metadata": {},
   "source": [
    "#### 병렬로 노드 실행시 결과를 reliability 기준으로 정렬합니다.\n",
    "\n",
    "**참고**\n",
    "\n",
    "- `b`: reliability=0.1\n",
    "- `c`: reliability=0.9\n",
    "- `d`: reliability=0.5"
   ]
  },
  {
   "cell_type": "code",
   "execution_count": 12,
   "metadata": {},
   "outputs": [
    {
     "name": "stdout",
     "output_type": "stream",
     "text": [
      "Adding I'm A to []\n",
      "Adding I'm B to [HumanMessage(content=\"I'm A\", id='fd8e6279-0633-4775-9d32-3191ba9fb456')] in parallel.\n",
      "Adding I'm C to [HumanMessage(content=\"I'm A\", id='fd8e6279-0633-4775-9d32-3191ba9fb456')] in parallel.\n",
      "[{'value': [\"I'm C\"], 'reliability': 0.9}, {'value': [\"I'm B\"], 'reliability': 0.1}]\n"
     ]
    },
    {
     "data": {
      "text/plain": [
       "{'aggregate': [HumanMessage(content=\"I'm A\", id='fd8e6279-0633-4775-9d32-3191ba9fb456'),\n",
       "  HumanMessage(content=\"I'm C\", id='510223af-658c-4488-9e80-5f2d9466e177'),\n",
       "  HumanMessage(content=\"I'm B\", id='8b5e9b2d-8c5f-42af-a3ae-4bfb4951fd2b'),\n",
       "  HumanMessage(content=\"I'm E\", id='54ec18c3-bd43-4f68-9a32-c2678a534500')],\n",
       " 'fanout_values': [],\n",
       " 'which': 'bc'}"
      ]
     },
     "execution_count": 12,
     "metadata": {},
     "output_type": "execute_result"
    }
   ],
   "source": [
    "# 그래프 실행(which: bc 로 지정)\n",
    "graph.invoke({\"aggregate\": [], \"which\": \"bc\", \"fanout_values\": []})"
   ]
  },
  {
   "cell_type": "code",
   "execution_count": 13,
   "metadata": {},
   "outputs": [
    {
     "name": "stdout",
     "output_type": "stream",
     "text": [
      "Adding I'm A to []\n",
      "Adding I'm C to [HumanMessage(content=\"I'm A\", id='8580bae6-3f96-4318-9fa8-176c7c6674f4')] in parallel.\n",
      "Adding I'm D to [HumanMessage(content=\"I'm A\", id='8580bae6-3f96-4318-9fa8-176c7c6674f4')] in parallel.\n",
      "[{'value': [\"I'm C\"], 'reliability': 0.9}, {'value': [\"I'm D\"], 'reliability': 0.5}]\n"
     ]
    },
    {
     "data": {
      "text/plain": [
       "{'aggregate': [HumanMessage(content=\"I'm A\", id='8580bae6-3f96-4318-9fa8-176c7c6674f4'),\n",
       "  HumanMessage(content=\"I'm C\", id='f1d64bce-11cf-4c51-96a6-5b805340b5f7'),\n",
       "  HumanMessage(content=\"I'm D\", id='2f23d460-f6f4-4d34-99f6-ce8eeb21b701'),\n",
       "  HumanMessage(content=\"I'm E\", id='16d46587-1ef3-42a8-b0af-183795d30d44')],\n",
       " 'fanout_values': [],\n",
       " 'which': 'cd'}"
      ]
     },
     "execution_count": 13,
     "metadata": {},
     "output_type": "execute_result"
    }
   ],
   "source": [
    "# 그래프 실행(which: cd 로 지정)\n",
    "graph.invoke({\"aggregate\": [], \"which\": \"cd\"})"
   ]
  },
  {
   "cell_type": "markdown",
   "metadata": {},
   "source": [
    "# 11) 대화 기록 요약을 추가하는 방법\n",
    "\n",
    "![](image/langgraph-10.jpeg)\n",
    "\n",
    "대화 기록을 유지하는 것은 **지속성**의 가장 일반적인 사용 사례 중 하나입니다. 이는 대화를 지속하기 쉽게 만들어주는 장점이 있습니다. \n",
    "\n",
    "하지만 대화가 길어질수록 대화 기록이 누적되어 `context window`를 더 많이 차지하게 됩니다. 이는 `LLM` 호출이 더 비싸고 길어지며, 잠재적으로 오류가 발생할 수 있어 바람직하지 않을 수 있습니다. 이를 해결하기 위한 한 가지 방법은 현재까지의 대화 요약본을 생성하고, 이를 최근 `N` 개의 메시지와 함께 사용하는 것입니다. \n",
    "\n",
    "이 가이드에서는 이를 구현하는 방법의 예시를 살펴보겠습니다.\n",
    "\n",
    "다음과 같은 단계가 필요합니다.\n",
    "\n",
    "- 대화가 너무 긴지 확인 (메시지 수나 메시지 길이로 확인 가능)\n",
    "- 너무 길다면 요약본 생성 (이를 위한 프롬프트 필요)\n",
    "- 마지막 `N` 개의 메시지를 제외한 나머지 삭제\n",
    "\n",
    "이 과정에서 중요한 부분은 오래된 메시지를 삭제(`DeleteMessage`) 하는 것입니다. "
   ]
  },
  {
   "cell_type": "markdown",
   "metadata": {},
   "source": [
    "## 긴 대화를 요약하여 대화로 저장\n",
    "\n",
    "긴 대화에 대하여 요약본을 생성한 뒤, 기존의 대화를 삭제하고 요약본을 대화로 저장합니다.\n",
    "\n",
    "**조건**\n",
    "\n",
    "- 대화의 길이가 6개 초과일 경우 요약본을 생성"
   ]
  },
  {
   "cell_type": "code",
   "execution_count": 14,
   "metadata": {},
   "outputs": [],
   "source": [
    "from typing import Literal, Annotated\n",
    "from langchain_openai import ChatOpenAI\n",
    "from langchain_core.messages import SystemMessage, RemoveMessage, HumanMessage\n",
    "from langgraph.checkpoint.memory import MemorySaver\n",
    "from langgraph.graph import MessagesState, StateGraph, START\n",
    "from langgraph.graph.message import add_messages\n",
    "\n",
    "# 메모리 저장소 설정\n",
    "memory = MemorySaver()\n",
    "\n",
    "\n",
    "# 메시지 상태와 요약 정보를 포함하는 상태 클래스\n",
    "class State(MessagesState):\n",
    "    messages: Annotated[list, add_messages]\n",
    "    summary: str\n",
    "\n",
    "\n",
    "# 대화 및 요약을 위한 모델 초기화\n",
    "model = ChatOpenAI(model_name=\"gpt-4o-mini\", temperature=0)"
   ]
  },
  {
   "cell_type": "markdown",
   "metadata": {},
   "source": [
    "`ask_llm` 노드는 `messages` 를 llm 에 주입하여 답변을 얻습니다.\n",
    "\n",
    "만약, **이전의 대화 요약본**이 존재한다면, 이를 시스템 메시지로 추가하여 대화에 포함시킵니다.\n",
    "\n",
    "하지만, 이전의 대화 요약본이 존재하지 않는다면, 이전의 대화 내용만 사용합니다."
   ]
  },
  {
   "cell_type": "code",
   "execution_count": 15,
   "metadata": {},
   "outputs": [],
   "source": [
    "def ask_llm(state: State):\n",
    "    # 이전 요약 정보 확인\n",
    "    summary = state.get(\"summary\", \"\")\n",
    "\n",
    "    # 이전 요약 정보가 있다면 시스템 메시지로 추가\n",
    "    if summary:\n",
    "        # 시스템 메시지 생성\n",
    "        system_message = f\"Summary of conversation earlier: {summary}\"\n",
    "        # 시스템 메시지와 이전 메시지 결합\n",
    "        messages = [SystemMessage(content=system_message)] + state[\"messages\"]\n",
    "    else:\n",
    "        # 이전 메시지만 사용\n",
    "        messages = state[\"messages\"]\n",
    "\n",
    "    # 모델 호출\n",
    "    response = model.invoke(messages)\n",
    "\n",
    "    # 응답 반환\n",
    "    return {\"messages\": [response]}"
   ]
  },
  {
   "cell_type": "markdown",
   "metadata": {},
   "source": [
    "`should_continue` 노드는 대화의 길이가 6개 초과일 경우 요약 노드로 이동합니다.\n",
    "\n",
    "그렇지 않다면, 즉각 답변을 반환합니다. (`END` 노드로 이동)"
   ]
  },
  {
   "cell_type": "code",
   "execution_count": 16,
   "metadata": {},
   "outputs": [],
   "source": [
    "from langgraph.graph import END\n",
    "\n",
    "\n",
    "# 대화 종료 또는 요약 결정 로직\n",
    "def should_continue(state: State) -> Literal[\"summarize_conversation\", END]:\n",
    "    # 메시지 목록 확인\n",
    "    messages = state[\"messages\"]\n",
    "\n",
    "    # 메시지 수가 6개 초과라면 요약 노드로 이동\n",
    "    if len(messages) > 6:\n",
    "        return \"summarize_conversation\"\n",
    "    return END"
   ]
  },
  {
   "cell_type": "markdown",
   "metadata": {},
   "source": [
    "`summarize_conversation` 노드는 대화 내용을 요약하고, 오래된 메시지를 삭제합니다."
   ]
  },
  {
   "cell_type": "code",
   "execution_count": 17,
   "metadata": {},
   "outputs": [],
   "source": [
    "# 대화 내용 요약 및 메시지 정리 로직\n",
    "def summarize_conversation(state: State):\n",
    "    # 이전 요약 정보 확인\n",
    "    summary = state.get(\"summary\", \"\")\n",
    "\n",
    "    # 이전 요약 정보가 있다면 요약 메시지 생성\n",
    "    if summary:\n",
    "        summary_message = (\n",
    "            f\"This is summary of the conversation to date: {summary}\\n\\n\"\n",
    "            \"Extend the summary by taking into account the new messages above in Korean:\"\n",
    "        )\n",
    "    else:\n",
    "        # 요약 메시지 생성\n",
    "        summary_message = \"Create a summary of the conversation above in Korean:\"\n",
    "\n",
    "    # 요약 메시지와 이전 메시지 결합\n",
    "    messages = state[\"messages\"] + [HumanMessage(content=summary_message)]\n",
    "    # 모델 호출\n",
    "    response = model.invoke(messages)\n",
    "    # 오래된 메시지 삭제\n",
    "    delete_messages = [RemoveMessage(id=m.id) for m in state[\"messages\"][:-2]]\n",
    "    # 요약 정보 반환\n",
    "    return {\"summary\": response.content, \"messages\": delete_messages}"
   ]
  },
  {
   "cell_type": "code",
   "execution_count": 18,
   "metadata": {},
   "outputs": [
    {
     "data": {
      "image/jpeg": "[encoded data removed]",
      "text/plain": [
       "<IPython.core.display.Image object>"
      ]
     },
     "metadata": {},
     "output_type": "display_data"
    }
   ],
   "source": [
    "# 워크플로우 그래프 초기화\n",
    "workflow = StateGraph(State)\n",
    "\n",
    "# 대화 및 요약 노드 추가\n",
    "workflow.add_node(\"conversation\", ask_llm)\n",
    "workflow.add_node(summarize_conversation)\n",
    "\n",
    "# 시작점을 대화 노드로 설정\n",
    "workflow.add_edge(START, \"conversation\")\n",
    "\n",
    "# 조건부 엣지 추가\n",
    "workflow.add_conditional_edges(\n",
    "    \"conversation\",\n",
    "    should_continue,\n",
    ")\n",
    "\n",
    "# 요약 노드에서 종료 노드로의 엣지 추가\n",
    "workflow.add_edge(\"summarize_conversation\", END)\n",
    "\n",
    "# 워크플로우 컴파일 및 메모리 체크포인터 설정\n",
    "app = workflow.compile(checkpointer=memory)\n",
    "\n",
    "from langchain_teddynote.graphs import visualize_graph\n",
    "\n",
    "visualize_graph(app)"
   ]
  },
  {
   "cell_type": "code",
   "execution_count": 19,
   "metadata": {},
   "outputs": [
    {
     "name": "stdout",
     "output_type": "stream",
     "text": [
      "================================\u001b[1m Human Message \u001b[0m=================================\n",
      "\n",
      "안녕하세요? 반갑습니다. 제 이름은 테디입니다.\n",
      "==================================\u001b[1m Ai Message \u001b[0m==================================\n",
      "\n",
      "안녕하세요, 테디님! 반갑습니다. 어떻게 도와드릴까요?\n",
      "================================\u001b[1m Human Message \u001b[0m=================================\n",
      "\n",
      "제 이름이 뭔지 기억하세요?\n",
      "==================================\u001b[1m Ai Message \u001b[0m==================================\n",
      "\n",
      "네, 테디님이라고 하셨습니다! 어떻게 도와드릴까요?\n",
      "================================\u001b[1m Human Message \u001b[0m=================================\n",
      "\n",
      "제 직업은 AI 연구원이에요\n",
      "==================================\u001b[1m Ai Message \u001b[0m==================================\n",
      "\n",
      "멋진 직업이네요, 테디님! AI 연구원으로서 어떤 분야에 주로 관심이 있으신가요? 또는 현재 진행 중인 프로젝트가 있으신가요?\n"
     ]
    }
   ],
   "source": [
    "# 업데이트 정보 출력 함수\n",
    "def print_update(update):\n",
    "    # 업데이트 딕셔너리 순회\n",
    "    for k, v in update.items():\n",
    "        # 메시지 목록 출력\n",
    "        for m in v[\"messages\"]:\n",
    "            m.pretty_print()\n",
    "        # 요약 정보 존재 시 출력\n",
    "        if \"summary\" in v:\n",
    "            print(v[\"summary\"])\n",
    "\n",
    "# 메시지 핸들링을 위한 HumanMessage 클래스 임포트\n",
    "from langchain_core.messages import HumanMessage\n",
    "\n",
    "# 스레드 ID가 포함된 설정 객체 초기화\n",
    "config = {\"configurable\": {\"thread_id\": \"1\"}}\n",
    "\n",
    "# 첫 번째 사용자 메시지 생성 및 출력\n",
    "input_message = HumanMessage(content=\"안녕하세요? 반갑습니다. 제 이름은 테디입니다.\")\n",
    "input_message.pretty_print()\n",
    "\n",
    "# 스트림 모드에서 첫 번째 메시지 처리 및 업데이트 출력\n",
    "for event in app.stream({\"messages\": [input_message]}, config, stream_mode=\"updates\"):\n",
    "    print_update(event)\n",
    "\n",
    "# 두 번째 사용자 메시지 생성 및 출력\n",
    "input_message = HumanMessage(content=\"제 이름이 뭔지 기억하세요?\")\n",
    "input_message.pretty_print()\n",
    "\n",
    "# 스트림 모드에서 두 번째 메시지 처리 및 업데이트 출력\n",
    "for event in app.stream({\"messages\": [input_message]}, config, stream_mode=\"updates\"):\n",
    "    print_update(event)\n",
    "\n",
    "# 세 번째 사용자 메시지 생성 및 출력\n",
    "input_message = HumanMessage(content=\"제 직업은 AI 연구원이에요\")\n",
    "input_message.pretty_print()\n",
    "\n",
    "# 스트림 모드에서 세 번째 메시지 처리 및 업데이트 출력\n",
    "for event in app.stream({\"messages\": [input_message]}, config, stream_mode=\"updates\"):\n",
    "    print_update(event)"
   ]
  },
  {
   "cell_type": "markdown",
   "metadata": {},
   "source": [
    "지금까지는 요약이 전혀 이루어지지 않은 것을 확인할 수 있습니다 - 이는 목록에 메시지가 6개밖에 없기 때문입니다."
   ]
  },
  {
   "cell_type": "code",
   "execution_count": 20,
   "metadata": {},
   "outputs": [
    {
     "data": {
      "text/plain": [
       "{'messages': [HumanMessage(content='안녕하세요? 반갑습니다. 제 이름은 테디입니다.', id='8c58bb1a-2dab-4b35-a3d8-8d2b10a69c9c'),\n",
       "  AIMessage(content='안녕하세요, 테디님! 반갑습니다. 어떻게 도와드릴까요?', additional_kwargs={'refusal': None}, response_metadata={'token_usage': {'completion_tokens': 19, 'prompt_tokens': 21, 'total_tokens': 40, 'prompt_tokens_details': {'cached_tokens': 0, 'audio_tokens': 0}, 'completion_tokens_details': {'reasoning_tokens': 0, 'audio_tokens': 0, 'accepted_prediction_tokens': 0, 'rejected_prediction_tokens': 0}}, 'model_name': 'gpt-4o-mini-2024-07-18', 'system_fingerprint': 'fp_06737a9306', 'finish_reason': 'stop', 'logprobs': None}, id='run-4d5afb89-b5b0-4269-9d22-28bde1204de0-0', usage_metadata={'input_tokens': 21, 'output_tokens': 19, 'total_tokens': 40}),\n",
       "  HumanMessage(content='제 이름이 뭔지 기억하세요?', id='246b5215-56f6-448b-b6e8-44da689eaa4d'),\n",
       "  AIMessage(content='네, 테디님이라고 하셨습니다! 어떻게 도와드릴까요?', additional_kwargs={'refusal': None}, response_metadata={'token_usage': {'completion_tokens': 18, 'prompt_tokens': 56, 'total_tokens': 74, 'prompt_tokens_details': {'cached_tokens': 0, 'audio_tokens': 0}, 'completion_tokens_details': {'reasoning_tokens': 0, 'audio_tokens': 0, 'accepted_prediction_tokens': 0, 'rejected_prediction_tokens': 0}}, 'model_name': 'gpt-4o-mini-2024-07-18', 'system_fingerprint': 'fp_06737a9306', 'finish_reason': 'stop', 'logprobs': None}, id='run-57029a80-4b7a-4620-bab7-b8b41fa203a4-0', usage_metadata={'input_tokens': 56, 'output_tokens': 18, 'total_tokens': 74}),\n",
       "  HumanMessage(content='제 직업은 AI 연구원이에요', id='a8441068-15b2-4756-8456-b850ed6b8b41'),\n",
       "  AIMessage(content='멋진 직업이네요, 테디님! AI 연구원으로서 어떤 분야에 주로 관심이 있으신가요? 또는 현재 진행 중인 프로젝트가 있으신가요?', additional_kwargs={'refusal': None}, response_metadata={'token_usage': {'completion_tokens': 42, 'prompt_tokens': 90, 'total_tokens': 132, 'prompt_tokens_details': {'cached_tokens': 0, 'audio_tokens': 0}, 'completion_tokens_details': {'reasoning_tokens': 0, 'audio_tokens': 0, 'accepted_prediction_tokens': 0, 'rejected_prediction_tokens': 0}}, 'model_name': 'gpt-4o-mini-2024-07-18', 'system_fingerprint': 'fp_06737a9306', 'finish_reason': 'stop', 'logprobs': None}, id='run-4a0ad0cc-7f04-49b9-97e6-c7b83d098af2-0', usage_metadata={'input_tokens': 90, 'output_tokens': 42, 'total_tokens': 132})]}"
      ]
     },
     "execution_count": 20,
     "metadata": {},
     "output_type": "execute_result"
    }
   ],
   "source": [
    "# 상태 구성 값 검색\n",
    "values = app.get_state(config).values\n",
    "values"
   ]
  },
  {
   "cell_type": "code",
   "execution_count": 21,
   "metadata": {},
   "outputs": [
    {
     "name": "stdout",
     "output_type": "stream",
     "text": [
      "================================\u001b[1m Human Message \u001b[0m=================================\n",
      "\n",
      "최근 LLM 에 대해 좀 더 알아보고 있어요. LLM 에 대한 최근 논문을 읽고 있습니다.\n",
      "==================================\u001b[1m Ai Message \u001b[0m==================================\n",
      "\n",
      "LLM(대규모 언어 모델)에 대한 연구는 정말 흥미로운 분야입니다! 최근 몇 년 동안 많은 발전이 있었고, 다양한 논문들이 발표되고 있습니다. 어떤 특정한 주제나 질문이 있으신가요? 아니면 추천할 만한 논문이나 자료를 원하시는 건가요?\n",
      "================================\u001b[1m Remove Message \u001b[0m================================\n",
      "\n",
      "\n",
      "================================\u001b[1m Remove Message \u001b[0m================================\n",
      "\n",
      "\n",
      "================================\u001b[1m Remove Message \u001b[0m================================\n",
      "\n",
      "\n",
      "================================\u001b[1m Remove Message \u001b[0m================================\n",
      "\n",
      "\n",
      "================================\u001b[1m Remove Message \u001b[0m================================\n",
      "\n",
      "\n",
      "================================\u001b[1m Remove Message \u001b[0m================================\n",
      "\n",
      "\n",
      "대화 요약:\n",
      "\n",
      "사용자는 자신을 테디라고 소개하며, AI 연구원이라고 말했습니다. 테디는 최근 LLM(대규모 언어 모델)에 대해 더 알아보고 있으며, 관련 논문을 읽고 있다고 언급했습니다.\n"
     ]
    },
    {
     "name": "stderr",
     "output_type": "stream",
     "text": [
      "C:\\Users\\user\\AppData\\Local\\Temp\\ipykernel_20364\\770844521.py:21: LangChainBetaWarning: The class `RemoveMessage` is in beta. It is actively being worked on, so the API may change.\n",
      "  delete_messages = [RemoveMessage(id=m.id) for m in state[\"messages\"][:-2]]\n"
     ]
    }
   ],
   "source": [
    "# 이제 다른 메시지를 보내보겠습니다\n",
    "\n",
    "# 사용자 입력 메시지 객체 생성\n",
    "input_message = HumanMessage(\n",
    "    content=\"최근 LLM 에 대해 좀 더 알아보고 있어요. LLM 에 대한 최근 논문을 읽고 있습니다.\"\n",
    ")\n",
    "\n",
    "# 메시지 내용 출력\n",
    "input_message.pretty_print()\n",
    "\n",
    "# 스트림 이벤트 실시간 처리 및 업데이트 출력\n",
    "for event in app.stream({\"messages\": [input_message]}, config, stream_mode=\"updates\"):\n",
    "    print_update(event)"
   ]
  },
  {
   "cell_type": "markdown",
   "metadata": {},
   "source": [
    "현재 상태를 확인하면 대화의 요약과 함께 마지막 두 개의 메시지를 볼 수 있습니다."
   ]
  },
  {
   "cell_type": "code",
   "execution_count": 22,
   "metadata": {},
   "outputs": [
    {
     "data": {
      "text/plain": [
       "{'messages': [RemoveMessage(content='', id='8c58bb1a-2dab-4b35-a3d8-8d2b10a69c9c'),\n",
       "  RemoveMessage(content='', id='run-4d5afb89-b5b0-4269-9d22-28bde1204de0-0'),\n",
       "  RemoveMessage(content='', id='246b5215-56f6-448b-b6e8-44da689eaa4d'),\n",
       "  RemoveMessage(content='', id='run-57029a80-4b7a-4620-bab7-b8b41fa203a4-0'),\n",
       "  RemoveMessage(content='', id='a8441068-15b2-4756-8456-b850ed6b8b41'),\n",
       "  RemoveMessage(content='', id='run-4a0ad0cc-7f04-49b9-97e6-c7b83d098af2-0'),\n",
       "  HumanMessage(content='최근 LLM 에 대해 좀 더 알아보고 있어요. LLM 에 대한 최근 논문을 읽고 있습니다.', id='fd0076c1-564d-47aa-ac8a-39f345bf9f2a'),\n",
       "  AIMessage(content='LLM(대규모 언어 모델)에 대한 연구는 정말 흥미로운 분야입니다! 최근 몇 년 동안 많은 발전이 있었고, 다양한 논문들이 발표되고 있습니다. 어떤 특정한 주제나 질문이 있으신가요? 아니면 추천할 만한 논문이나 자료를 원하시는 건가요?', additional_kwargs={'refusal': None}, response_metadata={'token_usage': {'completion_tokens': 71, 'prompt_tokens': 163, 'total_tokens': 234, 'prompt_tokens_details': {'cached_tokens': 0, 'audio_tokens': 0}, 'completion_tokens_details': {'reasoning_tokens': 0, 'audio_tokens': 0, 'accepted_prediction_tokens': 0, 'rejected_prediction_tokens': 0}}, 'model_name': 'gpt-4o-mini-2024-07-18', 'system_fingerprint': 'fp_06737a9306', 'finish_reason': 'stop', 'logprobs': None}, id='run-0523ce02-4451-433e-af84-16be22948859-0', usage_metadata={'input_tokens': 163, 'output_tokens': 71, 'total_tokens': 234})],\n",
       " 'summary': '대화 요약:\\n\\n사용자는 자신을 테디라고 소개하며, AI 연구원이라고 말했습니다. 테디는 최근 LLM(대규모 언어 모델)에 대해 더 알아보고 있으며, 관련 논문을 읽고 있다고 언급했습니다.'}"
      ]
     },
     "execution_count": 22,
     "metadata": {},
     "output_type": "execute_result"
    }
   ],
   "source": [
    "# 상태 구성 값 검색\n",
    "values = app.get_state(config).values\n",
    "values"
   ]
  },
  {
   "cell_type": "code",
   "execution_count": 23,
   "metadata": {},
   "outputs": [
    {
     "data": {
      "text/plain": [
       "[RemoveMessage(content='', id='8c58bb1a-2dab-4b35-a3d8-8d2b10a69c9c'),\n",
       " RemoveMessage(content='', id='run-4d5afb89-b5b0-4269-9d22-28bde1204de0-0'),\n",
       " RemoveMessage(content='', id='246b5215-56f6-448b-b6e8-44da689eaa4d'),\n",
       " RemoveMessage(content='', id='run-57029a80-4b7a-4620-bab7-b8b41fa203a4-0'),\n",
       " RemoveMessage(content='', id='a8441068-15b2-4756-8456-b850ed6b8b41'),\n",
       " RemoveMessage(content='', id='run-4a0ad0cc-7f04-49b9-97e6-c7b83d098af2-0'),\n",
       " HumanMessage(content='최근 LLM 에 대해 좀 더 알아보고 있어요. LLM 에 대한 최근 논문을 읽고 있습니다.', id='fd0076c1-564d-47aa-ac8a-39f345bf9f2a'),\n",
       " AIMessage(content='LLM(대규모 언어 모델)에 대한 연구는 정말 흥미로운 분야입니다! 최근 몇 년 동안 많은 발전이 있었고, 다양한 논문들이 발표되고 있습니다. 어떤 특정한 주제나 질문이 있으신가요? 아니면 추천할 만한 논문이나 자료를 원하시는 건가요?', additional_kwargs={'refusal': None}, response_metadata={'token_usage': {'completion_tokens': 71, 'prompt_tokens': 163, 'total_tokens': 234, 'prompt_tokens_details': {'cached_tokens': 0, 'audio_tokens': 0}, 'completion_tokens_details': {'reasoning_tokens': 0, 'audio_tokens': 0, 'accepted_prediction_tokens': 0, 'rejected_prediction_tokens': 0}}, 'model_name': 'gpt-4o-mini-2024-07-18', 'system_fingerprint': 'fp_06737a9306', 'finish_reason': 'stop', 'logprobs': None}, id='run-0523ce02-4451-433e-af84-16be22948859-0', usage_metadata={'input_tokens': 163, 'output_tokens': 71, 'total_tokens': 234})]"
      ]
     },
     "execution_count": 23,
     "metadata": {},
     "output_type": "execute_result"
    }
   ],
   "source": [
    "messages = values[\"messages\"]\n",
    "messages"
   ]
  },
  {
   "cell_type": "markdown",
   "metadata": {},
   "source": [
    "이제 대화를 재개할 수 있습니다.\n",
    "\n",
    "마지막 두 개의 메시지만 있더라도 이전 대화 내용에 대해 질문할 수 있습니다 (이전 내용이 요약되어 있기 때문입니다)."
   ]
  },
  {
   "cell_type": "code",
   "execution_count": 24,
   "metadata": {},
   "outputs": [
    {
     "name": "stdout",
     "output_type": "stream",
     "text": [
      "================================\u001b[1m Human Message \u001b[0m=================================\n",
      "\n",
      "제 이름이 무엇인지 기억하세요?\n"
     ]
    },
    {
     "ename": "TypeError",
     "evalue": "Got unknown type content='' id='8c58bb1a-2dab-4b35-a3d8-8d2b10a69c9c'",
     "output_type": "error",
     "traceback": [
      "\u001b[1;31m---------------------------------------------------------------------------\u001b[0m",
      "\u001b[1;31mTypeError\u001b[0m                                 Traceback (most recent call last)",
      "Cell \u001b[1;32mIn[24], line 8\u001b[0m\n\u001b[0;32m      5\u001b[0m input_message\u001b[38;5;241m.\u001b[39mpretty_print()\n\u001b[0;32m      7\u001b[0m \u001b[38;5;66;03m# 스트림 이벤트 실시간 처리 및 업데이트\u001b[39;00m\n\u001b[1;32m----> 8\u001b[0m \u001b[38;5;28;43;01mfor\u001b[39;49;00m\u001b[43m \u001b[49m\u001b[43mevent\u001b[49m\u001b[43m \u001b[49m\u001b[38;5;129;43;01min\u001b[39;49;00m\u001b[43m \u001b[49m\u001b[43mapp\u001b[49m\u001b[38;5;241;43m.\u001b[39;49m\u001b[43mstream\u001b[49m\u001b[43m(\u001b[49m\u001b[43m{\u001b[49m\u001b[38;5;124;43m\"\u001b[39;49m\u001b[38;5;124;43mmessages\u001b[39;49m\u001b[38;5;124;43m\"\u001b[39;49m\u001b[43m:\u001b[49m\u001b[43m \u001b[49m\u001b[43m[\u001b[49m\u001b[43minput_message\u001b[49m\u001b[43m]\u001b[49m\u001b[43m}\u001b[49m\u001b[43m,\u001b[49m\u001b[43m \u001b[49m\u001b[43mconfig\u001b[49m\u001b[43m,\u001b[49m\u001b[43m \u001b[49m\u001b[43mstream_mode\u001b[49m\u001b[38;5;241;43m=\u001b[39;49m\u001b[38;5;124;43m\"\u001b[39;49m\u001b[38;5;124;43mupdates\u001b[39;49m\u001b[38;5;124;43m\"\u001b[39;49m\u001b[43m)\u001b[49m\u001b[43m:\u001b[49m\n\u001b[0;32m      9\u001b[0m \u001b[43m    \u001b[49m\u001b[43mprint_update\u001b[49m\u001b[43m(\u001b[49m\u001b[43mevent\u001b[49m\u001b[43m)\u001b[49m\n",
      "File \u001b[1;32mc:\\Users\\user\\anaconda3\\envs\\myenv\\Lib\\site-packages\\langgraph\\pregel\\__init__.py:983\u001b[0m, in \u001b[0;36mPregel.stream\u001b[1;34m(self, input, config, stream_mode, output_keys, input_keys, interrupt_before, interrupt_after, debug)\u001b[0m\n\u001b[0;32m    980\u001b[0m         \u001b[38;5;28;01mdel\u001b[39;00m fut, task\n\u001b[0;32m    982\u001b[0m \u001b[38;5;66;03m# panic on failure or timeout\u001b[39;00m\n\u001b[1;32m--> 983\u001b[0m \u001b[43m_panic_or_proceed\u001b[49m\u001b[43m(\u001b[49m\u001b[43mdone\u001b[49m\u001b[43m,\u001b[49m\u001b[43m \u001b[49m\u001b[43minflight\u001b[49m\u001b[43m,\u001b[49m\u001b[43m \u001b[49m\u001b[43mstep\u001b[49m\u001b[43m)\u001b[49m\n\u001b[0;32m    984\u001b[0m \u001b[38;5;66;03m# don't keep futures around in memory longer than needed\u001b[39;00m\n\u001b[0;32m    985\u001b[0m \u001b[38;5;28;01mdel\u001b[39;00m done, inflight, futures\n",
      "File \u001b[1;32mc:\\Users\\user\\anaconda3\\envs\\myenv\\Lib\\site-packages\\langgraph\\pregel\\__init__.py:1537\u001b[0m, in \u001b[0;36m_panic_or_proceed\u001b[1;34m(done, inflight, step)\u001b[0m\n\u001b[0;32m   1535\u001b[0m             inflight\u001b[38;5;241m.\u001b[39mpop()\u001b[38;5;241m.\u001b[39mcancel()\n\u001b[0;32m   1536\u001b[0m         \u001b[38;5;66;03m# raise the exception\u001b[39;00m\n\u001b[1;32m-> 1537\u001b[0m         \u001b[38;5;28;01mraise\u001b[39;00m exc\n\u001b[0;32m   1539\u001b[0m \u001b[38;5;28;01mif\u001b[39;00m inflight:\n\u001b[0;32m   1540\u001b[0m     \u001b[38;5;66;03m# if we got here means we timed out\u001b[39;00m\n\u001b[0;32m   1541\u001b[0m     \u001b[38;5;28;01mwhile\u001b[39;00m inflight:\n\u001b[0;32m   1542\u001b[0m         \u001b[38;5;66;03m# cancel all pending tasks\u001b[39;00m\n",
      "File \u001b[1;32mc:\\Users\\user\\anaconda3\\envs\\myenv\\Lib\\concurrent\\futures\\thread.py:58\u001b[0m, in \u001b[0;36m_WorkItem.run\u001b[1;34m(self)\u001b[0m\n\u001b[0;32m     55\u001b[0m     \u001b[38;5;28;01mreturn\u001b[39;00m\n\u001b[0;32m     57\u001b[0m \u001b[38;5;28;01mtry\u001b[39;00m:\n\u001b[1;32m---> 58\u001b[0m     result \u001b[38;5;241m=\u001b[39m \u001b[38;5;28;43mself\u001b[39;49m\u001b[38;5;241;43m.\u001b[39;49m\u001b[43mfn\u001b[49m\u001b[43m(\u001b[49m\u001b[38;5;241;43m*\u001b[39;49m\u001b[38;5;28;43mself\u001b[39;49m\u001b[38;5;241;43m.\u001b[39;49m\u001b[43margs\u001b[49m\u001b[43m,\u001b[49m\u001b[43m \u001b[49m\u001b[38;5;241;43m*\u001b[39;49m\u001b[38;5;241;43m*\u001b[39;49m\u001b[38;5;28;43mself\u001b[39;49m\u001b[38;5;241;43m.\u001b[39;49m\u001b[43mkwargs\u001b[49m\u001b[43m)\u001b[49m\n\u001b[0;32m     59\u001b[0m \u001b[38;5;28;01mexcept\u001b[39;00m \u001b[38;5;167;01mBaseException\u001b[39;00m \u001b[38;5;28;01mas\u001b[39;00m exc:\n\u001b[0;32m     60\u001b[0m     \u001b[38;5;28mself\u001b[39m\u001b[38;5;241m.\u001b[39mfuture\u001b[38;5;241m.\u001b[39mset_exception(exc)\n",
      "File \u001b[1;32mc:\\Users\\user\\anaconda3\\envs\\myenv\\Lib\\site-packages\\langgraph\\pregel\\retry.py:72\u001b[0m, in \u001b[0;36mrun_with_retry\u001b[1;34m(task, retry_policy)\u001b[0m\n\u001b[0;32m     70\u001b[0m task\u001b[38;5;241m.\u001b[39mwrites\u001b[38;5;241m.\u001b[39mclear()\n\u001b[0;32m     71\u001b[0m \u001b[38;5;66;03m# run the task\u001b[39;00m\n\u001b[1;32m---> 72\u001b[0m \u001b[43mtask\u001b[49m\u001b[38;5;241;43m.\u001b[39;49m\u001b[43mproc\u001b[49m\u001b[38;5;241;43m.\u001b[39;49m\u001b[43minvoke\u001b[49m\u001b[43m(\u001b[49m\u001b[43mtask\u001b[49m\u001b[38;5;241;43m.\u001b[39;49m\u001b[43minput\u001b[49m\u001b[43m,\u001b[49m\u001b[43m \u001b[49m\u001b[43mtask\u001b[49m\u001b[38;5;241;43m.\u001b[39;49m\u001b[43mconfig\u001b[49m\u001b[43m)\u001b[49m\n\u001b[0;32m     73\u001b[0m \u001b[38;5;66;03m# if successful, end\u001b[39;00m\n\u001b[0;32m     74\u001b[0m \u001b[38;5;28;01mbreak\u001b[39;00m\n",
      "File \u001b[1;32mc:\\Users\\user\\anaconda3\\envs\\myenv\\Lib\\site-packages\\langchain_core\\runnables\\base.py:2876\u001b[0m, in \u001b[0;36mRunnableSequence.invoke\u001b[1;34m(self, input, config, **kwargs)\u001b[0m\n\u001b[0;32m   2874\u001b[0m context\u001b[38;5;241m.\u001b[39mrun(_set_config_context, config)\n\u001b[0;32m   2875\u001b[0m \u001b[38;5;28;01mif\u001b[39;00m i \u001b[38;5;241m==\u001b[39m \u001b[38;5;241m0\u001b[39m:\n\u001b[1;32m-> 2876\u001b[0m     \u001b[38;5;28minput\u001b[39m \u001b[38;5;241m=\u001b[39m \u001b[43mcontext\u001b[49m\u001b[38;5;241;43m.\u001b[39;49m\u001b[43mrun\u001b[49m\u001b[43m(\u001b[49m\u001b[43mstep\u001b[49m\u001b[38;5;241;43m.\u001b[39;49m\u001b[43minvoke\u001b[49m\u001b[43m,\u001b[49m\u001b[43m \u001b[49m\u001b[38;5;28;43minput\u001b[39;49m\u001b[43m,\u001b[49m\u001b[43m \u001b[49m\u001b[43mconfig\u001b[49m\u001b[43m,\u001b[49m\u001b[43m \u001b[49m\u001b[38;5;241;43m*\u001b[39;49m\u001b[38;5;241;43m*\u001b[39;49m\u001b[43mkwargs\u001b[49m\u001b[43m)\u001b[49m\n\u001b[0;32m   2877\u001b[0m \u001b[38;5;28;01melse\u001b[39;00m:\n\u001b[0;32m   2878\u001b[0m     \u001b[38;5;28minput\u001b[39m \u001b[38;5;241m=\u001b[39m context\u001b[38;5;241m.\u001b[39mrun(step\u001b[38;5;241m.\u001b[39minvoke, \u001b[38;5;28minput\u001b[39m, config)\n",
      "File \u001b[1;32mc:\\Users\\user\\anaconda3\\envs\\myenv\\Lib\\site-packages\\langgraph\\utils.py:95\u001b[0m, in \u001b[0;36mRunnableCallable.invoke\u001b[1;34m(self, input, config, **kwargs)\u001b[0m\n\u001b[0;32m     93\u001b[0m     \u001b[38;5;28;01mif\u001b[39;00m accepts_config(\u001b[38;5;28mself\u001b[39m\u001b[38;5;241m.\u001b[39mfunc):\n\u001b[0;32m     94\u001b[0m         kwargs[\u001b[38;5;124m\"\u001b[39m\u001b[38;5;124mconfig\u001b[39m\u001b[38;5;124m\"\u001b[39m] \u001b[38;5;241m=\u001b[39m config\n\u001b[1;32m---> 95\u001b[0m     ret \u001b[38;5;241m=\u001b[39m \u001b[43mcontext\u001b[49m\u001b[38;5;241;43m.\u001b[39;49m\u001b[43mrun\u001b[49m\u001b[43m(\u001b[49m\u001b[38;5;28;43mself\u001b[39;49m\u001b[38;5;241;43m.\u001b[39;49m\u001b[43mfunc\u001b[49m\u001b[43m,\u001b[49m\u001b[43m \u001b[49m\u001b[38;5;28;43minput\u001b[39;49m\u001b[43m,\u001b[49m\u001b[43m \u001b[49m\u001b[38;5;241;43m*\u001b[39;49m\u001b[38;5;241;43m*\u001b[39;49m\u001b[43mkwargs\u001b[49m\u001b[43m)\u001b[49m\n\u001b[0;32m     96\u001b[0m \u001b[38;5;28;01mif\u001b[39;00m \u001b[38;5;28misinstance\u001b[39m(ret, Runnable) \u001b[38;5;129;01mand\u001b[39;00m \u001b[38;5;28mself\u001b[39m\u001b[38;5;241m.\u001b[39mrecurse:\n\u001b[0;32m     97\u001b[0m     \u001b[38;5;28;01mreturn\u001b[39;00m ret\u001b[38;5;241m.\u001b[39minvoke(\u001b[38;5;28minput\u001b[39m, config)\n",
      "Cell \u001b[1;32mIn[15], line 16\u001b[0m, in \u001b[0;36mask_llm\u001b[1;34m(state)\u001b[0m\n\u001b[0;32m     13\u001b[0m     messages \u001b[38;5;241m=\u001b[39m state[\u001b[38;5;124m\"\u001b[39m\u001b[38;5;124mmessages\u001b[39m\u001b[38;5;124m\"\u001b[39m]\n\u001b[0;32m     15\u001b[0m \u001b[38;5;66;03m# 모델 호출\u001b[39;00m\n\u001b[1;32m---> 16\u001b[0m response \u001b[38;5;241m=\u001b[39m \u001b[43mmodel\u001b[49m\u001b[38;5;241;43m.\u001b[39;49m\u001b[43minvoke\u001b[49m\u001b[43m(\u001b[49m\u001b[43mmessages\u001b[49m\u001b[43m)\u001b[49m\n\u001b[0;32m     18\u001b[0m \u001b[38;5;66;03m# 응답 반환\u001b[39;00m\n\u001b[0;32m     19\u001b[0m \u001b[38;5;28;01mreturn\u001b[39;00m {\u001b[38;5;124m\"\u001b[39m\u001b[38;5;124mmessages\u001b[39m\u001b[38;5;124m\"\u001b[39m: [response]}\n",
      "File \u001b[1;32mc:\\Users\\user\\anaconda3\\envs\\myenv\\Lib\\site-packages\\langchain_core\\language_models\\chat_models.py:277\u001b[0m, in \u001b[0;36mBaseChatModel.invoke\u001b[1;34m(self, input, config, stop, **kwargs)\u001b[0m\n\u001b[0;32m    266\u001b[0m \u001b[38;5;28;01mdef\u001b[39;00m \u001b[38;5;21minvoke\u001b[39m(\n\u001b[0;32m    267\u001b[0m     \u001b[38;5;28mself\u001b[39m,\n\u001b[0;32m    268\u001b[0m     \u001b[38;5;28minput\u001b[39m: LanguageModelInput,\n\u001b[1;32m   (...)\u001b[0m\n\u001b[0;32m    272\u001b[0m     \u001b[38;5;241m*\u001b[39m\u001b[38;5;241m*\u001b[39mkwargs: Any,\n\u001b[0;32m    273\u001b[0m ) \u001b[38;5;241m-\u001b[39m\u001b[38;5;241m>\u001b[39m BaseMessage:\n\u001b[0;32m    274\u001b[0m     config \u001b[38;5;241m=\u001b[39m ensure_config(config)\n\u001b[0;32m    275\u001b[0m     \u001b[38;5;28;01mreturn\u001b[39;00m cast(\n\u001b[0;32m    276\u001b[0m         ChatGeneration,\n\u001b[1;32m--> 277\u001b[0m         \u001b[38;5;28;43mself\u001b[39;49m\u001b[38;5;241;43m.\u001b[39;49m\u001b[43mgenerate_prompt\u001b[49m\u001b[43m(\u001b[49m\n\u001b[0;32m    278\u001b[0m \u001b[43m            \u001b[49m\u001b[43m[\u001b[49m\u001b[38;5;28;43mself\u001b[39;49m\u001b[38;5;241;43m.\u001b[39;49m\u001b[43m_convert_input\u001b[49m\u001b[43m(\u001b[49m\u001b[38;5;28;43minput\u001b[39;49m\u001b[43m)\u001b[49m\u001b[43m]\u001b[49m\u001b[43m,\u001b[49m\n\u001b[0;32m    279\u001b[0m \u001b[43m            \u001b[49m\u001b[43mstop\u001b[49m\u001b[38;5;241;43m=\u001b[39;49m\u001b[43mstop\u001b[49m\u001b[43m,\u001b[49m\n\u001b[0;32m    280\u001b[0m \u001b[43m            \u001b[49m\u001b[43mcallbacks\u001b[49m\u001b[38;5;241;43m=\u001b[39;49m\u001b[43mconfig\u001b[49m\u001b[38;5;241;43m.\u001b[39;49m\u001b[43mget\u001b[49m\u001b[43m(\u001b[49m\u001b[38;5;124;43m\"\u001b[39;49m\u001b[38;5;124;43mcallbacks\u001b[39;49m\u001b[38;5;124;43m\"\u001b[39;49m\u001b[43m)\u001b[49m\u001b[43m,\u001b[49m\n\u001b[0;32m    281\u001b[0m \u001b[43m            \u001b[49m\u001b[43mtags\u001b[49m\u001b[38;5;241;43m=\u001b[39;49m\u001b[43mconfig\u001b[49m\u001b[38;5;241;43m.\u001b[39;49m\u001b[43mget\u001b[49m\u001b[43m(\u001b[49m\u001b[38;5;124;43m\"\u001b[39;49m\u001b[38;5;124;43mtags\u001b[39;49m\u001b[38;5;124;43m\"\u001b[39;49m\u001b[43m)\u001b[49m\u001b[43m,\u001b[49m\n\u001b[0;32m    282\u001b[0m \u001b[43m            \u001b[49m\u001b[43mmetadata\u001b[49m\u001b[38;5;241;43m=\u001b[39;49m\u001b[43mconfig\u001b[49m\u001b[38;5;241;43m.\u001b[39;49m\u001b[43mget\u001b[49m\u001b[43m(\u001b[49m\u001b[38;5;124;43m\"\u001b[39;49m\u001b[38;5;124;43mmetadata\u001b[39;49m\u001b[38;5;124;43m\"\u001b[39;49m\u001b[43m)\u001b[49m\u001b[43m,\u001b[49m\n\u001b[0;32m    283\u001b[0m \u001b[43m            \u001b[49m\u001b[43mrun_name\u001b[49m\u001b[38;5;241;43m=\u001b[39;49m\u001b[43mconfig\u001b[49m\u001b[38;5;241;43m.\u001b[39;49m\u001b[43mget\u001b[49m\u001b[43m(\u001b[49m\u001b[38;5;124;43m\"\u001b[39;49m\u001b[38;5;124;43mrun_name\u001b[39;49m\u001b[38;5;124;43m\"\u001b[39;49m\u001b[43m)\u001b[49m\u001b[43m,\u001b[49m\n\u001b[0;32m    284\u001b[0m \u001b[43m            \u001b[49m\u001b[43mrun_id\u001b[49m\u001b[38;5;241;43m=\u001b[39;49m\u001b[43mconfig\u001b[49m\u001b[38;5;241;43m.\u001b[39;49m\u001b[43mpop\u001b[49m\u001b[43m(\u001b[49m\u001b[38;5;124;43m\"\u001b[39;49m\u001b[38;5;124;43mrun_id\u001b[39;49m\u001b[38;5;124;43m\"\u001b[39;49m\u001b[43m,\u001b[49m\u001b[43m \u001b[49m\u001b[38;5;28;43;01mNone\u001b[39;49;00m\u001b[43m)\u001b[49m\u001b[43m,\u001b[49m\n\u001b[0;32m    285\u001b[0m \u001b[43m            \u001b[49m\u001b[38;5;241;43m*\u001b[39;49m\u001b[38;5;241;43m*\u001b[39;49m\u001b[43mkwargs\u001b[49m\u001b[43m,\u001b[49m\n\u001b[0;32m    286\u001b[0m \u001b[43m        \u001b[49m\u001b[43m)\u001b[49m\u001b[38;5;241m.\u001b[39mgenerations[\u001b[38;5;241m0\u001b[39m][\u001b[38;5;241m0\u001b[39m],\n\u001b[0;32m    287\u001b[0m     )\u001b[38;5;241m.\u001b[39mmessage\n",
      "File \u001b[1;32mc:\\Users\\user\\anaconda3\\envs\\myenv\\Lib\\site-packages\\langchain_core\\language_models\\chat_models.py:777\u001b[0m, in \u001b[0;36mBaseChatModel.generate_prompt\u001b[1;34m(self, prompts, stop, callbacks, **kwargs)\u001b[0m\n\u001b[0;32m    769\u001b[0m \u001b[38;5;28;01mdef\u001b[39;00m \u001b[38;5;21mgenerate_prompt\u001b[39m(\n\u001b[0;32m    770\u001b[0m     \u001b[38;5;28mself\u001b[39m,\n\u001b[0;32m    771\u001b[0m     prompts: List[PromptValue],\n\u001b[1;32m   (...)\u001b[0m\n\u001b[0;32m    774\u001b[0m     \u001b[38;5;241m*\u001b[39m\u001b[38;5;241m*\u001b[39mkwargs: Any,\n\u001b[0;32m    775\u001b[0m ) \u001b[38;5;241m-\u001b[39m\u001b[38;5;241m>\u001b[39m LLMResult:\n\u001b[0;32m    776\u001b[0m     prompt_messages \u001b[38;5;241m=\u001b[39m [p\u001b[38;5;241m.\u001b[39mto_messages() \u001b[38;5;28;01mfor\u001b[39;00m p \u001b[38;5;129;01min\u001b[39;00m prompts]\n\u001b[1;32m--> 777\u001b[0m     \u001b[38;5;28;01mreturn\u001b[39;00m \u001b[38;5;28;43mself\u001b[39;49m\u001b[38;5;241;43m.\u001b[39;49m\u001b[43mgenerate\u001b[49m\u001b[43m(\u001b[49m\u001b[43mprompt_messages\u001b[49m\u001b[43m,\u001b[49m\u001b[43m \u001b[49m\u001b[43mstop\u001b[49m\u001b[38;5;241;43m=\u001b[39;49m\u001b[43mstop\u001b[49m\u001b[43m,\u001b[49m\u001b[43m \u001b[49m\u001b[43mcallbacks\u001b[49m\u001b[38;5;241;43m=\u001b[39;49m\u001b[43mcallbacks\u001b[49m\u001b[43m,\u001b[49m\u001b[43m \u001b[49m\u001b[38;5;241;43m*\u001b[39;49m\u001b[38;5;241;43m*\u001b[39;49m\u001b[43mkwargs\u001b[49m\u001b[43m)\u001b[49m\n",
      "File \u001b[1;32mc:\\Users\\user\\anaconda3\\envs\\myenv\\Lib\\site-packages\\langchain_core\\language_models\\chat_models.py:634\u001b[0m, in \u001b[0;36mBaseChatModel.generate\u001b[1;34m(self, messages, stop, callbacks, tags, metadata, run_name, run_id, **kwargs)\u001b[0m\n\u001b[0;32m    632\u001b[0m         \u001b[38;5;28;01mif\u001b[39;00m run_managers:\n\u001b[0;32m    633\u001b[0m             run_managers[i]\u001b[38;5;241m.\u001b[39mon_llm_error(e, response\u001b[38;5;241m=\u001b[39mLLMResult(generations\u001b[38;5;241m=\u001b[39m[]))\n\u001b[1;32m--> 634\u001b[0m         \u001b[38;5;28;01mraise\u001b[39;00m e\n\u001b[0;32m    635\u001b[0m flattened_outputs \u001b[38;5;241m=\u001b[39m [\n\u001b[0;32m    636\u001b[0m     LLMResult(generations\u001b[38;5;241m=\u001b[39m[res\u001b[38;5;241m.\u001b[39mgenerations], llm_output\u001b[38;5;241m=\u001b[39mres\u001b[38;5;241m.\u001b[39mllm_output)  \u001b[38;5;66;03m# type: ignore[list-item]\u001b[39;00m\n\u001b[0;32m    637\u001b[0m     \u001b[38;5;28;01mfor\u001b[39;00m res \u001b[38;5;129;01min\u001b[39;00m results\n\u001b[0;32m    638\u001b[0m ]\n\u001b[0;32m    639\u001b[0m llm_output \u001b[38;5;241m=\u001b[39m \u001b[38;5;28mself\u001b[39m\u001b[38;5;241m.\u001b[39m_combine_llm_outputs([res\u001b[38;5;241m.\u001b[39mllm_output \u001b[38;5;28;01mfor\u001b[39;00m res \u001b[38;5;129;01min\u001b[39;00m results])\n",
      "File \u001b[1;32mc:\\Users\\user\\anaconda3\\envs\\myenv\\Lib\\site-packages\\langchain_core\\language_models\\chat_models.py:624\u001b[0m, in \u001b[0;36mBaseChatModel.generate\u001b[1;34m(self, messages, stop, callbacks, tags, metadata, run_name, run_id, **kwargs)\u001b[0m\n\u001b[0;32m    621\u001b[0m \u001b[38;5;28;01mfor\u001b[39;00m i, m \u001b[38;5;129;01min\u001b[39;00m \u001b[38;5;28menumerate\u001b[39m(messages):\n\u001b[0;32m    622\u001b[0m     \u001b[38;5;28;01mtry\u001b[39;00m:\n\u001b[0;32m    623\u001b[0m         results\u001b[38;5;241m.\u001b[39mappend(\n\u001b[1;32m--> 624\u001b[0m             \u001b[38;5;28;43mself\u001b[39;49m\u001b[38;5;241;43m.\u001b[39;49m\u001b[43m_generate_with_cache\u001b[49m\u001b[43m(\u001b[49m\n\u001b[0;32m    625\u001b[0m \u001b[43m                \u001b[49m\u001b[43mm\u001b[49m\u001b[43m,\u001b[49m\n\u001b[0;32m    626\u001b[0m \u001b[43m                \u001b[49m\u001b[43mstop\u001b[49m\u001b[38;5;241;43m=\u001b[39;49m\u001b[43mstop\u001b[49m\u001b[43m,\u001b[49m\n\u001b[0;32m    627\u001b[0m \u001b[43m                \u001b[49m\u001b[43mrun_manager\u001b[49m\u001b[38;5;241;43m=\u001b[39;49m\u001b[43mrun_managers\u001b[49m\u001b[43m[\u001b[49m\u001b[43mi\u001b[49m\u001b[43m]\u001b[49m\u001b[43m \u001b[49m\u001b[38;5;28;43;01mif\u001b[39;49;00m\u001b[43m \u001b[49m\u001b[43mrun_managers\u001b[49m\u001b[43m \u001b[49m\u001b[38;5;28;43;01melse\u001b[39;49;00m\u001b[43m \u001b[49m\u001b[38;5;28;43;01mNone\u001b[39;49;00m\u001b[43m,\u001b[49m\n\u001b[0;32m    628\u001b[0m \u001b[43m                \u001b[49m\u001b[38;5;241;43m*\u001b[39;49m\u001b[38;5;241;43m*\u001b[39;49m\u001b[43mkwargs\u001b[49m\u001b[43m,\u001b[49m\n\u001b[0;32m    629\u001b[0m \u001b[43m            \u001b[49m\u001b[43m)\u001b[49m\n\u001b[0;32m    630\u001b[0m         )\n\u001b[0;32m    631\u001b[0m     \u001b[38;5;28;01mexcept\u001b[39;00m \u001b[38;5;167;01mBaseException\u001b[39;00m \u001b[38;5;28;01mas\u001b[39;00m e:\n\u001b[0;32m    632\u001b[0m         \u001b[38;5;28;01mif\u001b[39;00m run_managers:\n",
      "File \u001b[1;32mc:\\Users\\user\\anaconda3\\envs\\myenv\\Lib\\site-packages\\langchain_core\\language_models\\chat_models.py:846\u001b[0m, in \u001b[0;36mBaseChatModel._generate_with_cache\u001b[1;34m(self, messages, stop, run_manager, **kwargs)\u001b[0m\n\u001b[0;32m    844\u001b[0m \u001b[38;5;28;01melse\u001b[39;00m:\n\u001b[0;32m    845\u001b[0m     \u001b[38;5;28;01mif\u001b[39;00m inspect\u001b[38;5;241m.\u001b[39msignature(\u001b[38;5;28mself\u001b[39m\u001b[38;5;241m.\u001b[39m_generate)\u001b[38;5;241m.\u001b[39mparameters\u001b[38;5;241m.\u001b[39mget(\u001b[38;5;124m\"\u001b[39m\u001b[38;5;124mrun_manager\u001b[39m\u001b[38;5;124m\"\u001b[39m):\n\u001b[1;32m--> 846\u001b[0m         result \u001b[38;5;241m=\u001b[39m \u001b[38;5;28;43mself\u001b[39;49m\u001b[38;5;241;43m.\u001b[39;49m\u001b[43m_generate\u001b[49m\u001b[43m(\u001b[49m\n\u001b[0;32m    847\u001b[0m \u001b[43m            \u001b[49m\u001b[43mmessages\u001b[49m\u001b[43m,\u001b[49m\u001b[43m \u001b[49m\u001b[43mstop\u001b[49m\u001b[38;5;241;43m=\u001b[39;49m\u001b[43mstop\u001b[49m\u001b[43m,\u001b[49m\u001b[43m \u001b[49m\u001b[43mrun_manager\u001b[49m\u001b[38;5;241;43m=\u001b[39;49m\u001b[43mrun_manager\u001b[49m\u001b[43m,\u001b[49m\u001b[43m \u001b[49m\u001b[38;5;241;43m*\u001b[39;49m\u001b[38;5;241;43m*\u001b[39;49m\u001b[43mkwargs\u001b[49m\n\u001b[0;32m    848\u001b[0m \u001b[43m        \u001b[49m\u001b[43m)\u001b[49m\n\u001b[0;32m    849\u001b[0m     \u001b[38;5;28;01melse\u001b[39;00m:\n\u001b[0;32m    850\u001b[0m         result \u001b[38;5;241m=\u001b[39m \u001b[38;5;28mself\u001b[39m\u001b[38;5;241m.\u001b[39m_generate(messages, stop\u001b[38;5;241m=\u001b[39mstop, \u001b[38;5;241m*\u001b[39m\u001b[38;5;241m*\u001b[39mkwargs)\n",
      "File \u001b[1;32mc:\\Users\\user\\anaconda3\\envs\\myenv\\Lib\\site-packages\\langchain_openai\\chat_models\\base.py:643\u001b[0m, in \u001b[0;36mBaseChatOpenAI._generate\u001b[1;34m(self, messages, stop, run_manager, **kwargs)\u001b[0m\n\u001b[0;32m    639\u001b[0m     stream_iter \u001b[38;5;241m=\u001b[39m \u001b[38;5;28mself\u001b[39m\u001b[38;5;241m.\u001b[39m_stream(\n\u001b[0;32m    640\u001b[0m         messages, stop\u001b[38;5;241m=\u001b[39mstop, run_manager\u001b[38;5;241m=\u001b[39mrun_manager, \u001b[38;5;241m*\u001b[39m\u001b[38;5;241m*\u001b[39mkwargs\n\u001b[0;32m    641\u001b[0m     )\n\u001b[0;32m    642\u001b[0m     \u001b[38;5;28;01mreturn\u001b[39;00m generate_from_stream(stream_iter)\n\u001b[1;32m--> 643\u001b[0m payload \u001b[38;5;241m=\u001b[39m \u001b[38;5;28;43mself\u001b[39;49m\u001b[38;5;241;43m.\u001b[39;49m\u001b[43m_get_request_payload\u001b[49m\u001b[43m(\u001b[49m\u001b[43mmessages\u001b[49m\u001b[43m,\u001b[49m\u001b[43m \u001b[49m\u001b[43mstop\u001b[49m\u001b[38;5;241;43m=\u001b[39;49m\u001b[43mstop\u001b[49m\u001b[43m,\u001b[49m\u001b[43m \u001b[49m\u001b[38;5;241;43m*\u001b[39;49m\u001b[38;5;241;43m*\u001b[39;49m\u001b[43mkwargs\u001b[49m\u001b[43m)\u001b[49m\n\u001b[0;32m    644\u001b[0m generation_info \u001b[38;5;241m=\u001b[39m \u001b[38;5;28;01mNone\u001b[39;00m\n\u001b[0;32m    645\u001b[0m \u001b[38;5;28;01mif\u001b[39;00m \u001b[38;5;124m\"\u001b[39m\u001b[38;5;124mresponse_format\u001b[39m\u001b[38;5;124m\"\u001b[39m \u001b[38;5;129;01min\u001b[39;00m payload:\n",
      "File \u001b[1;32mc:\\Users\\user\\anaconda3\\envs\\myenv\\Lib\\site-packages\\langchain_openai\\chat_models\\base.py:672\u001b[0m, in \u001b[0;36mBaseChatOpenAI._get_request_payload\u001b[1;34m(self, input_, stop, **kwargs)\u001b[0m\n\u001b[0;32m    669\u001b[0m \u001b[38;5;28;01mif\u001b[39;00m stop \u001b[38;5;129;01mis\u001b[39;00m \u001b[38;5;129;01mnot\u001b[39;00m \u001b[38;5;28;01mNone\u001b[39;00m:\n\u001b[0;32m    670\u001b[0m     kwargs[\u001b[38;5;124m\"\u001b[39m\u001b[38;5;124mstop\u001b[39m\u001b[38;5;124m\"\u001b[39m] \u001b[38;5;241m=\u001b[39m stop\n\u001b[0;32m    671\u001b[0m \u001b[38;5;28;01mreturn\u001b[39;00m {\n\u001b[1;32m--> 672\u001b[0m     \u001b[38;5;124m\"\u001b[39m\u001b[38;5;124mmessages\u001b[39m\u001b[38;5;124m\"\u001b[39m: \u001b[43m[\u001b[49m\u001b[43m_convert_message_to_dict\u001b[49m\u001b[43m(\u001b[49m\u001b[43mm\u001b[49m\u001b[43m)\u001b[49m\u001b[43m \u001b[49m\u001b[38;5;28;43;01mfor\u001b[39;49;00m\u001b[43m \u001b[49m\u001b[43mm\u001b[49m\u001b[43m \u001b[49m\u001b[38;5;129;43;01min\u001b[39;49;00m\u001b[43m \u001b[49m\u001b[43mmessages\u001b[49m\u001b[43m]\u001b[49m,\n\u001b[0;32m    673\u001b[0m     \u001b[38;5;241m*\u001b[39m\u001b[38;5;241m*\u001b[39m\u001b[38;5;28mself\u001b[39m\u001b[38;5;241m.\u001b[39m_default_params,\n\u001b[0;32m    674\u001b[0m     \u001b[38;5;241m*\u001b[39m\u001b[38;5;241m*\u001b[39mkwargs,\n\u001b[0;32m    675\u001b[0m }\n",
      "File \u001b[1;32mc:\\Users\\user\\anaconda3\\envs\\myenv\\Lib\\site-packages\\langchain_openai\\chat_models\\base.py:672\u001b[0m, in \u001b[0;36m<listcomp>\u001b[1;34m(.0)\u001b[0m\n\u001b[0;32m    669\u001b[0m \u001b[38;5;28;01mif\u001b[39;00m stop \u001b[38;5;129;01mis\u001b[39;00m \u001b[38;5;129;01mnot\u001b[39;00m \u001b[38;5;28;01mNone\u001b[39;00m:\n\u001b[0;32m    670\u001b[0m     kwargs[\u001b[38;5;124m\"\u001b[39m\u001b[38;5;124mstop\u001b[39m\u001b[38;5;124m\"\u001b[39m] \u001b[38;5;241m=\u001b[39m stop\n\u001b[0;32m    671\u001b[0m \u001b[38;5;28;01mreturn\u001b[39;00m {\n\u001b[1;32m--> 672\u001b[0m     \u001b[38;5;124m\"\u001b[39m\u001b[38;5;124mmessages\u001b[39m\u001b[38;5;124m\"\u001b[39m: [\u001b[43m_convert_message_to_dict\u001b[49m\u001b[43m(\u001b[49m\u001b[43mm\u001b[49m\u001b[43m)\u001b[49m \u001b[38;5;28;01mfor\u001b[39;00m m \u001b[38;5;129;01min\u001b[39;00m messages],\n\u001b[0;32m    673\u001b[0m     \u001b[38;5;241m*\u001b[39m\u001b[38;5;241m*\u001b[39m\u001b[38;5;28mself\u001b[39m\u001b[38;5;241m.\u001b[39m_default_params,\n\u001b[0;32m    674\u001b[0m     \u001b[38;5;241m*\u001b[39m\u001b[38;5;241m*\u001b[39mkwargs,\n\u001b[0;32m    675\u001b[0m }\n",
      "File \u001b[1;32mc:\\Users\\user\\anaconda3\\envs\\myenv\\Lib\\site-packages\\langchain_openai\\chat_models\\base.py:232\u001b[0m, in \u001b[0;36m_convert_message_to_dict\u001b[1;34m(message)\u001b[0m\n\u001b[0;32m    230\u001b[0m     message_dict \u001b[38;5;241m=\u001b[39m {k: v \u001b[38;5;28;01mfor\u001b[39;00m k, v \u001b[38;5;129;01min\u001b[39;00m message_dict\u001b[38;5;241m.\u001b[39mitems() \u001b[38;5;28;01mif\u001b[39;00m k \u001b[38;5;129;01min\u001b[39;00m supported_props}\n\u001b[0;32m    231\u001b[0m \u001b[38;5;28;01melse\u001b[39;00m:\n\u001b[1;32m--> 232\u001b[0m     \u001b[38;5;28;01mraise\u001b[39;00m \u001b[38;5;167;01mTypeError\u001b[39;00m(\u001b[38;5;124mf\u001b[39m\u001b[38;5;124m\"\u001b[39m\u001b[38;5;124mGot unknown type \u001b[39m\u001b[38;5;132;01m{\u001b[39;00mmessage\u001b[38;5;132;01m}\u001b[39;00m\u001b[38;5;124m\"\u001b[39m)\n\u001b[0;32m    233\u001b[0m \u001b[38;5;28;01mreturn\u001b[39;00m message_dict\n",
      "\u001b[1;31mTypeError\u001b[0m: Got unknown type content='' id='8c58bb1a-2dab-4b35-a3d8-8d2b10a69c9c'"
     ]
    }
   ],
   "source": [
    "# 사용자 메시지 객체 생성\n",
    "input_message = HumanMessage(content=\"제 이름이 무엇인지 기억하세요?\")\n",
    "\n",
    "# 메시지 내용 출력\n",
    "input_message.pretty_print()\n",
    "\n",
    "# 스트림 이벤트 실시간 처리 및 업데이트\n",
    "for event in app.stream({\"messages\": [input_message]}, config, stream_mode=\"updates\"):\n",
    "    print_update(event)"
   ]
  },
  {
   "cell_type": "markdown",
   "metadata": {},
   "source": [
    "# 12) 서브그래프 추가 및 사용 방법\n",
    "\n",
    "SubGraph 를 사용하면 여러 구성 요소를 포함하는 복잡한 시스템을 구축할 수 있으며, 이러한 구성 요소 자체가 그래프가 될 수 있습니다. SubGraph 의 일반적인 사용 사례는 멀티 에이전트 시스템 구축입니다.\n",
    "\n",
    "SubGraph 를 추가할 때 주요 고려사항은 상위 그래프와 SubGraph 가 어떻게 통신하는지, 즉 그래프 실행 중에 상태(State) 를 서로 어떻게 전달하는지입니다. \n",
    "\n",
    "다음 두 가지 시나리오가 있습니다.\n",
    "\n",
    "* 상위 그래프와 서브그래프가 **스키마 키를 공유**하는 경우. 이 경우 **컴파일된 서브그래프로 노드를 추가** 할 수 있습니다\n",
    "* 상위 그래프와 서브그래프가 **서로 다른 스키마**를 가지는 경우. 이 경우 **서브그래프를 호출하는 노드 함수를 추가** 해야 합니다. \n",
    " \n",
    "이는 상위 그래프와 서브그래프가 서로 다른 상태 스키마를 가지고 있고 서브그래프를 호출하기 전후에 상태를 변환해야 할 때 유용합니다.\n",
    "\n",
    "아래에서 각 시나리오에 대한 서브그래프 추가 방법을 보여드리겠습니다."
   ]
  },
  {
   "cell_type": "markdown",
   "metadata": {},
   "source": [
    "## Case 1: 스키마 키를 공유하는 경우 -> state 안에 있는 키를 공유하는 경우\n",
    "\n",
    "- 컴파일된 SubGraph 로 노드 추가하기\n",
    "\n",
    "상위 그래프와 서브그래프가 공유 상태 키(State Key) 를 통해 통신하는 것이 일반적인 사례입니다. \n",
    "\n",
    "예를 들어, **멀티 에이전트 시스템** 에서 에이전트들은 주로 공유된 `messages` 키를 통해 통신합니다.\n",
    "\n",
    "서브그래프가 상위 그래프와 상태 키를 공유하는 경우, 다음 단계에 따라 그래프에 추가할 수 있습니다.\n",
    "\n",
    "1. 서브그래프 워크플로우를 정의하고(아래 예시의 `subgraph_builder`) 컴파일\n",
    "2. 상위 그래프 워크플로우를 정의할 때 `.add_node` 메서드에 컴파일된 서브그래프 전달\n",
    "\n",
    "그럼, 아래에서 간단한 예시를 살펴보겠습니다."
   ]
  },
  {
   "cell_type": "code",
   "execution_count": 3,
   "metadata": {},
   "outputs": [
    {
     "data": {
      "image/jpeg": "[encoded data removed]",
      "text/plain": [
       "<IPython.core.display.Image object>"
      ]
     },
     "metadata": {},
     "output_type": "display_data"
    }
   ],
   "source": [
    "# API 키를 환경변수로 관리하기 위한 설정 파일\n",
    "from dotenv import load_dotenv\n",
    "\n",
    "# API 키 정보 로드\n",
    "load_dotenv()\n",
    "\n",
    "from langgraph.graph import START, END, StateGraph\n",
    "from typing import TypedDict\n",
    "\n",
    "\n",
    "# 서브그래프 상태 정의를 위한 TypedDict 클래스, 부모 그래프와 공유되는 name 키와 서브그래프 전용 family_name 키 포함\n",
    "class ChildState(TypedDict):\n",
    "    name: str  # 부모 그래프와 공유되는 상태 키\n",
    "    family_name: str\n",
    "\n",
    "\n",
    "# 서브그래프의 첫 번째 노드, family_name 키에 초기값 설정\n",
    "def subgraph_node_1(state: ChildState):\n",
    "    return {\"family_name\": \"Lee\"}\n",
    "\n",
    "\n",
    "# 서브그래프의 두 번째 노드, 서브그래프 전용 family_name 키와 공유 name 키를 결합하여 새로운 상태 생성\n",
    "def subgraph_node_2(state: ChildState):\n",
    "    # 서브그래프 내부에서만 사용 가능한 family_name 키와 공유 상태 키 name를 사용하여 업데이트 수행\n",
    "    return {\"name\": f'{state[\"name\"]} {state[\"family_name\"]}'}\n",
    "\n",
    "\n",
    "# 서브그래프 구조 정의 및 노드 간 연결 관계 설정\n",
    "subgraph_builder = StateGraph(ChildState)\n",
    "subgraph_builder.add_node(subgraph_node_1)\n",
    "subgraph_builder.add_node(subgraph_node_2)\n",
    "subgraph_builder.add_edge(START, \"subgraph_node_1\")\n",
    "subgraph_builder.add_edge(\"subgraph_node_1\", \"subgraph_node_2\")\n",
    "subgraph = subgraph_builder.compile()\n",
    "\n",
    "from langchain_teddynote.graphs import visualize_graph\n",
    "\n",
    "visualize_graph(subgraph, xray=True)"
   ]
  },
  {
   "cell_type": "code",
   "execution_count": null,
   "metadata": {},
   "outputs": [
    {
     "name": "stdout",
     "output_type": "stream",
     "text": [
      "[ERROR] Visualize Graph Error: Node.__new__() missing 2 required positional arguments: 'data' and 'metadata'\n"
     ]
    }
   ],
   "source": [
    "# 부모 그래프의 상태 정의를 위한 TypedDict 클래스, name 키만 포함\n",
    "class ParentState(TypedDict):\n",
    "    name: str   # <---------------서브 그래프와 state 이름 똑같음\n",
    "    company: str\n",
    "\n",
    "\n",
    "# 부모 그래프의 첫 번째 노드, name 키의 값을 수정하여 새로운 상태 생성\n",
    "def node_1(state: ParentState):\n",
    "    return {\"name\": f'My name is {state[\"name\"]}'}\n",
    "\n",
    "\n",
    "# 부모 그래프 구조 정의 및 서브그래프를 포함한 노드 간 연결 관계 설정\n",
    "builder = StateGraph(ParentState)\n",
    "builder.add_node(\"node_1\", node_1)\n",
    "# 컴파일된 서브그래프를 부모 그래프의 노드로 추가\n",
    "builder.add_node(\"node_2\", subgraph)    # <----------------노드로써 서브 그래프를 추가가\n",
    "builder.add_edge(START, \"node_1\")\n",
    "builder.add_edge(\"node_1\", \"node_2\")\n",
    "builder.add_edge(\"node_2\", END)\n",
    "graph = builder.compile()\n",
    "\n",
    "visualize_graph(graph, xray=True)"
   ]
  },
  {
   "cell_type": "markdown",
   "metadata": {},
   "source": [
    "상위 그래프의 최종 출력에는 하위 그래프 호출의 결과가 포함되어 있습니다. \n",
    "\n",
    "이때, 하위 그래프의 출력을 확인하려면 스트리밍 시 `subgraphs=True`를 지정하면 됩니다."
   ]
  },
  {
   "cell_type": "code",
   "execution_count": 5,
   "metadata": {},
   "outputs": [
    {
     "name": "stdout",
     "output_type": "stream",
     "text": [
      "{'node_1': {'name': 'My name is Teddy'}}\n",
      "{'node_2': {'name': 'My name is Teddy Lee'}}\n"
     ]
    }
   ],
   "source": [
    "# 그래프 스트리밍 처리를 통한 서브그래프 데이터 청크 단위 순차 출력\n",
    "# subgraphs 파라미터를 True로 설정하여 하위 그래프 포함 스트리밍 처리\n",
    "for chunk in graph.stream({\"name\": \"Teddy\"}):\n",
    "    print(chunk)"
   ]
  },
  {
   "cell_type": "markdown",
   "metadata": {},
   "source": [
    "## Case 2: 스키마 키를 공유하지 않는 경우\n",
    "\n",
    "- 하위 그래프를 호출하는 노드 함수 추가\n",
    "\n",
    "더 복잡한 시스템의 경우, 상위 그래프와 완전히 다른 스키마를 가진 하위 그래프를 정의해야 할 수 있습니다(공유되는 상태 키가 없는 경우 입니다). \n",
    "\n",
    "이러한 경우라면, **하위 그래프를 호출하는 노드 함수**를 정의해야 합니다. \n",
    "\n",
    "이 함수는 하위 그래프를 호출하기 전에 상위 상태(Parent State) 를 하위 그래프 상태(Child State) 로 변환하고, 노드에서 상태 업데이트를 반환하기 전에 결과를 다시 상위 상태(Parent State) 로 변환해야 합니다.\n",
    "\n",
    "아래에서 노드 내부에서 하위 그래프를 호출하도록 원래 예제를 수정하는 방법을 보여줍니다.\n",
    "\n",
    "**참고**\n",
    "\n",
    "- 동일한 노드 내에서 두 개 이상의 `subgraph`를 호출할 수 **없습니다**."
   ]
  },
  {
   "cell_type": "code",
   "execution_count": null,
   "metadata": {},
   "outputs": [
    {
     "data": {
      "image/jpeg": "[encoded data removed]",
      "text/plain": [
       "<IPython.core.display.Image object>"
      ]
     },
     "metadata": {},
     "output_type": "display_data"
    }
   ],
   "source": [
    "# 서브그래프의 상태 타입 정의 (부모 그래프와 키를 공유하지 않음)\n",
    "class ChildState(TypedDict):\n",
    "    # 부모 그래프와 공유되지 않는 키들\n",
    "    name: str\n",
    "\n",
    "\n",
    "# 서브그래프의 첫 번째 노드: name 키에 초기값 설정\n",
    "def subgraph_node_1(state: ChildState):\n",
    "    return {\"name\": \"Teddy \" + state[\"name\"]}\n",
    "\n",
    "\n",
    "# 서브그래프의 두 번째 노드: name 값 그대로 반환\n",
    "def subgraph_node_2(state: ChildState):\n",
    "    return {\"name\": f'My name is {state[\"name\"]}'}\n",
    "\n",
    "\n",
    "# 서브그래프 빌더 초기화 및 노드 연결 구성\n",
    "subgraph_builder = StateGraph(ChildState)\n",
    "subgraph_builder.add_node(subgraph_node_1)\n",
    "subgraph_builder.add_node(subgraph_node_2)\n",
    "subgraph_builder.add_edge(START, \"subgraph_node_1\")\n",
    "subgraph_builder.add_edge(\"subgraph_node_1\", \"subgraph_node_2\")\n",
    "subgraph = subgraph_builder.compile()\n",
    "\n",
    "\n",
    "# 부모 그래프의 상태 타입 정의\n",
    "class ParentState(TypedDict):\n",
    "    family_name: str    # <-----------subgraph state와 다름 \n",
    "    full_name: str\n",
    "\n",
    "\n",
    "# 부모 그래프의 첫 번째 노드: family_name 값 그대로 반환\n",
    "def node_1(state: ParentState):\n",
    "    return {\"family_name\": state[\"family_name\"]}\n",
    "\n",
    "\n",
    "# 부모 그래프의 두 번째 노드: 서브그래프와 상태 변환 및 결과 처리\n",
    "def node_2(state: ParentState):\n",
    "    # 부모 상태를 서브그래프 상태로 변환\n",
    "    response = subgraph.invoke({\"name\": state[\"family_name\"]})  # <----이 부분이 parent state를 가져와서 child에 넣어줌줌\n",
    "    # 서브그래프 응답을 부모 상태로 변환\n",
    "    return {\"full_name\": response[\"name\"]}  # <------------response가 subgraph이니 이거를 다시 parent state에 넣어줌줌\n",
    "\n",
    "\n",
    "# 부모 그래프 빌더 초기화 및 노드 연결 구성\n",
    "builder = StateGraph(ParentState)\n",
    "builder.add_node(\"node_1\", node_1)\n",
    "\n",
    "# 컴파일된 서브그래프 대신 서브그래프를 호출하는 node_2 함수 사용\n",
    "builder.add_node(\"node_2\", node_2)\n",
    "builder.add_edge(START, \"node_1\")\n",
    "builder.add_edge(\"node_1\", \"node_2\")\n",
    "builder.add_edge(\"node_2\", END)\n",
    "graph = builder.compile()\n",
    "\n",
    "\n",
    "visualize_graph(graph, xray=True)"
   ]
  },
  {
   "cell_type": "code",
   "execution_count": 8,
   "metadata": {},
   "outputs": [
    {
     "name": "stdout",
     "output_type": "stream",
     "text": [
      "{'node_1': {'family_name': 'Lee'}}\n",
      "{'node_2': {'full_name': 'My name is Teddy Lee'}}\n"
     ]
    }
   ],
   "source": [
    "# 그래프 스트리밍 처리를 통한 서브그래프 데이터 청크 단위 순차 출력\n",
    "# subgraphs=True 옵션으로 하위 그래프 포함하여 스트림 데이터 처리\n",
    "for chunk in graph.stream({\"family_name\": \"Lee\"}):\n",
    "    print(chunk)"
   ]
  },
  {
   "cell_type": "markdown",
   "metadata": {},
   "source": [
    "# 13) `subgraph`의 입력과 출력을 변환하는 방법\n",
    "\n",
    "`subgraph` **상태**가 `parent graph` 상태와 완전히 독립적일 수 있습니다. \n",
    "\n",
    "즉, 두 그래프 간에 중복되는 상태 키(state keys) 가 없을 수 있습니다. \n",
    "\n",
    "이러한 경우에는 `subgraph`를 호출하기 전에 입력을 변환하고, 반환하기 전에 출력을 변환해야 합니다. "
   ]
  },
  {
   "cell_type": "markdown",
   "metadata": {},
   "source": [
    "## `graph`와 `subgraph` 정의\n",
    "\n",
    "다음과 같이 3개의 `graph`를 정의하겠습니다.\n",
    "\n",
    "- `parent graph`\n",
    "  \n",
    "- `parent graph` 에 의해 호출될 `child subgraph`\n",
    "\n",
    "- `child graph` 에 의해 호출될 `grandchild subgraph`"
   ]
  },
  {
   "cell_type": "markdown",
   "metadata": {},
   "source": [
    "## `grandchild` 정의"
   ]
  },
  {
   "cell_type": "code",
   "execution_count": null,
   "metadata": {},
   "outputs": [
    {
     "data": {
      "image/jpeg": "[encoded data removed]",
      "text/plain": [
       "<IPython.core.display.Image object>"
      ]
     },
     "metadata": {},
     "output_type": "display_data"
    }
   ],
   "source": [
    "# 상태 관리를 위한 TypedDict와 StateGraph 관련 모듈 임포트\n",
    "from typing_extensions import TypedDict\n",
    "from langgraph.graph.state import StateGraph, START, END\n",
    "\n",
    "\n",
    "# 손자 노드의 상태를 정의하는 TypedDict 클래스, 문자열 타입의 my_grandchild_key 포함\n",
    "class GrandChildState(TypedDict):\n",
    "    my_grandchild_key: str  # <-------------다른 graph와 공유하지않음\n",
    "\n",
    "\n",
    "# 손자 노드의 상태를 처리하는 함수, 입력된 문자열에 인사말 추가\n",
    "def grandchild_1(state: GrandChildState) -> GrandChildState:\n",
    "    # 자식 또는 부모 키는 여기서 접근 불가\n",
    "    return {\"my_grandchild_key\": f'([GrandChild] {state[\"my_grandchild_key\"]})'}\n",
    "\n",
    "\n",
    "# 손자 노드의 상태 그래프 초기화\n",
    "grandchild = StateGraph(GrandChildState)\n",
    "\n",
    "# 상태 그래프에 손자 노드 추가\n",
    "grandchild.add_node(\"grandchild_1\", grandchild_1)\n",
    "\n",
    "# 시작 노드에서 손자 노드로의 엣지 연결\n",
    "grandchild.add_edge(START, \"grandchild_1\")\n",
    "\n",
    "# 손자 노드에서 종료 노드로의 엣지 연결\n",
    "grandchild.add_edge(\"grandchild_1\", END)\n",
    "\n",
    "# 정의된 상태 그래프 컴파일 및 실행 가능한 그래프 생성\n",
    "grandchild_graph = grandchild.compile()\n",
    "\n",
    "visualize_graph(grandchild_graph, xray=True)"
   ]
  },
  {
   "cell_type": "code",
   "execution_count": 11,
   "metadata": {},
   "outputs": [
    {
     "name": "stdout",
     "output_type": "stream",
     "text": [
      "{'grandchild_1': {'my_grandchild_key': '([GrandChild] Hi, Teddy!)'}}\n"
     ]
    }
   ],
   "source": [
    "# 그래프 호출\n",
    "for chunk in grandchild_graph.stream(\n",
    "    {\"my_grandchild_key\": \"Hi, Teddy!\"}):\n",
    "    print(chunk)"
   ]
  },
  {
   "cell_type": "markdown",
   "metadata": {},
   "source": [
    "## `child` 정의"
   ]
  },
  {
   "cell_type": "code",
   "execution_count": 13,
   "metadata": {},
   "outputs": [
    {
     "data": {
      "image/jpeg": "[encoded data removed]",
      "text/plain": [
       "<IPython.core.display.Image object>"
      ]
     },
     "metadata": {},
     "output_type": "display_data"
    }
   ],
   "source": [
    "# 자식 상태 타입 정의를 위한 TypedDict 클래스\n",
    "class ChildState(TypedDict):\n",
    "    my_child_key: str\n",
    "\n",
    "\n",
    "# 손자 그래프 호출 및 상태 변환 함수, 자식 상태를 입력받아 변환된 자식 상태 반환\n",
    "def call_grandchild_graph(state: ChildState) -> ChildState:\n",
    "    # 참고: 부모 또는 손자 키는 여기서 접근 불가능\n",
    "    # 자식 상태 채널에서 손자 상태 채널로 상태 변환\n",
    "    grandchild_graph_input = {\"my_grandchild_key\": state[\"my_child_key\"]}\n",
    "    # 손자 상태 채널에서 자식 상태 채널로 상태 변환 후 결과 반환\n",
    "    grandchild_graph_output = grandchild_graph.invoke(grandchild_graph_input)\n",
    "    return {\"my_child_key\": f'([Child] {grandchild_graph_output[\"my_grandchild_key\"]})'}\n",
    "\n",
    "\n",
    "# 자식 상태 그래프 초기화\n",
    "child = StateGraph(ChildState)\n",
    "# 참고: 컴파일된 그래프 대신 함수 전달\n",
    "# 자식 그래프에 노드 추가 및 시작-종료 엣지 연결\n",
    "child.add_node(\"child_1\", call_grandchild_graph)\n",
    "child.add_edge(START, \"child_1\")\n",
    "child.add_edge(\"child_1\", END)\n",
    "# 자식 그래프 컴파일\n",
    "child_graph = child.compile()\n",
    "\n",
    "visualize_graph(child_graph, xray=True)"
   ]
  },
  {
   "cell_type": "code",
   "execution_count": 14,
   "metadata": {},
   "outputs": [
    {
     "name": "stdout",
     "output_type": "stream",
     "text": [
      "{'child_1': {'my_child_key': '([Child] ([GrandChild] Hi, Teddy!))'}}\n"
     ]
    }
   ],
   "source": [
    "# child_graph 그래프 호출\n",
    "for chunk in child_graph.stream({\"my_child_key\": \"Hi, Teddy!\"}):\n",
    "    print(chunk)"
   ]
  },
  {
   "cell_type": "markdown",
   "metadata": {},
   "source": [
    "`grandchild_graph`의 호출을 별도의 함수(`call_grandchild_graph`)로 감싸고 있습니다. \n",
    "\n",
    "이 함수는 grandchild 그래프를 호출하기 전에 입력 상태를 변환하고, grandchild 그래프의 출력을 다시 child 그래프 상태로 변환합니다. \n",
    "\n",
    "만약 이러한 변환 없이 `grandchild_graph`를 직접 `.add_node`에 전달하면, child와 grandchild 상태 간에 공유된 상태 키(State Key) 이 없기 때문에 LangGraph에서 오류가 발생하게 됩니다.\n",
    "\n",
    "**중요**\n",
    "\n",
    "`child subgraph` 와 `grandchild subgraph`는 `parent graph`와 공유되지 않는 자신만의 **독립적인** `state`를 가지고 있다는 점에 유의하시기 바랍니다."
   ]
  },
  {
   "cell_type": "markdown",
   "metadata": {},
   "source": [
    "## `parent` 정의"
   ]
  },
  {
   "cell_type": "code",
   "execution_count": 15,
   "metadata": {},
   "outputs": [
    {
     "data": {
      "image/jpeg": "[encoded data removed]",
      "text/plain": [
       "<IPython.core.display.Image object>"
      ]
     },
     "metadata": {},
     "output_type": "display_data"
    }
   ],
   "source": [
    "# 부모 상태 타입 정의를 위한 TypedDict 클래스\n",
    "class ParentState(TypedDict):\n",
    "    my_parent_key: str\n",
    "\n",
    "\n",
    "# 부모 상태의 my_parent_key 값에 '[Parent1]' 문자열을 추가하는 변환 함수\n",
    "def parent_1(state: ParentState) -> ParentState:\n",
    "    # 참고: 자식 또는 손자 키는 여기서 접근 불가\n",
    "    return {\"my_parent_key\": f'([Parent1] {state[\"my_parent_key\"]})'}\n",
    "\n",
    "\n",
    "# 부모 상태의 my_parent_key 값에 '[Parent2]' 문자열을 추가하는 변환 함수\n",
    "def parent_2(state: ParentState) -> ParentState:\n",
    "    return {\"my_parent_key\": f'([Parent2] {state[\"my_parent_key\"]})'}\n",
    "\n",
    "\n",
    "# 부모 상태와 자식 상태 간의 데이터 변환 및 자식 그래프 호출 처리\n",
    "def call_child_graph(state: ParentState) -> ParentState:\n",
    "    # 부모 상태 채널(my_parent_key)에서 자식 상태 채널(my_child_key)로 상태 변환\n",
    "    child_graph_input = {\"my_child_key\": state[\"my_parent_key\"]}\n",
    "    # 자식 상태 채널(my_child_key)에서 부모 상태 채널(my_parent_key)로 상태 변환\n",
    "    child_graph_output = child_graph.invoke(child_graph_input)\n",
    "    return {\"my_parent_key\": child_graph_output[\"my_child_key\"]}\n",
    "\n",
    "\n",
    "# 부모 상태 그래프 초기화 및 노드 구성\n",
    "parent = StateGraph(ParentState)\n",
    "parent.add_node(\"parent_1\", parent_1)\n",
    "\n",
    "# 참고: 컴파일된 그래프가 아닌 함수를 전달\n",
    "parent.add_node(\"child\", call_child_graph)\n",
    "parent.add_node(\"parent_2\", parent_2)\n",
    "\n",
    "# 상태 그래프의 실행 흐름을 정의하는 엣지 구성\n",
    "parent.add_edge(START, \"parent_1\")\n",
    "parent.add_edge(\"parent_1\", \"child\")\n",
    "parent.add_edge(\"child\", \"parent_2\")\n",
    "parent.add_edge(\"parent_2\", END)\n",
    "\n",
    "# 구성된 부모 상태 그래프의 컴파일 및 실행 가능한 그래프 생성\n",
    "parent_graph = parent.compile()\n",
    "\n",
    "visualize_graph(parent_graph, xray=True)"
   ]
  },
  {
   "cell_type": "markdown",
   "metadata": {},
   "source": [
    "`child_graph` 호출을 별도의 함수 `call_child_graph` 로 감싸고 있는데, 이 함수는 자식 그래프를 호출하기 전에 입력 상태를 변환하고 자식 그래프의 출력을 다시 부모 그래프 상태로 변환합니다. \n",
    "\n",
    "변환 없이 `child_graph`를 직접 `.add_node`에 전달하면 부모와 자식 상태 간에 공유된 상태 키(State Key) 이 없기 때문에 LangGraph에서 오류가 발생합니다.\n",
    "\n",
    "그럼, 부모 그래프를 실행하여 자식 및 손자 하위 그래프가 올바르게 호출되는지 확인해보겠습니다."
   ]
  },
  {
   "cell_type": "code",
   "execution_count": 16,
   "metadata": {},
   "outputs": [
    {
     "name": "stdout",
     "output_type": "stream",
     "text": [
      "{'parent_1': {'my_parent_key': '([Parent1] Hi, Teddy!)'}}\n",
      "{'child': {'my_parent_key': '([Child] ([GrandChild] ([Parent1] Hi, Teddy!)))'}}\n",
      "{'parent_2': {'my_parent_key': '([Parent2] ([Child] ([GrandChild] ([Parent1] Hi, Teddy!))))'}}\n"
     ]
    }
   ],
   "source": [
    "# 그래프 실행 및 \"my_parent_key\" 매개변수를 통한 \"Hi, Teddy!\" 값 전달\n",
    "for chunk in parent_graph.stream({\"my_parent_key\": \"Hi, Teddy!\"}):\n",
    "    print(chunk)"
   ]
  },
  {
   "cell_type": "markdown",
   "metadata": {},
   "source": [
    "# 14) 스트리밍 모드\n",
    "\n",
    "`graph`의 전체 상태를 **스트리밍**하는 방법\n",
    "\n",
    "LangGraph는 여러 스트리밍(Streaming) 모드를 지원합니다. \n",
    "\n",
    "주요 모드는 다음과 같습니다\n",
    "\n",
    "- `values`: 이 스트리밍 모드는 그래프의 값들을 스트리밍합니다. 이는 각 노드가 호출된 후의 **그래프의 전체 상태**를 의미합니다.\n",
    "- `updates`: 이 스트리밍 모드는 그래프의 업데이트 내용을 스트리밍합니다. 이는 각 노드가 호출된 후의 **그래프 상태에 대한 업데이트**를 의미합니다.\n",
    "- `messages`: 이 스트리밍 모드는 각 노드의 메시지를 스트리밍합니다. 이때 **LLM 의 토큰 단위의 출력 스트리밍** 도 가능합니다."
   ]
  },
  {
   "cell_type": "markdown",
   "metadata": {},
   "source": [
    "## 그래프 정의하기\n",
    "\n",
    "이 가이드에서는 간단한 에이전트를 사용하겠습니다."
   ]
  },
  {
   "cell_type": "code",
   "execution_count": 17,
   "metadata": {},
   "outputs": [
    {
     "name": "stderr",
     "output_type": "stream",
     "text": [
      "c:\\Users\\user\\anaconda3\\envs\\myenv\\Lib\\site-packages\\pydantic\\_internal\\_config.py:341: UserWarning: Valid config keys have changed in V2:\n",
      "* 'allow_population_by_field_name' has been renamed to 'populate_by_name'\n",
      "* 'smart_union' has been removed\n",
      "  warnings.warn(message, UserWarning)\n"
     ]
    },
    {
     "data": {
      "image/jpeg": "[encoded data removed]",
      "text/plain": [
       "<IPython.core.display.Image object>"
      ]
     },
     "metadata": {},
     "output_type": "display_data"
    }
   ],
   "source": [
    "from typing import Annotated, List, Dict\n",
    "from typing_extensions import TypedDict\n",
    "from langchain.tools import tool\n",
    "from langchain_teddynote.tools import GoogleNews\n",
    "from langchain_openai import ChatOpenAI\n",
    "from langgraph.graph import StateGraph, START, END\n",
    "from langgraph.graph.message import add_messages\n",
    "from langgraph.prebuilt import ToolNode, tools_condition\n",
    "from langchain_teddynote.graphs import visualize_graph\n",
    "\n",
    "\n",
    "########## 1. 상태 정의 ##########\n",
    "# 상태 정의\n",
    "class State(TypedDict):\n",
    "    # 메시지 목록 주석 추가\n",
    "    messages: Annotated[list, add_messages]\n",
    "\n",
    "\n",
    "########## 2. 도구 정의 및 바인딩 ##########\n",
    "# 도구 초기화\n",
    "# 키워드로 뉴스 검색하는 도구 생성\n",
    "@tool\n",
    "def search_keyword(query: str) -> List[Dict[str, str]]:\n",
    "    \"\"\"Look up news by keyword\"\"\"\n",
    "    news_tool = GoogleNews()\n",
    "    return \"\\n\".join(\n",
    "        [f'- {news[\"content\"]}' for news in news_tool.search_by_keyword(query, k=5)]\n",
    "    )\n",
    "\n",
    "\n",
    "# 도구 리스트 생성\n",
    "tools = [search_keyword]\n",
    "\n",
    "# LLM 초기화\n",
    "llm = ChatOpenAI(model=\"gpt-4o-mini\")\n",
    "\n",
    "# 도구와 LLM 결합\n",
    "llm_with_tools = llm.bind_tools(tools)\n",
    "\n",
    "\n",
    "########## 3. 노드 추가 ##########\n",
    "# 챗봇 함수 정의\n",
    "def chatbot(state: State):\n",
    "    # 메시지 호출 및 반환\n",
    "    return {\"messages\": [llm_with_tools.invoke(state[\"messages\"])]}\n",
    "\n",
    "\n",
    "# 상태 그래프 생성\n",
    "graph_builder = StateGraph(State)\n",
    "\n",
    "# 챗봇 노드 추가\n",
    "graph_builder.add_node(\"chatbot\", chatbot)\n",
    "\n",
    "# 도구 노드 생성 및 추가\n",
    "tool_node = ToolNode(tools=[search_keyword])\n",
    "\n",
    "# 도구 노드 추가\n",
    "graph_builder.add_node(\"tools\", tool_node)\n",
    "\n",
    "# 조건부 엣지\n",
    "graph_builder.add_conditional_edges(\n",
    "    \"chatbot\",\n",
    "    tools_condition,\n",
    ")\n",
    "\n",
    "########## 4. 엣지 추가 ##########\n",
    "\n",
    "# tools > chatbot\n",
    "graph_builder.add_edge(\"tools\", \"chatbot\")\n",
    "\n",
    "# START > chatbot\n",
    "graph_builder.add_edge(START, \"chatbot\")\n",
    "\n",
    "# chatbot > END\n",
    "graph_builder.add_edge(\"chatbot\", END)\n",
    "\n",
    "# 그래프 컴파일\n",
    "graph = graph_builder.compile()\n",
    "\n",
    "visualize_graph(graph)"
   ]
  },
  {
   "cell_type": "markdown",
   "metadata": {},
   "source": [
    "## 노드의 단계별 출력\n",
    "\n",
    "**스트리밍 모드**\n",
    "- `values`: 각 단계의 현재 상태 값 출력\n",
    "- `updates`: 각 단계의 상태 업데이트만 출력 (기본값)\n",
    "- `messages`: 각 단계의 메시지 출력\n",
    "\n",
    "여기서 스트리밍의 의미는 LLM 출력시 토큰 단위로 스트리밍하는 개념이 아니라, 단계별로 출력하는 의미를 가집니다.\n",
    "\n",
    "### `stream_mode = \"values\"`\n",
    "\n",
    "`values` 모드는 각 단계의 현재 상태 값을 출력합니다.\n",
    "\n",
    "**참고**\n",
    "\n",
    "`chunk.items()`\n",
    "\n",
    "- `key`: State 의 key 값\n",
    "- `value`: State 의 key 에 대한하는 value\n",
    "\n",
    "#### 동기(Synchronous) 방식의 스트리밍\n",
    "\n",
    "- `chunk` 는 dictionary 형태(key: State 의 key, value: State 의 value)"
   ]
  },
  {
   "cell_type": "code",
   "execution_count": 18,
   "metadata": {},
   "outputs": [
    {
     "name": "stdout",
     "output_type": "stream",
     "text": [
      "================================\u001b[1m Human Message \u001b[0m=================================\n",
      "\n",
      "AI 관련된 최신 뉴스를 검색해줘\n",
      "==================================\u001b[1m Ai Message \u001b[0m==================================\n",
      "Tool Calls:\n",
      "  search_keyword (call_y6ulddp9dsHFVq7GtVaVggWO)\n",
      " Call ID: call_y6ulddp9dsHFVq7GtVaVggWO\n",
      "  Args:\n",
      "    query: AI\n",
      "=================================\u001b[1m Tool Message \u001b[0m=================================\n",
      "Name: search_keyword\n",
      "\n",
      "- \"목표는 AI 3대 강국, 현실은 10위권 밖\"…어디부터 손봐야 할까 - ZD넷 코리아\n",
      "- '과기정통AI부' 설립, 부총리급 부처 격상 추진된다 - 전자신문\n",
      "- ‘아시아 AI 허브’로 변모하는 일본 - 조선일보\n",
      "- 부산 ‘AI 레이스’에 뛰어들었다…“글로벌 AI 허브도시 될 것” - 조선일보\n",
      "- 부산시, 1조2000억 들여 AI 허브도시 만든다 - 국제신문\n",
      "==================================\u001b[1m Ai Message \u001b[0m==================================\n",
      "\n",
      "다음은 AI 관련 최신 뉴스입니다:\n",
      "\n",
      "1. **목표는 AI 3대 강국, 현실은 10위권 밖** - ZD넷 코리아\n",
      "2. **'과기정통AI부' 설립, 부총리급 부처 격상 추진된다** - 전자신문\n",
      "3. **‘아시아 AI 허브’로 변모하는 일본** - 조선일보\n",
      "4. **부산 ‘AI 레이스’에 뛰어들었다…“글로벌 AI 허브도시 될 것”** - 조선일보\n",
      "5. **부산시, 1조2000억 들여 AI 허브도시 만든다** - 국제신문\n",
      "\n",
      "이 기사들은 AI의 발전과 관련된 다양한 주제를 다루고 있습니다.\n"
     ]
    }
   ],
   "source": [
    "# 질문 입력\n",
    "inputs = {\"messages\": [(\"human\", \"AI 관련된 최신 뉴스를 검색해줘\")]}\n",
    "\n",
    "# 동기 스트림 처리(stream_mode=\"values\")\n",
    "for chunk in graph.stream(inputs, stream_mode=\"values\"):\n",
    "\n",
    "    # chunk 는 dictionary 형태(key: State 의 key, value: State 의 value)\n",
    "    for state_key, state_value in chunk.items():\n",
    "        if state_key == \"messages\":\n",
    "            state_value[-1].pretty_print()"
   ]
  },
  {
   "cell_type": "markdown",
   "metadata": {},
   "source": [
    "#### 비동기(Asynchronous) 방식의 스트리밍\n",
    "\n",
    "**참고**\n",
    "\n",
    "- `astream()` 메서드는 비동기 스트림 처리를 통해 그래프를 실행하고 값 모드로 청크 단위 응답을 생성합니다.\n",
    "- `async for` 문을 사용하여 비동기 스트림 처리를 수행합니다."
   ]
  },
  {
   "cell_type": "code",
   "execution_count": 19,
   "metadata": {},
   "outputs": [
    {
     "name": "stdout",
     "output_type": "stream",
     "text": [
      "================================\u001b[1m Human Message \u001b[0m=================================\n",
      "\n",
      "AI 관련된 최신 뉴스를 검색해줘\n",
      "==================================\u001b[1m Ai Message \u001b[0m==================================\n",
      "Tool Calls:\n",
      "  search_keyword (call_efL5qtN6Q955ezjTXA95C5i2)\n",
      " Call ID: call_efL5qtN6Q955ezjTXA95C5i2\n",
      "  Args:\n",
      "    query: AI\n",
      "=================================\u001b[1m Tool Message \u001b[0m=================================\n",
      "Name: search_keyword\n",
      "\n",
      "- \"목표는 AI 3대 강국, 현실은 10위권 밖\"…어디부터 손봐야 할까 - ZD넷 코리아\n",
      "- '과기정통AI부' 설립, 부총리급 부처 격상 추진된다 - 전자신문\n",
      "- ‘아시아 AI 허브’로 변모하는 일본 - 조선일보\n",
      "- 부산 ‘AI 레이스’에 뛰어들었다…“글로벌 AI 허브도시 될 것” - 조선일보\n",
      "- 부산시, 1조2000억 들여 AI 허브도시 만든다 - 국제신문\n",
      "==================================\u001b[1m Ai Message \u001b[0m==================================\n",
      "\n",
      "최신 AI 관련 뉴스는 다음과 같습니다:\n",
      "\n",
      "1. **\"목표는 AI 3대 강국, 현실은 10위권 밖\"…어디부터 손봐야 할까** - ZD넷 코리아\n",
      "2. **'과기정통AI부' 설립, 부총리급 부처 격상 추진된다** - 전자신문\n",
      "3. **‘아시아 AI 허브’로 변모하는 일본** - 조선일보\n",
      "4. **부산 ‘AI 레이스’에 뛰어들었다…“글로벌 AI 허브도시 될 것”** - 조선일보\n",
      "5. **부산시, 1조2000억 들여 AI 허브도시 만든다** - 국제신문\n",
      "\n",
      "더 궁금한 내용이 있으면 말씀해 주세요!\n"
     ]
    }
   ],
   "source": [
    "# 질문 입력\n",
    "inputs = {\"messages\": [(\"human\", \"AI 관련된 최신 뉴스를 검색해줘\")]}\n",
    "\n",
    "# 비동기 스트림 처리(stream_mode=\"values\")\n",
    "async for chunk in graph.astream(inputs, stream_mode=\"values\"):\n",
    "    # chunk 는 dictionary 형태(key: State 의 key, value: State 의 value)\n",
    "    for state_key, state_value in chunk.items():\n",
    "        if state_key == \"messages\":\n",
    "            state_value[-1].pretty_print()"
   ]
  },
  {
   "cell_type": "markdown",
   "metadata": {},
   "source": [
    "최종 결과만 확인하고 싶은 경우, 다음과 같이 처리 합니다."
   ]
  },
  {
   "cell_type": "code",
   "execution_count": 20,
   "metadata": {},
   "outputs": [
    {
     "name": "stdout",
     "output_type": "stream",
     "text": [
      "다음은 AI 관련 최신 뉴스입니다:\n",
      "\n",
      "1. **\"목표는 AI 3대 강국, 현실은 10위권 밖\"…어디부터 손봐야 할까** - ZD넷 코리아\n",
      "2. **'과기정통AI부' 설립, 부총리급 부처 격상 추진된다** - 전자신문\n",
      "3. **‘아시아 AI 허브’로 변모하는 일본** - 조선일보\n",
      "4. **부산 ‘AI 레이스’에 뛰어들었다…“글로벌 AI 허브도시 될 것”** - 조선일보\n",
      "5. **부산시, 1조2000억 들여 AI 허브도시 만든다** - 국제신문\n",
      "\n",
      "이 뉴스들은 현재 AI 분야에서 일어나고 있는 주요 동향과 계획들을 다루고 있습니다.\n"
     ]
    }
   ],
   "source": [
    "# 질문 입력\n",
    "inputs = {\"messages\": [(\"human\", \"AI 관련된 최신 뉴스를 검색해줘\")]}\n",
    "\n",
    "final_result = None\n",
    "\n",
    "# 비동기 스트림 처리(stream_mode=\"values\")\n",
    "async for chunk in graph.astream(inputs, stream_mode=\"values\"):\n",
    "    final_result = chunk\n",
    "\n",
    "# 최종 결과 출력\n",
    "print(final_result[\"messages\"][-1].content)"
   ]
  },
  {
   "cell_type": "markdown",
   "metadata": {},
   "source": [
    "### `stream_mode = \"updates\"`\n",
    "\n",
    "`updates` 모드는 각 단계에 대한 업데이트된 State 만 내보냅니다. \n",
    "\n",
    "- 출력은 노드 이름을 key 로, 업데이트된 값을 values 으로 하는 `dictionary` 입니다.\n",
    "\n",
    "**참고**\n",
    "\n",
    "`chunk.items()`\n",
    "\n",
    "- `key`: 노드(Node) 의 이름\n",
    "- `value`: 해당 노드(Node) 단계에서의 출력 값(dictionary). 즉, 여러 개의 key-value 쌍을 가진 dictionary 입니다.\n",
    "\n",
    "#### 동기(Synchronous) 방식의 스트리밍"
   ]
  },
  {
   "cell_type": "code",
   "execution_count": 21,
   "metadata": {},
   "outputs": [
    {
     "name": "stdout",
     "output_type": "stream",
     "text": [
      "\n",
      "[Node: chatbot]\n",
      "\n",
      "==================================\u001b[1m Ai Message \u001b[0m==================================\n",
      "Tool Calls:\n",
      "  search_keyword (call_d4aGIp6xgiYWVycxvpsJbujR)\n",
      " Call ID: call_d4aGIp6xgiYWVycxvpsJbujR\n",
      "  Args:\n",
      "    query: AI\n",
      "\n",
      "[Node: tools]\n",
      "\n",
      "=================================\u001b[1m Tool Message \u001b[0m=================================\n",
      "Name: search_keyword\n",
      "\n",
      "- \"목표는 AI 3대 강국, 현실은 10위권 밖\"…어디부터 손봐야 할까 - ZD넷 코리아\n",
      "- '과기정통AI부' 설립, 부총리급 부처 격상 추진된다 - 전자신문\n",
      "- ‘아시아 AI 허브’로 변모하는 일본 - 조선일보\n",
      "- 부산 ‘AI 레이스’에 뛰어들었다…“글로벌 AI 허브도시 될 것” - 조선일보\n",
      "- 부산시, 1조2000억 들여 AI 허브도시 만든다 - 국제신문\n",
      "\n",
      "[Node: chatbot]\n",
      "\n",
      "==================================\u001b[1m Ai Message \u001b[0m==================================\n",
      "\n",
      "다음은 AI 관련 최신 뉴스입니다:\n",
      "\n",
      "1. **\"목표는 AI 3대 강국, 현실은 10위권 밖\"…어디부터 손봐야 할까** - ZD넷 코리아\n",
      "2. **'과기정통AI부' 설립, 부총리급 부처 격상 추진된다** - 전자신문\n",
      "3. **‘아시아 AI 허브’로 변모하는 일본** - 조선일보\n",
      "4. **부산 ‘AI 레이스’에 뛰어들었다…“글로벌 AI 허브도시 될 것”** - 조선일보\n",
      "5. **부산시, 1조2000억 들여 AI 허브도시 만든다** - 국제신문\n",
      "\n",
      "각 기사는 AI의 발전, 정책, 그리고 도시 개발에 대한 내용을 다루고 있습니다.\n"
     ]
    }
   ],
   "source": [
    "# 질문 입력\n",
    "inputs = {\"messages\": [(\"human\", \"AI 관련된 최신 뉴스를 검색해줘\")]}\n",
    "\n",
    "# 동기 스트림 처리(stream_mode=\"updates\")\n",
    "for chunk in graph.stream(inputs, stream_mode=\"updates\"):\n",
    "    # chunk 는 dictionary 형태(key: 노드, value: 노드의 상태 값)\n",
    "    for node, value in chunk.items():\n",
    "        if node:\n",
    "            print(f\"\\n[Node: {node}]\\n\")\n",
    "        if \"messages\" in value:\n",
    "            value[\"messages\"][-1].pretty_print()"
   ]
  },
  {
   "cell_type": "markdown",
   "metadata": {},
   "source": [
    "#### 비동기(Asynchronous) 방식의 스트리밍"
   ]
  },
  {
   "cell_type": "code",
   "execution_count": 22,
   "metadata": {},
   "outputs": [
    {
     "name": "stdout",
     "output_type": "stream",
     "text": [
      "\n",
      "[Node: chatbot]\n",
      "\n",
      "==================================\u001b[1m Ai Message \u001b[0m==================================\n",
      "Tool Calls:\n",
      "  search_keyword (call_U2ENp7Vgl8zoMtLrxEKoQy2w)\n",
      " Call ID: call_U2ENp7Vgl8zoMtLrxEKoQy2w\n",
      "  Args:\n",
      "    query: LLM\n",
      "\n",
      "[Node: tools]\n",
      "\n",
      "=================================\u001b[1m Tool Message \u001b[0m=================================\n",
      "Name: search_keyword\n",
      "\n",
      "- 수세, AI 플랫폼 확장··· 워크로드 및 LLM 사용 제어 도구 추가 - CIO.com\n",
      "- 코히어, GPU 2개로 구동하는 기업용 LLM 출시...\"최대 성능·최소 컴퓨팅\" - AI타임스\n",
      "- 엔비디아, 자율주행차 위한 LLM과 비전언어모델 최적화 개발 키트... AI 성능 극대화 - 인공지능신문\n",
      "- 넥스톰, '2025 산업지능화 컨퍼런스'에서 LLM 기반 AI 공장장 'STORMY' 공개 - 네이트 뉴스\n",
      "- KETI, ‘AW 2025’서 LLM·모방학습 이용한 조립공정 자동화 기술 공개 - ZD넷 코리아\n",
      "\n",
      "[Node: chatbot]\n",
      "\n",
      "==================================\u001b[1m Ai Message \u001b[0m==================================\n",
      "\n",
      "최신 LLM(대형 언어 모델) 관련 뉴스는 다음과 같습니다:\n",
      "\n",
      "1. **수세, AI 플랫폼 확장** - 워크로드 및 LLM 사용 제어 도구 추가 (CIO.com)\n",
      "2. **코히어** - GPU 2개로 구동하는 기업용 LLM 출시, \"최대 성능·최소 컴퓨팅\" (AI타임스)\n",
      "3. **엔비디아** - 자율주행차 위한 LLM과 비전언어모델 최적화 개발 키트 발표, AI 성능 극대화 (인공지능신문)\n",
      "4. **넥스톰** - '2025 산업지능화 컨퍼런스'에서 LLM 기반 AI 공장장 'STORMY' 공개 (네이트 뉴스)\n",
      "5. **KETI** - ‘AW 2025’에서 LLM·모방학습 이용한 조립공정 자동화 기술 공개 (ZD넷 코리아)\n",
      "\n",
      "더 궁금한 점이 있으면 말씀해 주세요!\n"
     ]
    }
   ],
   "source": [
    "# 질문 입력\n",
    "inputs = {\"messages\": [(\"human\", \"LLM 관련된 최신 뉴스를 검색해줘\")]}\n",
    "\n",
    "# 비동기 스트림 처리(stream_mode=\"updates\")\n",
    "async for chunk in graph.astream(inputs, stream_mode=\"updates\"):\n",
    "    # chunk 는 dictionary 형태(key: 노드, value: 노드의 상태 값)\n",
    "    for node, value in chunk.items():\n",
    "        if node:\n",
    "            print(f\"\\n[Node: {node}]\\n\")\n",
    "        if \"messages\" in value:\n",
    "            value[\"messages\"][-1].pretty_print()"
   ]
  },
  {
   "cell_type": "markdown",
   "metadata": {},
   "source": [
    "### `stream_mode = \"messages\"`\n",
    "\n",
    "`messages` 모드는 각 단계에 대한 메시지를 스트리밍합니다.\n",
    "\n",
    "**참고**\n",
    "\n",
    "- `chunk` 는 두 개의 요소를 가진 tuple 입니다.\n",
    "  - `chunk_msg`: 실시간 출력 메시지\n",
    "  - `metadata`: 노드 정보\n",
    "\n",
    "  #### 동기(Synchronous) 방식의 스트리밍"
   ]
  },
  {
   "cell_type": "code",
   "execution_count": 23,
   "metadata": {},
   "outputs": [],
   "source": [
    "# 질문 입력\n",
    "inputs = {\"messages\": [(\"human\", \"LLM 관련된 최신 뉴스를 검색해줘\")]}\n",
    "\n",
    "# 동기 스트림 처리(stream_mode=\"messages\")\n",
    "# chunk_msg: 실시간 출력 메시지, metadata: 노드 정보\n",
    "for chunk_msg, metadata in graph.stream(inputs, stream_mode=\"messages\"):\n",
    "\n",
    "    # chatbot 노드에서 출력된 메시지만 출력\n",
    "    if metadata[\"langgraph_node\"] == \"chatbot\":\n",
    "        if chunk_msg.content:\n",
    "            print(chunk_msg.content, end=\"\", flush=True)\n",
    "\n",
    "    else:\n",
    "        print(chunk_msg.content)\n",
    "        print(f\"\\n\\nmetadata: \\n{metadata}\\n\\n\")"
   ]
  },
  {
   "cell_type": "markdown",
   "metadata": {},
   "source": [
    "#### 비동기(Asynchronous) 방식의 스트리밍"
   ]
  },
  {
   "cell_type": "code",
   "execution_count": 24,
   "metadata": {},
   "outputs": [],
   "source": [
    "# 질문 입력\n",
    "inputs = {\"messages\": [(\"human\", \"AI 관련된 최신 뉴스를 검색해줘\")]}\n",
    "\n",
    "# 비동기 스트림 처리(stream_mode=\"messages\")\n",
    "# chunk_msg: 실시간 출력 메시지, metadata: 노드 정보\n",
    "async for chunk_msg, metadata in graph.astream(inputs, stream_mode=\"messages\"):\n",
    "    # chatbot 노드에서 출력된 메시지만 출력\n",
    "    if metadata[\"langgraph_node\"] == \"chatbot\":\n",
    "        if chunk_msg.content:\n",
    "            print(chunk_msg.content, end=\"\", flush=True)\n",
    "    else:\n",
    "        print(chunk_msg.content)"
   ]
  },
  {
   "cell_type": "markdown",
   "metadata": {},
   "source": [
    "## 특정 노드에 대한 출력 스트리밍\n",
    "\n",
    "**참고**\n",
    "\n",
    "- `metadata[\"langgraph_node\"]` 를 통해 특정 노드에서 출력된 메시지만 출력할 수 있습니다."
   ]
  },
  {
   "cell_type": "markdown",
   "metadata": {},
   "source": [
    "특정 노드(Node) 에 대해서 출력하고 싶은 경우, stream_mode=\"messages\" 를 통해 설정할 수 있습니다.\n",
    "\n",
    "`stream_mode=\"messages\"` 설정시, (`chunk_msg`, `metadata`) 형태로 메시지를 받습니다.\n",
    "- `chunk_msg` 는 실시간 출력 메시지, \n",
    "- `metadata` 는 노드 정보를 의미합니다.\n",
    "\n",
    "`metadata[\"langgraph_node\"]` 를 통해 특정 노드에서 출력된 메시지만 출력할 수 있습니다.\n",
    "\n",
    "(예시) chatbot 노드에서 출력된 메시지만 출력하는 경우\n",
    "\n",
    "`metadata[\"langgraph_node\"] == \"chatbot\"`"
   ]
  },
  {
   "cell_type": "code",
   "execution_count": 30,
   "metadata": {},
   "outputs": [
    {
     "data": {
      "image/jpeg": "[encoded data removed]",
      "text/plain": [
       "<IPython.core.display.Image object>"
      ]
     },
     "metadata": {},
     "output_type": "display_data"
    }
   ],
   "source": [
    "from typing import Annotated, List, Dict\n",
    "from typing_extensions import TypedDict\n",
    "from langchain.tools import tool\n",
    "from langchain_teddynote.tools import GoogleNews\n",
    "from langchain_openai import ChatOpenAI\n",
    "from langgraph.graph import StateGraph, START, END\n",
    "from langgraph.graph.message import add_messages\n",
    "from langgraph.prebuilt import ToolNode, tools_condition\n",
    "\n",
    "\n",
    "########## 1. 상태 정의 ##########\n",
    "# 상태 정의\n",
    "class State(TypedDict):\n",
    "    # 메시지 목록 주석 추가\n",
    "    messages: Annotated[list, add_messages]\n",
    "\n",
    "\n",
    "########## 2. 도구 정의 및 바인딩 ##########\n",
    "# 도구 초기화\n",
    "# 키워드로 뉴스 검색하는 도구 생성\n",
    "@tool\n",
    "def search_keyword(query: str) -> List[Dict[str, str]]:\n",
    "    \"\"\"Look up news by keyword\"\"\"\n",
    "    news_tool = GoogleNews()\n",
    "    return \"\\n\".join(\n",
    "        [f'- {news[\"content\"]}' for news in news_tool.search_by_keyword(query, k=5)]\n",
    "    )\n",
    "\n",
    "\n",
    "# 도구 리스트 생성\n",
    "tools = [search_keyword]\n",
    "\n",
    "# LLM 초기화\n",
    "llm = ChatOpenAI(model=\"gpt-4o-mini\")\n",
    "\n",
    "# 도구와 LLM 결합 (tags 추가)\n",
    "llm_with_tools = llm.bind_tools(tools).with_config(tags=[\"WANT_TO_STREAM\"])\n",
    "\n",
    "\n",
    "########## 3. 노드 추가 ##########\n",
    "# 챗봇 함수 정의\n",
    "def chatbot(state: State):\n",
    "    # 메시지 호출 및 반환\n",
    "    return {\"messages\": [llm_with_tools.invoke(state[\"messages\"])]}\n",
    "\n",
    "\n",
    "# 상태 그래프 생성\n",
    "graph_builder = StateGraph(State)\n",
    "\n",
    "# 챗봇 노드 추가\n",
    "graph_builder.add_node(\"chatbot\", chatbot)\n",
    "\n",
    "# 도구 노드 생성 및 추가\n",
    "tool_node = ToolNode(tools=[search_keyword])\n",
    "\n",
    "# 도구 노드 추가\n",
    "graph_builder.add_node(\"tools\", tool_node)\n",
    "\n",
    "# 조건부 엣지\n",
    "graph_builder.add_conditional_edges(\n",
    "    \"chatbot\",\n",
    "    tools_condition,\n",
    ")\n",
    "\n",
    "########## 4. 엣지 추가 ##########\n",
    "\n",
    "# tools > chatbot\n",
    "graph_builder.add_edge(\"tools\", \"chatbot\")\n",
    "\n",
    "# START > chatbot\n",
    "graph_builder.add_edge(START, \"chatbot\")\n",
    "\n",
    "# chatbot > END\n",
    "graph_builder.add_edge(\"chatbot\", END)\n",
    "\n",
    "# 그래프 컴파일\n",
    "graph = graph_builder.compile()\n",
    "\n",
    "visualize_graph(graph, xray=True)"
   ]
  },
  {
   "cell_type": "code",
   "execution_count": 31,
   "metadata": {},
   "outputs": [],
   "source": [
    "from langchain_core.messages import HumanMessage\n",
    "\n",
    "# 사용자의 메시지를 딕셔너리 형태로 입력 데이터 구성\n",
    "inputs = {\"messages\": [(\"human\", \"AI 관련된 최신 뉴스를 검색해줘\")]}\n",
    "\n",
    "# stream_mode=\"messages\" 를 통한 스트리밍 처리\n",
    "for chunk_msg, metadata in graph.stream(inputs, stream_mode=\"messages\"):\n",
    "    # HumanMessage 가 아닌 최종 노드의 유효한 컨텐츠만 출력 처리\n",
    "    if (\n",
    "        chunk_msg.content\n",
    "        and not isinstance(chunk_msg, HumanMessage)\n",
    "        and metadata[\"langgraph_node\"] == \"chatbot\"\n",
    "    ):\n",
    "        print(chunk_msg.content, end=\"\", flush=True)\n",
    "        print(metadata)"
   ]
  },
  {
   "cell_type": "markdown",
   "metadata": {},
   "source": [
    "## 사용자 정의 `tag` 필터링 된 스트리밍\n",
    "\n",
    "LLM 의 출력이 여러 군데에서 발생하는 경우, 특정 노드에서 출력된 메시지만 출력하고 싶은 경우가 있습니다.\n",
    "\n",
    "이러한 경우, `tags` 를 추가하여 출력하고 싶은 노드만 선별할 수 있습니다.\n",
    "\n",
    "llm 에 tags 를 추가하는 방법은 다음과 같습니다. `tags` 는 리스트 형태로 추가할 수 있습니다.\n",
    "\n",
    "`llm.with_config(tags=[\"WANT_TO_STREAM\"])`\n",
    "\n",
    "\n",
    "이를 통해 이벤트를 더 정확하게 필터링하여 해당 모델에서 발생한 이벤트만 유지할 수 있습니다.\n",
    "\n",
    "아래 예시는 `WANT_TO_STREAM` 태그가 있는 경우만 출력하는 예시입니다."
   ]
  },
  {
   "cell_type": "code",
   "execution_count": 32,
   "metadata": {},
   "outputs": [
    {
     "name": "stderr",
     "output_type": "stream",
     "text": [
      "C:\\Users\\user\\AppData\\Local\\Temp\\ipykernel_12604\\731170980.py:5: LangChainBetaWarning: This API is in beta and may change in the future.\n",
      "  async for event in graph.astream_events(inputs, version=\"v2\"):\n"
     ]
    },
    {
     "name": "stdout",
     "output_type": "stream",
     "text": [
      "다음은 AI 관련 최신 뉴스입니다:\n",
      "\n",
      "1. **목표는 AI 3대 강국, 현실은 10위권 밖** - ZD넷 코리아\n",
      "2. **'과기정통AI부' 설립, 부총리급 부처 격상 추진된다** - 전자신문\n",
      "3. **‘아시아 AI 허브’로 변모하는 일본** - 조선일보\n",
      "4. **부산 ‘AI 레이스’에 뛰어들었다…“글로벌 AI 허브도시 될 것”** - 조선일보\n",
      "5. **부산시, 1조2000억 들여 AI 허브도시 만든다** - 국제신문\n",
      "\n",
      "더 자세한 내용을 원하시면 특정 기사에 대해 알려주세요!"
     ]
    }
   ],
   "source": [
    "# 질문 입력\n",
    "inputs = {\"messages\": [(\"human\", \"AI 관련된 최신 뉴스를 검색해줘\")]}\n",
    "\n",
    "# 비동기 이벤트 스트림 처리(astream_events)\n",
    "async for event in graph.astream_events(inputs, version=\"v2\"):\n",
    "    # 이벤트 종류와 태그 정보 추출\n",
    "    kind = event[\"event\"]\n",
    "    tags = event.get(\"tags\", [])\n",
    "\n",
    "    # 채팅 모델 스트림 이벤트 및 최종 노드 태그 필터링\n",
    "    if kind == \"on_chat_model_stream\" and \"WANT_TO_STREAM\" in tags:\n",
    "        # 이벤트 데이터 추출\n",
    "        data = event[\"data\"]\n",
    "\n",
    "        # 출력 메시지\n",
    "        if data[\"chunk\"].content:\n",
    "            print(data[\"chunk\"].content, end=\"\", flush=True)"
   ]
  },
  {
   "cell_type": "markdown",
   "metadata": {},
   "source": [
    "## 도구 호출에 대한 스트리밍 출력\n",
    "\n",
    "- `AIMessageChunk`: 실시간 토큰 단위의 출력 메시지\n",
    "- `tool_call_chunks`: 도구 호출 청크. 만약 `tool_call_chunks` 가 존재하는 경우, 도구 호출 청크를 누적하여 출력합니다. (도구 토큰은 이 속성을 보고 판단하여 출력)"
   ]
  },
  {
   "cell_type": "code",
   "execution_count": 33,
   "metadata": {},
   "outputs": [],
   "source": [
    "from langchain_core.messages import AIMessageChunk, HumanMessage\n",
    "\n",
    "# 질문 입력\n",
    "inputs = {\"messages\": [(\"human\", \"AI 관련된 최신 뉴스를 검색해줘\")]}\n",
    "\n",
    "# 첫 번째 메시지 처리 여부 플래그 설정\n",
    "first = True\n",
    "\n",
    "# 비동기 스트림 처리를 통한 메시지 및 메타데이터 순차 처리\n",
    "for msg, metadata in graph.stream(inputs, stream_mode=\"messages\"):\n",
    "    # 사용자 메시지가 아닌 경우의 컨텐츠 출력 처리\n",
    "    if msg.content and not isinstance(msg, HumanMessage):\n",
    "        print(msg.content, end=\"\", flush=True)\n",
    "\n",
    "    # AI 메시지 청크 처리 및 누적\n",
    "    if isinstance(msg, AIMessageChunk):\n",
    "        if first:\n",
    "            gathered = msg\n",
    "            first = False\n",
    "        else:\n",
    "            gathered = gathered + msg\n",
    "\n",
    "        # 도구 호출 청크 존재 시 누적된 도구 호출 정보 출력\n",
    "        if msg.tool_call_chunks:\n",
    "            print(gathered.tool_calls[0][\"args\"])"
   ]
  },
  {
   "cell_type": "markdown",
   "metadata": {},
   "source": [
    "## Subgraphs 스트리밍 출력\n",
    "\n",
    "이번에는 Subgraphs 를 통해 스트리밍 출력을 확인하는 방법을 알아보겠습니다.\n",
    "\n",
    "Subgraphs 는 그래프의 일부를 서브그래프로 정의하는 기능입니다.\n",
    "\n",
    "**흐름**\n",
    "\n",
    "- Subgraphs 에서는 기존의 최신 뉴스를 검색하는 기능을 재사용합니다.\n",
    "- Parent Graph 에서는 검색된 최신 뉴스를 바탕으로 SNS 포스트를 생성하는 기능을 추가합니다."
   ]
  },
  {
   "cell_type": "code",
   "execution_count": 35,
   "metadata": {},
   "outputs": [
    {
     "name": "stdout",
     "output_type": "stream",
     "text": [
      "[ERROR] Visualize Graph Error: Node.__new__() missing 2 required positional arguments: 'data' and 'metadata'\n"
     ]
    }
   ],
   "source": [
    "from typing import Annotated, List, Dict\n",
    "from typing_extensions import TypedDict\n",
    "from langchain.tools import tool\n",
    "from langchain_teddynote.tools import GoogleNews\n",
    "from langchain_openai import ChatOpenAI\n",
    "from langgraph.graph import StateGraph, START, END\n",
    "from langgraph.graph.message import add_messages\n",
    "from langgraph.prebuilt import ToolNode, tools_condition\n",
    "\n",
    "\n",
    "########## 1. 상태 정의 ##########\n",
    "# 상태 정의\n",
    "class State(TypedDict):\n",
    "    # 메시지 목록 주석 추가\n",
    "    messages: Annotated[list, add_messages]\n",
    "\n",
    "\n",
    "########## 2. 도구 정의 및 바인딩 ##########\n",
    "# 도구 초기화\n",
    "# 키워드로 뉴스 검색하는 도구 생성\n",
    "@tool\n",
    "def search_keyword(query: str) -> List[Dict[str, str]]:\n",
    "    \"\"\"Look up news by keyword\"\"\"\n",
    "    news_tool = GoogleNews()\n",
    "    return \"\\n\".join(\n",
    "        [f'- {news[\"content\"]}' for news in news_tool.search_by_keyword(query, k=5)]\n",
    "    )\n",
    "\n",
    "\n",
    "# 도구 리스트 생성\n",
    "tools = [search_keyword]\n",
    "\n",
    "# LLM 초기화\n",
    "llm = ChatOpenAI(model=\"gpt-4o-mini\")\n",
    "\n",
    "# 도구와 LLM 결합 (tags 추가)\n",
    "llm_with_tools = llm.bind_tools(tools).with_config(tags=[\"WANT_TO_STREAM\"])\n",
    "\n",
    "\n",
    "########## 3. 노드 추가 ##########\n",
    "# 챗봇 함수 정의\n",
    "def chatbot(state: State):\n",
    "    # 메시지 호출 및 반환\n",
    "    return {\"messages\": [llm_with_tools.invoke(state[\"messages\"])]}\n",
    "\n",
    "\n",
    "# SNS 포스트 생성 함수 정의\n",
    "def create_sns_post(state: State):\n",
    "    # SNS 포스트 생성을 위한 프롬프트\n",
    "    sns_prompt = \"\"\"\n",
    "    이전 대화 내용을 바탕으로 SNS 게시글 형식으로 변환해주세요.\n",
    "    다음 형식을 따라주세요:\n",
    "    - 해시태그 포함\n",
    "    - 이모지 사용\n",
    "    - 간결하고 흥미로운 문체 사용\n",
    "    - 200자 이내로 작성\n",
    "    \"\"\"\n",
    "    messages = state[\"messages\"] + [(\"human\", sns_prompt)]\n",
    "    sns_llm = ChatOpenAI(model=\"gpt-4o-mini\").with_config(tags=[\"WANT_TO_STREAM2\"])\n",
    "    return {\"messages\": [sns_llm.invoke(messages)]}\n",
    "\n",
    "\n",
    "# 서브그래프 생성\n",
    "def create_subgraph():\n",
    "    # 서브그래프용 상태 그래프 생성\n",
    "    subgraph = StateGraph(State)\n",
    "\n",
    "    # 챗봇 노드 추가\n",
    "    subgraph.add_node(\"chatbot\", chatbot)\n",
    "\n",
    "    # 도구 노드 생성 및 추가\n",
    "    tool_node = ToolNode(tools=[search_keyword])\n",
    "    subgraph.add_node(\"tools\", tool_node)\n",
    "\n",
    "    # 조건부 엣지 추가\n",
    "    subgraph.add_conditional_edges(\n",
    "        \"chatbot\",\n",
    "        tools_condition,\n",
    "    )\n",
    "\n",
    "    # tools > chatbot\n",
    "    subgraph.add_edge(\"tools\", \"chatbot\")\n",
    "\n",
    "    # START > chatbot\n",
    "    subgraph.add_edge(START, \"chatbot\")\n",
    "\n",
    "    # chatbot > END\n",
    "    subgraph.add_edge(\"chatbot\", END)\n",
    "\n",
    "    return subgraph.compile()\n",
    "\n",
    "\n",
    "# 메인 그래프 생성\n",
    "graph_builder = StateGraph(State)\n",
    "\n",
    "# 서브그래프 추가\n",
    "subgraph = create_subgraph()\n",
    "graph_builder.add_node(\"news_subgraph\", subgraph)\n",
    "\n",
    "# SNS 포스트 생성 노드 추가\n",
    "graph_builder.add_node(\"sns_post\", create_sns_post)\n",
    "\n",
    "# START > news_subgraph\n",
    "graph_builder.add_edge(START, \"news_subgraph\")\n",
    "\n",
    "# news_subgraph > sns_post\n",
    "graph_builder.add_edge(\"news_subgraph\", \"sns_post\")\n",
    "\n",
    "# sns_post > END\n",
    "graph_builder.add_edge(\"sns_post\", END)\n",
    "\n",
    "# 그래프 컴파일\n",
    "graph = graph_builder.compile()\n",
    "# 그래프 시각화\n",
    "visualize_graph(graph, xray=True)"
   ]
  },
  {
   "cell_type": "markdown",
   "metadata": {},
   "source": [
    "### Subgraphs 출력을 '생략' 하는 경우"
   ]
  },
  {
   "cell_type": "code",
   "execution_count": 36,
   "metadata": {},
   "outputs": [
    {
     "name": "stdout",
     "output_type": "stream",
     "text": [
      "\n",
      "========= Update from node news_subgraph =========\n",
      "\n",
      "==================================\u001b[1m Ai Message \u001b[0m==================================\n",
      "\n",
      "다음은 AI 관련 최신 뉴스입니다:\n",
      "\n",
      "1. **\"목표는 AI 3대 강국, 현실은 10위권 밖\"…어디부터 손봐야 할까** - ZD넷 코리아\n",
      "2. **'과기정통AI부' 설립, 부총리급 부처 격상 추진된다** - 전자신문\n",
      "3. **‘아시아 AI 허브’로 변모하는 일본** - 조선일보\n",
      "4. **부산 ‘AI 레이스’에 뛰어들었다…“글로벌 AI 허브도시 될 것”** - 조선일보\n",
      "5. **부산시, 1조2000억 들여 AI 허브도시 만든다** - 국제신문\n",
      "\n",
      "더 궁금한 내용이 있으시면 말씀해 주세요!\n",
      "\n",
      "========= Update from node sns_post =========\n",
      "\n",
      "==================================\u001b[1m Ai Message \u001b[0m==================================\n",
      "\n",
      "🚀 AI의 미래, 대한민국과 일본이 뜨겁다! 🇰🇷🇯🇵 부산은 AI 허브도시로 변신 중! 💡 과기정통AI부도 부총리급으로 격상 추진! 🌟 아시아 AI 허브로의 도약이 기대된다! #AI #부산 #아시아AI허브 #기술혁신 #미래기술\n"
     ]
    }
   ],
   "source": [
    "# 질문 입력\n",
    "inputs = {\"messages\": [(\"human\", \"AI 관련된 최신 뉴스를 검색해줘\")]}\n",
    "\n",
    "# 노드 업데이트 정보 순차적 처리 및 출력\n",
    "for chunk in graph.stream(inputs, stream_mode=\"updates\"):\n",
    "    # node_name: 현재 처리 중인 노드명, node_chunk: 해당 노드의 청크 데이터\n",
    "    for node_name, node_chunk in chunk.items():\n",
    "        # 현재 처리 중인 노드 구분선 출력\n",
    "        print(f\"\\n========= Update from node {node_name} =========\\n\")\n",
    "        # 해당 노드의 업데이트된 데이터 출력\n",
    "        if \"messages\" in node_chunk:\n",
    "            node_chunk[\"messages\"][-1].pretty_print()\n",
    "        else:\n",
    "            print(node_chunk)"
   ]
  },
  {
   "cell_type": "markdown",
   "metadata": {},
   "source": [
    "### Subgraphs 출력도 '포함' 하는 경우\n",
    "\n",
    "**참고**\n",
    "\n",
    "- `subgraphs=True` 를 통해 Subgraphs 의 출력도 포함할 수 있습니다.\n",
    "- `(namespace, chunk)` 형태로 출력됩니다."
   ]
  },
  {
   "cell_type": "code",
   "execution_count": 37,
   "metadata": {},
   "outputs": [
    {
     "ename": "TypeError",
     "evalue": "Pregel.stream() got an unexpected keyword argument 'subgraphs'",
     "output_type": "error",
     "traceback": [
      "\u001b[1;31m---------------------------------------------------------------------------\u001b[0m",
      "\u001b[1;31mTypeError\u001b[0m                                 Traceback (most recent call last)",
      "Cell \u001b[1;32mIn[37], line 11\u001b[0m\n\u001b[0;32m      7\u001b[0m     \u001b[38;5;28;01mreturn\u001b[39;00m namespace[\u001b[38;5;241m-\u001b[39m\u001b[38;5;241m1\u001b[39m]\u001b[38;5;241m.\u001b[39msplit(\u001b[38;5;124m\"\u001b[39m\u001b[38;5;124m:\u001b[39m\u001b[38;5;124m\"\u001b[39m)[\u001b[38;5;241m0\u001b[39m] \u001b[38;5;28;01mif\u001b[39;00m \u001b[38;5;28mlen\u001b[39m(namespace) \u001b[38;5;241m>\u001b[39m \u001b[38;5;241m0\u001b[39m \u001b[38;5;28;01melse\u001b[39;00m \u001b[38;5;124m\"\u001b[39m\u001b[38;5;124mparent graph\u001b[39m\u001b[38;5;124m\"\u001b[39m\n\u001b[0;32m     10\u001b[0m \u001b[38;5;66;03m# subgraphs=True 를 통해 서브그래프의 출력도 포함(namespace, chunk) 형태로 출력됩니다.\u001b[39;00m\n\u001b[1;32m---> 11\u001b[0m \u001b[38;5;28;01mfor\u001b[39;00m namespace, chunk \u001b[38;5;129;01min\u001b[39;00m \u001b[43mgraph\u001b[49m\u001b[38;5;241;43m.\u001b[39;49m\u001b[43mstream\u001b[49m\u001b[43m(\u001b[49m\u001b[43minputs\u001b[49m\u001b[43m,\u001b[49m\u001b[43m \u001b[49m\u001b[43mstream_mode\u001b[49m\u001b[38;5;241;43m=\u001b[39;49m\u001b[38;5;124;43m\"\u001b[39;49m\u001b[38;5;124;43mupdates\u001b[39;49m\u001b[38;5;124;43m\"\u001b[39;49m\u001b[43m,\u001b[49m\u001b[43m \u001b[49m\u001b[43msubgraphs\u001b[49m\u001b[38;5;241;43m=\u001b[39;49m\u001b[38;5;28;43;01mTrue\u001b[39;49;00m\u001b[43m)\u001b[49m:\n\u001b[0;32m     12\u001b[0m     \u001b[38;5;66;03m# node_name: 현재 처리 중인 노드명, node_chunk: 해당 노드의 청크 데이터\u001b[39;00m\n\u001b[0;32m     13\u001b[0m     \u001b[38;5;28;01mfor\u001b[39;00m node_name, node_chunk \u001b[38;5;129;01min\u001b[39;00m chunk\u001b[38;5;241m.\u001b[39mitems():\n\u001b[0;32m     14\u001b[0m         \u001b[38;5;28mprint\u001b[39m(\n\u001b[0;32m     15\u001b[0m             \u001b[38;5;124mf\u001b[39m\u001b[38;5;124m\"\u001b[39m\u001b[38;5;130;01m\\n\u001b[39;00m\u001b[38;5;124m========= Update from node [\u001b[39m\u001b[38;5;132;01m{\u001b[39;00mnode_name\u001b[38;5;132;01m}\u001b[39;00m\u001b[38;5;124m] in [\u001b[39m\u001b[38;5;132;01m{\u001b[39;00mformat_namespace(namespace)\u001b[38;5;132;01m}\u001b[39;00m\u001b[38;5;124m] =========\u001b[39m\u001b[38;5;130;01m\\n\u001b[39;00m\u001b[38;5;124m\"\u001b[39m\n\u001b[0;32m     16\u001b[0m         )\n",
      "\u001b[1;31mTypeError\u001b[0m: Pregel.stream() got an unexpected keyword argument 'subgraphs'"
     ]
    }
   ],
   "source": [
    "# 사용자의 메시지를 딕셔너리 형태로 입력 데이터 구성\n",
    "inputs = {\"messages\": [(\"human\", \"AI 관련된 최신 뉴스를 검색해줘\")]}\n",
    "\n",
    "\n",
    "# 네임스페이스 문자열을 보기 좋은 형식으로 변환하는 포맷팅 함수\n",
    "def format_namespace(namespace):\n",
    "    return namespace[-1].split(\":\")[0] if len(namespace) > 0 else \"parent graph\"\n",
    "\n",
    "\n",
    "# subgraphs=True 를 통해 서브그래프의 출력도 포함(namespace, chunk) 형태로 출력됩니다.\n",
    "for namespace, chunk in graph.stream(inputs, stream_mode=\"updates\", subgraphs=True):\n",
    "    # node_name: 현재 처리 중인 노드명, node_chunk: 해당 노드의 청크 데이터\n",
    "    for node_name, node_chunk in chunk.items():\n",
    "        print(\n",
    "            f\"\\n========= Update from node [{node_name}] in [{format_namespace(namespace)}] =========\\n\"\n",
    "        )\n",
    "\n",
    "        # 노드의 청크 데이터 출력\n",
    "        if \"messages\" in node_chunk:\n",
    "            node_chunk[\"messages\"][-1].pretty_print()\n",
    "        else:\n",
    "            print(node_chunk)"
   ]
  },
  {
   "cell_type": "markdown",
   "metadata": {},
   "source": [
    "#### Subgraphs 안에서 LLM 출력 토큰 단위 스트리밍\n",
    "\n",
    "**참고**\n",
    "\n",
    "- `kind` 는 이벤트 종류를 나타냅니다.\n",
    "- 이벤트 종류는 [StreamEvent 타입별 정리](https://wikidocs.net/265576) 에서 확인하세요!"
   ]
  },
  {
   "cell_type": "code",
   "execution_count": 38,
   "metadata": {},
   "outputs": [
    {
     "ename": "TypeError",
     "evalue": "Pregel.astream() got an unexpected keyword argument 'subgraphs'",
     "output_type": "error",
     "traceback": [
      "\u001b[1;31m---------------------------------------------------------------------------\u001b[0m",
      "\u001b[1;31mTypeError\u001b[0m                                 Traceback (most recent call last)",
      "Cell \u001b[1;32mIn[38], line 11\u001b[0m\n\u001b[0;32m      6\u001b[0m     \u001b[38;5;28;01mreturn\u001b[39;00m info[\u001b[38;5;241m0\u001b[39m]\u001b[38;5;241m.\u001b[39msplit(\u001b[38;5;124m\"\u001b[39m\u001b[38;5;124m:\u001b[39m\u001b[38;5;124m\"\u001b[39m)[\u001b[38;5;241m0\u001b[39m], \u001b[38;5;124m\"\u001b[39m\u001b[38;5;124mparent graph\u001b[39m\u001b[38;5;124m\"\u001b[39m\n\u001b[0;32m      9\u001b[0m kind \u001b[38;5;241m=\u001b[39m \u001b[38;5;28;01mNone\u001b[39;00m\n\u001b[1;32m---> 11\u001b[0m \u001b[38;5;28;01masync\u001b[39;00m \u001b[38;5;28;01mfor\u001b[39;00m event \u001b[38;5;129;01min\u001b[39;00m graph\u001b[38;5;241m.\u001b[39mastream_events(inputs, version\u001b[38;5;241m=\u001b[39m\u001b[38;5;124m\"\u001b[39m\u001b[38;5;124mv2\u001b[39m\u001b[38;5;124m\"\u001b[39m, subgraphs\u001b[38;5;241m=\u001b[39m\u001b[38;5;28;01mTrue\u001b[39;00m):\n\u001b[0;32m     12\u001b[0m     kind \u001b[38;5;241m=\u001b[39m event[\u001b[38;5;124m\"\u001b[39m\u001b[38;5;124mevent\u001b[39m\u001b[38;5;124m\"\u001b[39m]\n\u001b[0;32m     14\u001b[0m     \u001b[38;5;66;03m# 이벤트 종류와 태그 정보 추출\u001b[39;00m\n",
      "File \u001b[1;32mc:\\Users\\user\\anaconda3\\envs\\myenv\\Lib\\site-packages\\langchain_core\\runnables\\base.py:1247\u001b[0m, in \u001b[0;36mRunnable.astream_events\u001b[1;34m(self, input, config, version, include_names, include_types, include_tags, exclude_names, exclude_types, exclude_tags, **kwargs)\u001b[0m\n\u001b[0;32m   1242\u001b[0m     \u001b[38;5;28;01mraise\u001b[39;00m \u001b[38;5;167;01mNotImplementedError\u001b[39;00m(\n\u001b[0;32m   1243\u001b[0m         \u001b[38;5;124m'\u001b[39m\u001b[38;5;124mOnly versions \u001b[39m\u001b[38;5;124m\"\u001b[39m\u001b[38;5;124mv1\u001b[39m\u001b[38;5;124m\"\u001b[39m\u001b[38;5;124m and \u001b[39m\u001b[38;5;124m\"\u001b[39m\u001b[38;5;124mv2\u001b[39m\u001b[38;5;124m\"\u001b[39m\u001b[38;5;124m of the schema is currently supported.\u001b[39m\u001b[38;5;124m'\u001b[39m\n\u001b[0;32m   1244\u001b[0m     )\n\u001b[0;32m   1246\u001b[0m \u001b[38;5;28;01masync\u001b[39;00m \u001b[38;5;28;01mwith\u001b[39;00m aclosing(event_stream):\n\u001b[1;32m-> 1247\u001b[0m     \u001b[38;5;28;01masync\u001b[39;00m \u001b[38;5;28;01mfor\u001b[39;00m event \u001b[38;5;129;01min\u001b[39;00m event_stream:\n\u001b[0;32m   1248\u001b[0m         \u001b[38;5;28;01myield\u001b[39;00m event\n",
      "File \u001b[1;32mc:\\Users\\user\\anaconda3\\envs\\myenv\\Lib\\site-packages\\langchain_core\\tracers\\event_stream.py:1005\u001b[0m, in \u001b[0;36m_astream_events_implementation_v2\u001b[1;34m(runnable, input, config, include_names, include_types, include_tags, exclude_names, exclude_types, exclude_tags, **kwargs)\u001b[0m\n\u001b[0;32m   1003\u001b[0m \u001b[38;5;66;03m# Await it anyway, to run any cleanup code, and propagate any exceptions\u001b[39;00m\n\u001b[0;32m   1004\u001b[0m \u001b[38;5;28;01mtry\u001b[39;00m:\n\u001b[1;32m-> 1005\u001b[0m     \u001b[38;5;28;01mawait\u001b[39;00m task\n\u001b[0;32m   1006\u001b[0m \u001b[38;5;28;01mexcept\u001b[39;00m asyncio\u001b[38;5;241m.\u001b[39mCancelledError:\n\u001b[0;32m   1007\u001b[0m     \u001b[38;5;28;01mpass\u001b[39;00m\n",
      "File \u001b[1;32mc:\\Users\\user\\anaconda3\\envs\\myenv\\Lib\\site-packages\\langchain_core\\tracers\\event_stream.py:964\u001b[0m, in \u001b[0;36m_astream_events_implementation_v2.<locals>.consume_astream\u001b[1;34m()\u001b[0m\n\u001b[0;32m    961\u001b[0m \u001b[38;5;28;01masync\u001b[39;00m \u001b[38;5;28;01mdef\u001b[39;00m \u001b[38;5;21mconsume_astream\u001b[39m() \u001b[38;5;241m-\u001b[39m\u001b[38;5;241m>\u001b[39m \u001b[38;5;28;01mNone\u001b[39;00m:\n\u001b[0;32m    962\u001b[0m     \u001b[38;5;28;01mtry\u001b[39;00m:\n\u001b[0;32m    963\u001b[0m         \u001b[38;5;66;03m# if astream also calls tap_output_aiter this will be a no-op\u001b[39;00m\n\u001b[1;32m--> 964\u001b[0m         \u001b[38;5;28;01masync\u001b[39;00m \u001b[38;5;28;01mwith\u001b[39;00m aclosing(\u001b[43mrunnable\u001b[49m\u001b[38;5;241;43m.\u001b[39;49m\u001b[43mastream\u001b[49m\u001b[43m(\u001b[49m\u001b[38;5;28;43minput\u001b[39;49m\u001b[43m,\u001b[49m\u001b[43m \u001b[49m\u001b[43mconfig\u001b[49m\u001b[43m,\u001b[49m\u001b[43m \u001b[49m\u001b[38;5;241;43m*\u001b[39;49m\u001b[38;5;241;43m*\u001b[39;49m\u001b[43mkwargs\u001b[49m\u001b[43m)\u001b[49m) \u001b[38;5;28;01mas\u001b[39;00m stream:\n\u001b[0;32m    965\u001b[0m             \u001b[38;5;28;01masync\u001b[39;00m \u001b[38;5;28;01mfor\u001b[39;00m _ \u001b[38;5;129;01min\u001b[39;00m event_streamer\u001b[38;5;241m.\u001b[39mtap_output_aiter(run_id, stream):\n\u001b[0;32m    966\u001b[0m                 \u001b[38;5;66;03m# All the content will be picked up\u001b[39;00m\n\u001b[0;32m    967\u001b[0m                 \u001b[38;5;28;01mpass\u001b[39;00m\n",
      "\u001b[1;31mTypeError\u001b[0m: Pregel.astream() got an unexpected keyword argument 'subgraphs'"
     ]
    }
   ],
   "source": [
    "# 네임스페이스 정보를 파싱하는 함수\n",
    "def parse_namespace_info(info: tuple) -> tuple[str, str]:\n",
    "    if len(info) > 1:\n",
    "        namespace, node_name = info\n",
    "        return node_name.split(\":\")[0], namespace.split(\":\")[0]\n",
    "    return info[0].split(\":\")[0], \"parent graph\"\n",
    "\n",
    "\n",
    "kind = None\n",
    "\n",
    "async for event in graph.astream_events(inputs, version=\"v2\", subgraphs=True):\n",
    "    kind = event[\"event\"]\n",
    "\n",
    "    # 이벤트 종류와 태그 정보 추출\n",
    "    if kind == \"on_chat_model_start\":\n",
    "        print(f\"\\n========= on_chat_model_start =========\\n\")\n",
    "\n",
    "    # 채팅 모델 스트림 이벤트 및 최종 노드 태그 필터링\n",
    "    elif kind == \"on_chat_model_stream\":\n",
    "        # 이벤트 데이터 추출\n",
    "        data = event[\"data\"]\n",
    "\n",
    "        # 토큰 단위의 스트리밍 출력\n",
    "        if data[\"chunk\"].content:\n",
    "            print(data[\"chunk\"].content, end=\"\", flush=True)\n",
    "\n",
    "    elif kind == \"on_tool_start\":\n",
    "        print(f\"\\n========= tool_start =========\\n\")\n",
    "        data = event[\"data\"]\n",
    "        if \"input\" in data:\n",
    "            tool_msg = data[\"input\"]\n",
    "            print(tool_msg)\n",
    "\n",
    "    elif kind == \"on_tool_end\":\n",
    "        print(f\"\\n========= tool_end =========\\n\")\n",
    "        data = event[\"data\"]\n",
    "        if \"output\" in data:\n",
    "            tool_msg = data[\"output\"]\n",
    "            print(tool_msg.content)"
   ]
  },
  {
   "cell_type": "markdown",
   "metadata": {},
   "source": [
    "#### 특정 tags 만 스트리밍 출력하는 경우\n",
    "\n",
    "- `ONLY_STREAM_TAGS` 를 통해 스트리밍 출력하고 싶은 tags 만 설정할 수 있습니다.\n",
    "- 여기서는 \"WANT_TO_STREAM\" 는 출력에서 배제하고 \"WANT_TO_STREAM2\" 만 출력하는 경우를 확인합니다."
   ]
  },
  {
   "cell_type": "code",
   "execution_count": 39,
   "metadata": {},
   "outputs": [
    {
     "ename": "TypeError",
     "evalue": "Pregel.astream() got an unexpected keyword argument 'subgraphs'",
     "output_type": "error",
     "traceback": [
      "\u001b[1;31m---------------------------------------------------------------------------\u001b[0m",
      "\u001b[1;31mTypeError\u001b[0m                                 Traceback (most recent call last)",
      "Cell \u001b[1;32mIn[39], line 15\u001b[0m\n\u001b[0;32m     12\u001b[0m kind \u001b[38;5;241m=\u001b[39m \u001b[38;5;28;01mNone\u001b[39;00m\n\u001b[0;32m     13\u001b[0m tags \u001b[38;5;241m=\u001b[39m \u001b[38;5;28;01mNone\u001b[39;00m\n\u001b[1;32m---> 15\u001b[0m \u001b[38;5;28;01masync\u001b[39;00m \u001b[38;5;28;01mfor\u001b[39;00m event \u001b[38;5;129;01min\u001b[39;00m graph\u001b[38;5;241m.\u001b[39mastream_events(inputs, version\u001b[38;5;241m=\u001b[39m\u001b[38;5;124m\"\u001b[39m\u001b[38;5;124mv2\u001b[39m\u001b[38;5;124m\"\u001b[39m, subgraphs\u001b[38;5;241m=\u001b[39m\u001b[38;5;28;01mTrue\u001b[39;00m):\n\u001b[0;32m     16\u001b[0m     kind \u001b[38;5;241m=\u001b[39m event[\u001b[38;5;124m\"\u001b[39m\u001b[38;5;124mevent\u001b[39m\u001b[38;5;124m\"\u001b[39m]\n\u001b[0;32m     17\u001b[0m     tags \u001b[38;5;241m=\u001b[39m event\u001b[38;5;241m.\u001b[39mget(\u001b[38;5;124m\"\u001b[39m\u001b[38;5;124mtags\u001b[39m\u001b[38;5;124m\"\u001b[39m, [])\n",
      "File \u001b[1;32mc:\\Users\\user\\anaconda3\\envs\\myenv\\Lib\\site-packages\\langchain_core\\runnables\\base.py:1247\u001b[0m, in \u001b[0;36mRunnable.astream_events\u001b[1;34m(self, input, config, version, include_names, include_types, include_tags, exclude_names, exclude_types, exclude_tags, **kwargs)\u001b[0m\n\u001b[0;32m   1242\u001b[0m     \u001b[38;5;28;01mraise\u001b[39;00m \u001b[38;5;167;01mNotImplementedError\u001b[39;00m(\n\u001b[0;32m   1243\u001b[0m         \u001b[38;5;124m'\u001b[39m\u001b[38;5;124mOnly versions \u001b[39m\u001b[38;5;124m\"\u001b[39m\u001b[38;5;124mv1\u001b[39m\u001b[38;5;124m\"\u001b[39m\u001b[38;5;124m and \u001b[39m\u001b[38;5;124m\"\u001b[39m\u001b[38;5;124mv2\u001b[39m\u001b[38;5;124m\"\u001b[39m\u001b[38;5;124m of the schema is currently supported.\u001b[39m\u001b[38;5;124m'\u001b[39m\n\u001b[0;32m   1244\u001b[0m     )\n\u001b[0;32m   1246\u001b[0m \u001b[38;5;28;01masync\u001b[39;00m \u001b[38;5;28;01mwith\u001b[39;00m aclosing(event_stream):\n\u001b[1;32m-> 1247\u001b[0m     \u001b[38;5;28;01masync\u001b[39;00m \u001b[38;5;28;01mfor\u001b[39;00m event \u001b[38;5;129;01min\u001b[39;00m event_stream:\n\u001b[0;32m   1248\u001b[0m         \u001b[38;5;28;01myield\u001b[39;00m event\n",
      "File \u001b[1;32mc:\\Users\\user\\anaconda3\\envs\\myenv\\Lib\\site-packages\\langchain_core\\tracers\\event_stream.py:1005\u001b[0m, in \u001b[0;36m_astream_events_implementation_v2\u001b[1;34m(runnable, input, config, include_names, include_types, include_tags, exclude_names, exclude_types, exclude_tags, **kwargs)\u001b[0m\n\u001b[0;32m   1003\u001b[0m \u001b[38;5;66;03m# Await it anyway, to run any cleanup code, and propagate any exceptions\u001b[39;00m\n\u001b[0;32m   1004\u001b[0m \u001b[38;5;28;01mtry\u001b[39;00m:\n\u001b[1;32m-> 1005\u001b[0m     \u001b[38;5;28;01mawait\u001b[39;00m task\n\u001b[0;32m   1006\u001b[0m \u001b[38;5;28;01mexcept\u001b[39;00m asyncio\u001b[38;5;241m.\u001b[39mCancelledError:\n\u001b[0;32m   1007\u001b[0m     \u001b[38;5;28;01mpass\u001b[39;00m\n",
      "File \u001b[1;32mc:\\Users\\user\\anaconda3\\envs\\myenv\\Lib\\site-packages\\langchain_core\\tracers\\event_stream.py:964\u001b[0m, in \u001b[0;36m_astream_events_implementation_v2.<locals>.consume_astream\u001b[1;34m()\u001b[0m\n\u001b[0;32m    961\u001b[0m \u001b[38;5;28;01masync\u001b[39;00m \u001b[38;5;28;01mdef\u001b[39;00m \u001b[38;5;21mconsume_astream\u001b[39m() \u001b[38;5;241m-\u001b[39m\u001b[38;5;241m>\u001b[39m \u001b[38;5;28;01mNone\u001b[39;00m:\n\u001b[0;32m    962\u001b[0m     \u001b[38;5;28;01mtry\u001b[39;00m:\n\u001b[0;32m    963\u001b[0m         \u001b[38;5;66;03m# if astream also calls tap_output_aiter this will be a no-op\u001b[39;00m\n\u001b[1;32m--> 964\u001b[0m         \u001b[38;5;28;01masync\u001b[39;00m \u001b[38;5;28;01mwith\u001b[39;00m aclosing(\u001b[43mrunnable\u001b[49m\u001b[38;5;241;43m.\u001b[39;49m\u001b[43mastream\u001b[49m\u001b[43m(\u001b[49m\u001b[38;5;28;43minput\u001b[39;49m\u001b[43m,\u001b[49m\u001b[43m \u001b[49m\u001b[43mconfig\u001b[49m\u001b[43m,\u001b[49m\u001b[43m \u001b[49m\u001b[38;5;241;43m*\u001b[39;49m\u001b[38;5;241;43m*\u001b[39;49m\u001b[43mkwargs\u001b[49m\u001b[43m)\u001b[49m) \u001b[38;5;28;01mas\u001b[39;00m stream:\n\u001b[0;32m    965\u001b[0m             \u001b[38;5;28;01masync\u001b[39;00m \u001b[38;5;28;01mfor\u001b[39;00m _ \u001b[38;5;129;01min\u001b[39;00m event_streamer\u001b[38;5;241m.\u001b[39mtap_output_aiter(run_id, stream):\n\u001b[0;32m    966\u001b[0m                 \u001b[38;5;66;03m# All the content will be picked up\u001b[39;00m\n\u001b[0;32m    967\u001b[0m                 \u001b[38;5;28;01mpass\u001b[39;00m\n",
      "\u001b[1;31mTypeError\u001b[0m: Pregel.astream() got an unexpected keyword argument 'subgraphs'"
     ]
    }
   ],
   "source": [
    "# 네임스페이스 정보를 파싱하는 함수\n",
    "def parse_namespace_info(info: tuple) -> tuple[str, str]:\n",
    "    if len(info) > 1:\n",
    "        namespace, node_name = info\n",
    "        return node_name.split(\":\")[0], namespace.split(\":\")[0]\n",
    "    return info[0].split(\":\")[0], \"parent graph\"\n",
    "\n",
    "\n",
    "# 스트리밍 출력하고 싶은 tags 만 설정 (여기서는 \"WANT_TO_STREAM\" 는 출력에서 배제)\n",
    "ONLY_STREAM_TAGS = [\"WANT_TO_STREAM\"]\n",
    "\n",
    "kind = None\n",
    "tags = None\n",
    "\n",
    "async for event in graph.astream_events(inputs, version=\"v2\", subgraphs=True):\n",
    "    kind = event[\"event\"]\n",
    "    tags = event.get(\"tags\", [])\n",
    "\n",
    "    # 이벤트 종류와 태그 정보 추출\n",
    "    if kind == \"on_chat_model_start\":\n",
    "        print(f\"\\n========= tags: {tags} =========\\n\")\n",
    "\n",
    "    # 채팅 모델 스트림 이벤트 및 최종 노드 태그 필터링\n",
    "    elif kind == \"on_chat_model_stream\":\n",
    "        for tag in tags:\n",
    "            if tag in ONLY_STREAM_TAGS:\n",
    "                # 이벤트 데이터 추출\n",
    "                data = event[\"data\"]\n",
    "\n",
    "                # 출력 메시지\n",
    "                if data[\"chunk\"].content:\n",
    "                    print(data[\"chunk\"].content, end=\"\", flush=True)\n",
    "    elif kind == \"on_tool_start\":\n",
    "        print(f\"\\n========= tool_start =========\\n\")\n",
    "        data = event[\"data\"]\n",
    "        if \"input\" in data:\n",
    "            tool_msg = data[\"input\"]\n",
    "            print(tool_msg)\n",
    "\n",
    "    elif kind == \"on_tool_end\":\n",
    "        print(f\"\\n========= tool_end =========\\n\")\n",
    "        data = event[\"data\"]\n",
    "        if \"output\" in data:\n",
    "            tool_msg = data[\"output\"]\n",
    "            print(tool_msg.content)"
   ]
  }
 ],
 "metadata": {
  "kernelspec": {
   "display_name": "myenv",
   "language": "python",
   "name": "python3"
  },
  "language_info": {
   "codemirror_mode": {
    "name": "ipython",
    "version": 3
   },
   "file_extension": ".py",
   "mimetype": "text/x-python",
   "name": "python",
   "nbconvert_exporter": "python",
   "pygments_lexer": "ipython3",
   "version": "3.11.11"
  }
 },
 "nbformat": 4,
 "nbformat_minor": 2
}
