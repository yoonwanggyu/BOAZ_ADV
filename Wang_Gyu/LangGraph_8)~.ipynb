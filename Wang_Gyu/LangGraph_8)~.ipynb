{
 "cells": [
  {
   "cell_type": "markdown",
   "metadata": {},
   "source": [
    "# 8) 메시지 삭제\n",
    "\n",
    "그래프의 일반적인 상태 중 하나는 메시지 목록입니다. 일반적으로 해당 상태에 메시지를 추가만 합니다. 하지만 때로는 **메시지를 제거** 해야 할 수도 있습니다. \n",
    "\n",
    "이를 위해 `RemoveMessage` 수정자를 사용할 수 있습니다. 그리고, `RemoveMessage` 수정자는 `reducer` 키를 가진다는 것입니다. \n",
    "\n",
    "기본 `MessagesState`는 messages 키를 가지고 있으며, 해당 키의 reducer는 이러한 `RemoveMessage` 수정자를 허용합니다.\n",
    "\n",
    "이 reducer는 `RemoveMessage`를 사용하여 키에서 메시지를 삭제합니다."
   ]
  },
  {
   "cell_type": "code",
   "execution_count": 1,
   "metadata": {},
   "outputs": [
    {
     "data": {
      "image/jpeg": "[encoded data removed]",
      "text/plain": [
       "<IPython.core.display.Image object>"
      ]
     },
     "metadata": {},
     "output_type": "display_data"
    }
   ],
   "source": [
    "# API 키를 환경변수로 관리하기 위한 설정 파일\n",
    "from dotenv import load_dotenv\n",
    "from typing import Literal\n",
    "\n",
    "from langchain_core.tools import tool\n",
    "from langchain_openai import ChatOpenAI\n",
    "from langgraph.checkpoint.memory import MemorySaver\n",
    "from langgraph.graph import MessagesState, StateGraph, START, END\n",
    "from langgraph.prebuilt import ToolNode, tools_condition\n",
    "from langchain_teddynote.graphs import visualize_graph\n",
    "\n",
    "# API 키 정보 로드\n",
    "load_dotenv()\n",
    "\n",
    "# 기본적인 graph 구조---------------\n",
    "memory = MemorySaver()\n",
    "\n",
    "# 웹 검색 기능을 모방하는 도구 함수 정의\n",
    "@tool\n",
    "def search(query: str):\n",
    "    \"\"\"Call to surf on the web.\"\"\"\n",
    "    return \"웹 검색 결과: LangGraph 한글 튜토리얼은 https://wikidocs.net/233785 에서 확인할 수 있습니다.\"\n",
    "\n",
    "tools = [search]\n",
    "tool_node = ToolNode(tools)\n",
    "\n",
    "model = ChatOpenAI(model_name = \"gpt-4o-mini\")\n",
    "bound_model = model.bind_tools(tools)\n",
    "\n",
    "# 대화 상태에 따른 다음 실행 노드 결정 함수\n",
    "def should_continue(state:MessagesState):\n",
    "    last_messages = state['messages'][-1]\n",
    "    if not last_messages.tool_calls:\n",
    "        return END\n",
    "    return \"tool\"\n",
    "\n",
    "# LLM 모델 호출 및 응답 처리 함수\n",
    "def call_model(state: MessagesState):\n",
    "    response = model.invoke(state[\"messages\"])\n",
    "    return {\"messages\": response}\n",
    "\n",
    "\n",
    "# 상태 기반 워크플로우 그래프 초기화\n",
    "workflow = StateGraph(MessagesState)\n",
    "\n",
    "# 에이전트와 액션 노드 추가\n",
    "workflow.add_node(\"agent\", call_model)\n",
    "workflow.add_node(\"tool\", tool_node)\n",
    "\n",
    "# 시작점을 에이전트 노드로 설정\n",
    "workflow.add_edge(START, \"agent\")\n",
    "\n",
    "# 조건부 엣지 설정: 에이전트 노드 이후의 실행 흐름 정의\n",
    "workflow.add_conditional_edges(\"agent\", should_continue, {\"tool\": \"tool\", END: END})\n",
    "\n",
    "# 도구 실행 후 에이전트로 돌아가는 엣지 추가\n",
    "workflow.add_edge(\"tool\", \"agent\")\n",
    "\n",
    "# 체크포인터가 포함된 최종 실행 가능한 워크플로우 컴파일\n",
    "app = workflow.compile(checkpointer=memory)\n",
    "\n",
    "visualize_graph(app)\n"
   ]
  },
  {
   "cell_type": "code",
   "execution_count": 2,
   "metadata": {},
   "outputs": [
    {
     "name": "stdout",
     "output_type": "stream",
     "text": [
      "================================\u001b[1m Human Message \u001b[0m=================================\n",
      "\n",
      "안녕하세요! 제 이름은 Teddy입니다. 잘 부탁드립니다.\n",
      "==================================\u001b[1m Ai Message \u001b[0m==================================\n",
      "\n",
      "안녕하세요, Teddy! 만나서 반갑습니다. 어떻게 도와드릴까요?\n"
     ]
    }
   ],
   "source": [
    "# 첫 질문\n",
    "from langchain_core.messages import HumanMessage\n",
    "\n",
    "# 스레드 ID가 1인 기본 설정 객체 초기화\n",
    "config = {\"configurable\": {\"thread_id\": \"1\"}}\n",
    "\n",
    "# 1번째 질문 수행\n",
    "input_message = HumanMessage(\n",
    "    content=\"안녕하세요! 제 이름은 Teddy입니다. 잘 부탁드립니다.\"\n",
    ")\n",
    "\n",
    "# 스트림 모드로 메시지 처리 및 응답 출력, 마지막 메시지의 상세 정보 표시\n",
    "for event in app.stream({\"messages\": [input_message]}, config, stream_mode=\"values\"):\n",
    "    event[\"messages\"][-1].pretty_print()"
   ]
  },
  {
   "cell_type": "code",
   "execution_count": 3,
   "metadata": {},
   "outputs": [
    {
     "name": "stdout",
     "output_type": "stream",
     "text": [
      "================================\u001b[1m Human Message \u001b[0m=================================\n",
      "\n",
      "내 이름이 뭐라고요?\n",
      "==================================\u001b[1m Ai Message \u001b[0m==================================\n",
      "\n",
      "당신의 이름은 Teddy입니다. 맞나요?\n"
     ]
    }
   ],
   "source": [
    "# 후속 질문 수행\n",
    "input_message = HumanMessage(content=\"내 이름이 뭐라고요?\")\n",
    "\n",
    "# 스트림 모드로 두 번째 메시지 처리 및 응답 출력\n",
    "for event in app.stream({\"messages\": [input_message]}, config, stream_mode=\"values\"):\n",
    "    event[\"messages\"][-1].pretty_print()"
   ]
  },
  {
   "cell_type": "code",
   "execution_count": 4,
   "metadata": {},
   "outputs": [
    {
     "name": "stdout",
     "output_type": "stream",
     "text": [
      "================================\u001b[1m Human Message \u001b[0m=================================\n",
      "\n",
      "안녕하세요! 제 이름은 Teddy입니다. 잘 부탁드립니다.\n",
      "==================================\u001b[1m Ai Message \u001b[0m==================================\n",
      "\n",
      "안녕하세요, Teddy! 만나서 반갑습니다. 어떻게 도와드릴까요?\n",
      "================================\u001b[1m Human Message \u001b[0m=================================\n",
      "\n",
      "내 이름이 뭐라고요?\n",
      "==================================\u001b[1m Ai Message \u001b[0m==================================\n",
      "\n",
      "당신의 이름은 Teddy입니다. 맞나요?\n"
     ]
    }
   ],
   "source": [
    "# 단계별 상태 확인\n",
    "messages = app.get_state(config).values[\"messages\"]\n",
    "for message in messages:\n",
    "    message.pretty_print()"
   ]
  },
  {
   "cell_type": "markdown",
   "metadata": {},
   "source": [
    "### RemoveMessage 수정자를 사용하여 메시지 삭제\n",
    "\n",
    "먼저 메시지를 수동으로 삭제하는 방법을 살펴보겠습니다. 현재 스레드의 상태를 확인해보겠습니다:"
   ]
  },
  {
   "cell_type": "code",
   "execution_count": 5,
   "metadata": {},
   "outputs": [
    {
     "name": "stdout",
     "output_type": "stream",
     "text": [
      "================================\u001b[1m Remove Message \u001b[0m================================\n",
      "\n",
      "\n",
      "==================================\u001b[1m Ai Message \u001b[0m==================================\n",
      "\n",
      "안녕하세요, Teddy! 만나서 반갑습니다. 어떻게 도와드릴까요?\n",
      "================================\u001b[1m Human Message \u001b[0m=================================\n",
      "\n",
      "내 이름이 뭐라고요?\n",
      "==================================\u001b[1m Ai Message \u001b[0m==================================\n",
      "\n",
      "당신의 이름은 Teddy입니다. 맞나요?\n"
     ]
    },
    {
     "name": "stderr",
     "output_type": "stream",
     "text": [
      "C:\\Users\\user\\AppData\\Local\\Temp\\ipykernel_22740\\1008945876.py:4: LangChainBetaWarning: The class `RemoveMessage` is in beta. It is actively being worked on, so the API may change.\n",
      "  app.update_state(config, {\"messages\": RemoveMessage(id=messages[0].id)})\n"
     ]
    }
   ],
   "source": [
    "from langchain_core.messages import RemoveMessage\n",
    "\n",
    "# 메시지 배열의 첫 번째 메시지를 ID 기반으로 제거하고 앱 상태 업데이트\n",
    "app.update_state(config, {\"messages\": RemoveMessage(id=messages[0].id)})\n",
    "\n",
    "# 이제 메시지들을 확인해보면 첫 번째 메시지가 삭제되었음을 확인할 수 있습니다.\n",
    "# 앱 상태에서 메시지 목록 추출 및 저장된 대화 내역 조회\n",
    "messages = app.get_state(config).values[\"messages\"]\n",
    "for message in messages:\n",
    "    message.pretty_print()"
   ]
  },
  {
   "cell_type": "markdown",
   "metadata": {},
   "source": [
    "### 더 많은 메시지를 동적으로 삭제\n",
    "\n",
    "그래프 내부에서 프로그래밍 방식으로 메시지를 삭제할 수도 있습니다. \n",
    "\n",
    "그래프 실행이 종료될 때 오래된 메시지(3개 이전의 메시지보다 더 이전의 메시지)를 삭제하도록 그래프를 수정하는 방법을 살펴보겠습니다."
   ]
  },
  {
   "cell_type": "code",
   "execution_count": 6,
   "metadata": {},
   "outputs": [
    {
     "data": {
      "image/jpeg": "[encoded data removed]",
      "text/plain": [
       "<IPython.core.display.Image object>"
      ]
     },
     "metadata": {},
     "output_type": "display_data"
    }
   ],
   "source": [
    "# 메시지 개수가 3개 초과 시 오래된 메시지 삭제 및 최신 메시지만 유지\n",
    "def delete_messages(state):\n",
    "    messages = state[\"messages\"]\n",
    "    if len(messages) > 3:\n",
    "        return {\"messages\": [RemoveMessage(id=m.id) for m in messages[:-3]]}\n",
    "\n",
    "\n",
    "# 메시지 상태에 따른 다음 실행 노드 결정 로직\n",
    "def should_continue(state: MessagesState) -> Literal[\"action\", \"delete_messages\"]:\n",
    "    \"\"\"Return the next node to execute.\"\"\"\n",
    "    last_message = state[\"messages\"][-1]\n",
    "    # 함수 호출이 없는 경우 메시지 삭제 함수 실행\n",
    "    if not last_message.tool_calls:\n",
    "        return \"delete_messages\"\n",
    "    # 함수 호출이 있는 경우 액션 실행\n",
    "    return \"action\"\n",
    "\n",
    "\n",
    "# 메시지 상태 기반 워크플로우 그래프 정의\n",
    "workflow = StateGraph(MessagesState)\n",
    "\n",
    "# 에이전트와 액션 노드 추가\n",
    "workflow.add_node(\"agent\", call_model)\n",
    "workflow.add_node(\"action\", tool_node)\n",
    "\n",
    "# 메시지 삭제 노드 추가\n",
    "workflow.add_node(delete_messages)\n",
    "\n",
    "# 시작 노드에서 에이전트 노드로 연결\n",
    "workflow.add_edge(START, \"agent\")\n",
    "\n",
    "# 조건부 엣지 추가를 통한 노드 간 흐름 제어\n",
    "workflow.add_conditional_edges(\n",
    "    \"agent\",\n",
    "    should_continue,\n",
    ")\n",
    "\n",
    "# 액션 노드에서 에이전트 노드로 연결\n",
    "workflow.add_edge(\"action\", \"agent\")\n",
    "\n",
    "# 메시지 삭제 노드에서 종료 노드로 연결\n",
    "workflow.add_edge(\"delete_messages\", END)\n",
    "\n",
    "# 메모리 체크포인터를 사용하여 워크플로우 컴파일\n",
    "app = workflow.compile(checkpointer=memory)\n",
    "\n",
    "visualize_graph(app)\n"
   ]
  },
  {
   "cell_type": "code",
   "execution_count": 7,
   "metadata": {},
   "outputs": [
    {
     "name": "stdout",
     "output_type": "stream",
     "text": [
      "[('human', '안녕하세요! 제 이름은 Teddy입니다. 잘 부탁드립니다.')]\n",
      "[('human', '안녕하세요! 제 이름은 Teddy입니다. 잘 부탁드립니다.'), ('ai', '안녕하세요, Teddy님! 만나서 반갑습니다. 어떻게 도와드릴까요?')]\n"
     ]
    }
   ],
   "source": [
    "# 스레드 ID가 포함된 설정 객체 초기화\n",
    "config = {\"configurable\": {\"thread_id\": \"2\"}}\n",
    "\n",
    "# 1번째 질문 수행\n",
    "input_message = HumanMessage(\n",
    "    content=\"안녕하세요! 제 이름은 Teddy입니다. 잘 부탁드립니다.\"\n",
    ")\n",
    "for event in app.stream({\"messages\": [input_message]}, config, stream_mode=\"values\"):\n",
    "    print([(message.type, message.content) for message in event[\"messages\"]])"
   ]
  },
  {
   "cell_type": "code",
   "execution_count": 8,
   "metadata": {},
   "outputs": [
    {
     "name": "stdout",
     "output_type": "stream",
     "text": [
      "[('human', '안녕하세요! 제 이름은 Teddy입니다. 잘 부탁드립니다.'), ('ai', '안녕하세요, Teddy님! 만나서 반갑습니다. 어떻게 도와드릴까요?'), ('human', '내 이름이 뭐라고요?')]\n",
      "[('human', '안녕하세요! 제 이름은 Teddy입니다. 잘 부탁드립니다.'), ('ai', '안녕하세요, Teddy님! 만나서 반갑습니다. 어떻게 도와드릴까요?'), ('human', '내 이름이 뭐라고요?'), ('ai', 'Teddy님이시죠! 맞나요?')]\n",
      "[('remove', ''), ('ai', '안녕하세요, Teddy님! 만나서 반갑습니다. 어떻게 도와드릴까요?'), ('human', '내 이름이 뭐라고요?'), ('ai', 'Teddy님이시죠! 맞나요?')]\n"
     ]
    }
   ],
   "source": [
    "# 2번째 질문 수행\n",
    "input_message = HumanMessage(content=\"내 이름이 뭐라고요?\")\n",
    "\n",
    "for event in app.stream({\"messages\": [input_message]}, config, stream_mode=\"values\"):\n",
    "    print([(message.type, message.content) for message in event[\"messages\"]])"
   ]
  },
  {
   "cell_type": "code",
   "execution_count": 9,
   "metadata": {},
   "outputs": [
    {
     "name": "stdout",
     "output_type": "stream",
     "text": [
      "================================\u001b[1m Remove Message \u001b[0m================================\n",
      "\n",
      "\n",
      "==================================\u001b[1m Ai Message \u001b[0m==================================\n",
      "\n",
      "안녕하세요, Teddy님! 만나서 반갑습니다. 어떻게 도와드릴까요?\n",
      "================================\u001b[1m Human Message \u001b[0m=================================\n",
      "\n",
      "내 이름이 뭐라고요?\n",
      "==================================\u001b[1m Ai Message \u001b[0m==================================\n",
      "\n",
      "Teddy님이시죠! 맞나요?\n"
     ]
    }
   ],
   "source": [
    "# 최종 상태를 확인해보면 메시지가 단 세 개만 있는 것을 확인할 수 있습니다. \n",
    "\n",
    "# 이는 이전 메시지들을 방금 삭제했기 때문입니다.\n",
    "\n",
    "# 앱 상태에서 메시지 목록 추출 및 저장\n",
    "messages = app.get_state(config).values[\"messages\"]\n",
    "# 메시지 목록 반환\n",
    "for message in messages:\n",
    "    message.pretty_print()"
   ]
  },
  {
   "cell_type": "markdown",
   "metadata": {},
   "source": [
    "# 9) ToolNode 를 사용하여 도구를 호출하는 방법\n",
    "\n",
    "이번 튜토리얼에서는 도구 호출을 위한 LangGraph의 사전 구축된 `pre-built`의 `ToolNode` 사용 방법을 다룹니다.\n",
    "\n",
    "`ToolNode`는 메시지 목록이 포함된 그래프 상태를 입력으로 받아 도구 호출 결과로 상태를 업데이트하는 LangChain Runnable입니다. \n",
    "\n",
    "이는 LangGraph의 사전 구축된 Agent 와 즉시 사용할 수 있도록 설계되었으며, 상태에 적절한 리듀서가 있는 `messages` 키가 포함된 경우 모든 `StateGraph` 와 함께 작동할 수 있습니다."
   ]
  },
  {
   "cell_type": "code",
   "execution_count": 10,
   "metadata": {},
   "outputs": [
    {
     "data": {
      "text/plain": [
       "True"
      ]
     },
     "execution_count": 10,
     "metadata": {},
     "output_type": "execute_result"
    }
   ],
   "source": [
    "# API 키를 환경변수로 관리하기 위한 설정 파일\n",
    "from dotenv import load_dotenv\n",
    "\n",
    "# API 키 정보 로드\n",
    "load_dotenv()"
   ]
  },
  {
   "cell_type": "code",
   "execution_count": 11,
   "metadata": {},
   "outputs": [
    {
     "name": "stderr",
     "output_type": "stream",
     "text": [
      "c:\\Users\\user\\anaconda3\\envs\\myenv\\Lib\\site-packages\\pydantic\\_internal\\_config.py:341: UserWarning: Valid config keys have changed in V2:\n",
      "* 'allow_population_by_field_name' has been renamed to 'populate_by_name'\n",
      "* 'smart_union' has been removed\n",
      "  warnings.warn(message, UserWarning)\n"
     ]
    }
   ],
   "source": [
    "from langchain_core.tools import tool\n",
    "from langchain_experimental.tools.python.tool import PythonAstREPLTool\n",
    "from langchain_teddynote.tools import GoogleNews\n",
    "from typing import List, Dict\n",
    "from langgraph.prebuilt import ToolNode, tools_condition\n",
    "\n",
    "# 도구 정의\n",
    "\n",
    "# 도구 생성\n",
    "@tool\n",
    "def search_news(query: str) -> List[Dict[str, str]]:\n",
    "    \"\"\"Search Google News by input keyword\"\"\"\n",
    "    news_tool = GoogleNews()\n",
    "    return news_tool.search_by_keyword(query, k=5)\n",
    "\n",
    "\n",
    "@tool\n",
    "def python_code_interpreter(code: str):\n",
    "    \"\"\"Call to execute python code.\"\"\"\n",
    "    return PythonAstREPLTool().invoke(code)\n",
    "\n",
    "# 다음으로는 `ToolNode` 를 사용하여 도구를 호출하는 방법을 살펴보겠습니다.\n",
    "# 도구 리스트 생성\n",
    "tools = [search_news, python_code_interpreter]\n",
    "\n",
    "# ToolNode 초기화\n",
    "tool_node = ToolNode(tools)"
   ]
  },
  {
   "cell_type": "markdown",
   "metadata": {},
   "source": [
    "###  `ToolNode`를 수동으로 호출하기\n",
    "\n",
    "`ToolNode`는 메시지 목록과 함께 그래프 상태에서 작동합니다. \n",
    "\n",
    "- **중요**: 이때 목록의 마지막 메시지는 `tool_calls` 속성을 포함하는 `AIMessage`여야 합니다.\n",
    "\n",
    "먼저 도구 노드를 수동으로 호출하는 방법을 살펴보겠습니다."
   ]
  },
  {
   "cell_type": "code",
   "execution_count": 12,
   "metadata": {},
   "outputs": [
    {
     "data": {
      "text/plain": [
       "{'messages': [ToolMessage(content='[{\"url\": \"https://news.google.com/rss/articles/CBMiakFVX3lxTE5zT3VxSkxjUW1fMEJVU3J6TVhFYkF4QkhZUC1KVHFmeXhNQk9UemVEQi1IVUdrbUV0S2FPdkZYWDVMZmczRnhVcTZzcVlQQk44MTg4emkyTG05d3ZiOTFhdVpyRHJwa2ExY3c?oc=5\", \"content\": \"\\\\uc624\\\\ud508AI, \\\\uac00\\\\uc7a5 \\\\ud070 AI \\\\ubaa8\\\\ub378 \\'GPT-4.5\\' \\\\uacf5\\\\uac1c...\\\\ube44\\\\ucd94\\\\ub860 \\\\ubaa8\\\\ub378 \\\\ud55c\\\\uacc4 \\\\ubcf4\\\\uc5ec\\\\uc918 - AI\\\\ud0c0\\\\uc784\\\\uc2a4\"}, {\"url\": \"https://news.google.com/rss/articles/CBMiW0FVX3lxTE1KSUV3VUUwQThfWTlGMFBqLXJ2RnZxdWFNbmllQTVmVVVwc3ZDZVpvMXkyQVZsUjZjNG44TTJTdElibUpwQlFGZEJjcEhNV2ZtTmdGQ25haXV4OGvSAWBBVV95cUxQeTFzVC1kTkxuc1JHOUtLM25lUjV6b2hXcUs3V3NqQjFfWG1xWjlVZ3V1eFFCT2p2eWpwRE1aekpBX2ZJNnBHWHJoVm4yLXl2MnhtVmtTcVc5aGl5MTd6QVM?oc=5\", \"content\": \"\\\\uc624\\\\ud508AI, \\\\ucd5c\\\\uc2e0 AI \\\\ubaa8\\\\ub378 GPT-4.5 \\\\ucd9c\\\\uc2dc\\\\u2026\\\\\"\\\\ub300\\\\ud654\\\\ud615 \\\\ubaa8\\\\ub378 \\\\ucd5c\\\\uac15\\\\\" - \\\\uc5f0\\\\ud569\\\\ub274\\\\uc2a4\"}, {\"url\": \"https://news.google.com/rss/articles/CBMiggFBVV95cUxQQVRHMnJkZFpjbVR2NGNOZEpuZHV6UXQ0UlotVnlTN0FFcDBJcW5JYXRwR25oN0dmbEh2di1jbHFSZEtfUG5KS0RCTHlJTEo4a3dSdUVjZ1FtR0xndHpIdGhnUmpXTlV4cHR2aTZTOEo2WGhseHpTaFR2RUk4ejVVdHZR0gGWAUFVX3lxTE1fTHMzcnFuYW5iUFVadGtzV2NuYmpybUl3N3lZUGJsM2llZFh4VmVrY2tOSnN1YnhVMXBXRlB4U1NyaGhWS21DWFZobktvMDNiRnJ4eUxKTjF2a2tZd3dBckNYaXVhaTRSSUN0M0ZxdFVwTC1qNEZ5WjZiY3NMaTZmd2lzb1RMbmtEZ19sdUVqQ05TSlVBZw?oc=5\", \"content\": \"\\\\u201cAI \\\\uc131\\\\ub2a5 \\\\uac1c\\\\uc120 \\\\ud55c\\\\uacc4 \\\\uc654\\\\ub098\\\\u201d\\\\u2026 \\\\uc624\\\\ud508AI GPT-4.5, \\\\uc131\\\\ub2a5\\\\u00b7\\\\uac00\\\\uaca9 \\\\ub17c\\\\ub780 - \\\\uc870\\\\uc120\\\\ube44\\\\uc988 - \\\\uc870\\\\uc120\\\\ube44\\\\uc988\"}, {\"url\": \"https://news.google.com/rss/articles/CBMiggFBVV95cUxQb0JUMTlpUDlTUzlIeEdIdmtFakRrMjRjdnVJN1ZMM1JVZG12ZTFDaDlDd08wRjdKU1MtX212Vm1wVEZiU3ZsUVVCSFVhZWQ1VWhWWXBVSU1aWFRxMWhTVmhTOWhXeGU5V3h4YzNScTdiNk02eU1adERfZ0F4VEtLdDFB0gGWAUFVX3lxTE1IVHhNNGx3cmhrOHVQVWlDSlBNLWpPWWRpVkZ4cDltZXppU0xtR0pBWS1qOWpIbjdlSmlWeWN5Um5mVTJ4MTdmTjFpYTVISndvTEVmRGhXSGdScURkRlBSTDd2TFpIYnZuWndCd2pVaDhfYkdreVdhZkFZUERmd0tlWVF4ejBnSEI1MEpBWFV4SEUtVVdvUQ?oc=5\", \"content\": \"AI \\\\uc5f4\\\\ud48d\\\\uc5d0 \\\\ud2b9\\\\uc131\\\\ud654\\\\uace0 \\\\uc774\\\\ub984\\\\ub3c4 \\\\u2018\\\\uc778\\\\uacf5\\\\uc9c0\\\\ub2a5\\\\uace0\\\\u2019\\\\ub85c\\\\u2026 \\\\u201c\\\\uac04\\\\ud310\\\\ub9cc \\\\ubc14\\\\uafb8\\\\uba74 \\\\ud63c\\\\ub780\\\\ub9cc \\\\ucd08\\\\ub798\\\\u201d - \\\\uc870\\\\uc120\\\\ube44\\\\uc988 - \\\\uc870\\\\uc120\\\\ube44\\\\uc988\"}, {\"url\": \"https://news.google.com/rss/articles/CBMicEFVX3lxTE5iaE5sLUZmclQ5aHRTN3VQZ3lfWWcxbEJXTlBORnZHbDN3RmZ3MWxSU0ZGWUFtUW9QdndMMjd3ci1WZEJvRFlDRU9mMGE4QjlGcExtV3lpa1JQNG5rNWR0MWlLNkRabHNtVHVZcU1Yb2M?oc=5\", \"content\": \"[\\\\ubc30\\\\uc885\\\\ucc2c\\\\uc758 \\\\ubcf4\\\\uc548 \\\\ube45\\\\ub370\\\\uc774\\\\ud130] AI\\\\uae30\\\\ubcf8\\\\ubc95\\\\uc5d0\\\\ub3c4 \\\\ubb34\\\\ub108\\\\uc9c0\\\\ub294 \\\\u2018AI\\\\uac15\\\\uad6d\\\\u2019\\\\uc758 \\\\uafc8 - \\\\ubcf4\\\\uc548\\\\ub274\\\\uc2a4\"}]', name='search_news', tool_call_id='tool_call_id')]}"
      ]
     },
     "execution_count": 12,
     "metadata": {},
     "output_type": "execute_result"
    }
   ],
   "source": [
    "from langchain_core.messages import AIMessage\n",
    "\n",
    "# 단일 도구 호출을 포함하는 AI 메시지 객체 생성\n",
    "# AIMessage 객체이어야 함\n",
    "message_with_single_tool_call = AIMessage(\n",
    "    content=\"\",\n",
    "    tool_calls=[\n",
    "        {\n",
    "            \"name\": \"search_news\",  # 도구 이름 <------이름 명시하여 지정해서 사용 가능\n",
    "            \"args\": {\"query\": \"AI\"},  # 도구 인자\n",
    "            \"id\": \"tool_call_id\",  # 도구 호출 ID\n",
    "            \"type\": \"tool_call\",  # 도구 호출 유형\n",
    "        }\n",
    "    ],\n",
    ")\n",
    "\n",
    "# 도구 노드를 통한 메시지 처리 및 날씨 정보 요청 실행\n",
    "tool_node.invoke({\"messages\": [message_with_single_tool_call]})"
   ]
  },
  {
   "cell_type": "markdown",
   "metadata": {},
   "source": [
    "일반적으로 `AIMessage`를 수동으로 생성할 필요가 없으며, 도구 호출을 지원하는 모든 LangChain 채팅 모델에서 자동으로 생성됩니다.\n",
    "\n",
    "또한 `AIMessage`의 `tol_callos` 매개변수에 여러 도구 호출을 전달하면 `ToolNode`를 사용하여 병렬 도구 호출을 수행할 수 있습니다."
   ]
  },
  {
   "cell_type": "code",
   "execution_count": 13,
   "metadata": {},
   "outputs": [
    {
     "data": {
      "text/plain": [
       "{'messages': [ToolMessage(content='[{\"url\": \"https://news.google.com/rss/articles/CBMiakFVX3lxTE5zT3VxSkxjUW1fMEJVU3J6TVhFYkF4QkhZUC1KVHFmeXhNQk9UemVEQi1IVUdrbUV0S2FPdkZYWDVMZmczRnhVcTZzcVlQQk44MTg4emkyTG05d3ZiOTFhdVpyRHJwa2ExY3c?oc=5\", \"content\": \"\\\\uc624\\\\ud508AI, \\\\uac00\\\\uc7a5 \\\\ud070 AI \\\\ubaa8\\\\ub378 \\'GPT-4.5\\' \\\\uacf5\\\\uac1c...\\\\ube44\\\\ucd94\\\\ub860 \\\\ubaa8\\\\ub378 \\\\ud55c\\\\uacc4 \\\\ubcf4\\\\uc5ec\\\\uc918 - AI\\\\ud0c0\\\\uc784\\\\uc2a4\"}, {\"url\": \"https://news.google.com/rss/articles/CBMiW0FVX3lxTE1KSUV3VUUwQThfWTlGMFBqLXJ2RnZxdWFNbmllQTVmVVVwc3ZDZVpvMXkyQVZsUjZjNG44TTJTdElibUpwQlFGZEJjcEhNV2ZtTmdGQ25haXV4OGvSAWBBVV95cUxQeTFzVC1kTkxuc1JHOUtLM25lUjV6b2hXcUs3V3NqQjFfWG1xWjlVZ3V1eFFCT2p2eWpwRE1aekpBX2ZJNnBHWHJoVm4yLXl2MnhtVmtTcVc5aGl5MTd6QVM?oc=5\", \"content\": \"\\\\uc624\\\\ud508AI, \\\\ucd5c\\\\uc2e0 AI \\\\ubaa8\\\\ub378 GPT-4.5 \\\\ucd9c\\\\uc2dc\\\\u2026\\\\\"\\\\ub300\\\\ud654\\\\ud615 \\\\ubaa8\\\\ub378 \\\\ucd5c\\\\uac15\\\\\" - \\\\uc5f0\\\\ud569\\\\ub274\\\\uc2a4\"}, {\"url\": \"https://news.google.com/rss/articles/CBMiggFBVV95cUxQQVRHMnJkZFpjbVR2NGNOZEpuZHV6UXQ0UlotVnlTN0FFcDBJcW5JYXRwR25oN0dmbEh2di1jbHFSZEtfUG5KS0RCTHlJTEo4a3dSdUVjZ1FtR0xndHpIdGhnUmpXTlV4cHR2aTZTOEo2WGhseHpTaFR2RUk4ejVVdHZR0gGWAUFVX3lxTE1fTHMzcnFuYW5iUFVadGtzV2NuYmpybUl3N3lZUGJsM2llZFh4VmVrY2tOSnN1YnhVMXBXRlB4U1NyaGhWS21DWFZobktvMDNiRnJ4eUxKTjF2a2tZd3dBckNYaXVhaTRSSUN0M0ZxdFVwTC1qNEZ5WjZiY3NMaTZmd2lzb1RMbmtEZ19sdUVqQ05TSlVBZw?oc=5\", \"content\": \"\\\\u201cAI \\\\uc131\\\\ub2a5 \\\\uac1c\\\\uc120 \\\\ud55c\\\\uacc4 \\\\uc654\\\\ub098\\\\u201d\\\\u2026 \\\\uc624\\\\ud508AI GPT-4.5, \\\\uc131\\\\ub2a5\\\\u00b7\\\\uac00\\\\uaca9 \\\\ub17c\\\\ub780 - \\\\uc870\\\\uc120\\\\ube44\\\\uc988 - \\\\uc870\\\\uc120\\\\ube44\\\\uc988\"}, {\"url\": \"https://news.google.com/rss/articles/CBMiggFBVV95cUxQb0JUMTlpUDlTUzlIeEdIdmtFakRrMjRjdnVJN1ZMM1JVZG12ZTFDaDlDd08wRjdKU1MtX212Vm1wVEZiU3ZsUVVCSFVhZWQ1VWhWWXBVSU1aWFRxMWhTVmhTOWhXeGU5V3h4YzNScTdiNk02eU1adERfZ0F4VEtLdDFB0gGWAUFVX3lxTE1IVHhNNGx3cmhrOHVQVWlDSlBNLWpPWWRpVkZ4cDltZXppU0xtR0pBWS1qOWpIbjdlSmlWeWN5Um5mVTJ4MTdmTjFpYTVISndvTEVmRGhXSGdScURkRlBSTDd2TFpIYnZuWndCd2pVaDhfYkdreVdhZkFZUERmd0tlWVF4ejBnSEI1MEpBWFV4SEUtVVdvUQ?oc=5\", \"content\": \"AI \\\\uc5f4\\\\ud48d\\\\uc5d0 \\\\ud2b9\\\\uc131\\\\ud654\\\\uace0 \\\\uc774\\\\ub984\\\\ub3c4 \\\\u2018\\\\uc778\\\\uacf5\\\\uc9c0\\\\ub2a5\\\\uace0\\\\u2019\\\\ub85c\\\\u2026 \\\\u201c\\\\uac04\\\\ud310\\\\ub9cc \\\\ubc14\\\\uafb8\\\\uba74 \\\\ud63c\\\\ub780\\\\ub9cc \\\\ucd08\\\\ub798\\\\u201d - \\\\uc870\\\\uc120\\\\ube44\\\\uc988 - \\\\uc870\\\\uc120\\\\ube44\\\\uc988\"}, {\"url\": \"https://news.google.com/rss/articles/CBMicEFVX3lxTE5iaE5sLUZmclQ5aHRTN3VQZ3lfWWcxbEJXTlBORnZHbDN3RmZ3MWxSU0ZGWUFtUW9QdndMMjd3ci1WZEJvRFlDRU9mMGE4QjlGcExtV3lpa1JQNG5rNWR0MWlLNkRabHNtVHVZcU1Yb2M?oc=5\", \"content\": \"[\\\\ubc30\\\\uc885\\\\ucc2c\\\\uc758 \\\\ubcf4\\\\uc548 \\\\ube45\\\\ub370\\\\uc774\\\\ud130] AI\\\\uae30\\\\ubcf8\\\\ubc95\\\\uc5d0\\\\ub3c4 \\\\ubb34\\\\ub108\\\\uc9c0\\\\ub294 \\\\u2018AI\\\\uac15\\\\uad6d\\\\u2019\\\\uc758 \\\\uafc8 - \\\\ubcf4\\\\uc548\\\\ub274\\\\uc2a4\"}]', name='search_news', tool_call_id='tool_call_id'),\n",
       "  ToolMessage(content='10\\n', name='python_code_interpreter', tool_call_id='tool_call_id')]}"
      ]
     },
     "execution_count": 13,
     "metadata": {},
     "output_type": "execute_result"
    }
   ],
   "source": [
    "# 다중 도구 호출을 포함하는 AI 메시지 객체 생성 및 초기화\n",
    "message_with_multiple_tool_calls = AIMessage(\n",
    "    content=\"\",\n",
    "    tool_calls=[\n",
    "        {\n",
    "            \"name\": \"search_news\",\n",
    "            \"args\": {\"query\": \"AI\"},\n",
    "            \"id\": \"tool_call_id\",\n",
    "            \"type\": \"tool_call\",\n",
    "        },\n",
    "        {\n",
    "            \"name\": \"python_code_interpreter\",\n",
    "            \"args\": {\"code\": \"print(1+2+3+4)\"},\n",
    "            \"id\": \"tool_call_id\",\n",
    "            \"type\": \"tool_call\",\n",
    "        },\n",
    "    ],\n",
    ")\n",
    "\n",
    "# 생성된 메시지를 도구 노드에 전달하여 다중 도구 호출 실행\n",
    "tool_node.invoke({\"messages\": [message_with_multiple_tool_calls]})"
   ]
  },
  {
   "cell_type": "markdown",
   "metadata": {},
   "source": [
    "### llm 과 함께 사용하기\n",
    "\n",
    "도구 호출 기능이 있는 채팅 모델을 사용하기 위해서는 먼저 모델이 사용 가능한 도구들을 인식하도록 해야 합니다. \n",
    "\n",
    "이는 `ChatOpenAI` 모델에서 `.bind_tools` 메서드를 호출하여 수행합니다."
   ]
  },
  {
   "cell_type": "code",
   "execution_count": 14,
   "metadata": {},
   "outputs": [],
   "source": [
    "# LLM 모델 초기화 및 도구 바인딩\n",
    "model_with_tools = ChatOpenAI(model=\"gpt-4o-mini\", temperature=0).bind_tools(tools)"
   ]
  },
  {
   "cell_type": "code",
   "execution_count": 15,
   "metadata": {},
   "outputs": [
    {
     "data": {
      "text/plain": [
       "[{'name': 'python_code_interpreter',\n",
       "  'args': {'code': 'def first_n_primes(n):\\n    primes = []\\n    num = 2  # Starting from the first prime number\\n    while len(primes) < n:\\n        is_prime = True\\n        for i in range(2, int(num**0.5) + 1):\\n            if num % i == 0:\\n                is_prime = False\\n                break\\n        if is_prime:\\n            primes.append(num)\\n        num += 1\\n    return primes\\n\\n# Get the first 5 prime numbers\\nfirst_n_primes(5)'},\n",
       "  'id': 'call_yDgiERfBzf9ml2LGBA13vFFr',\n",
       "  'type': 'tool_call'}]"
      ]
     },
     "execution_count": 15,
     "metadata": {},
     "output_type": "execute_result"
    }
   ],
   "source": [
    "# 도구 호출 확인\n",
    "model_with_tools.invoke(\"처음 5개의 소수를 출력하는 python code 를 작성해줘\").tool_calls"
   ]
  },
  {
   "cell_type": "markdown",
   "metadata": {},
   "source": [
    "- 보시다시피 채팅 모델이 생성한 AI 메시지에는 이미 `tool_calls`가 채워져 있으므로, 이를 `ToolNode`에 직접 전달할 수 있습니다.\n",
    "- 위에서 ToolNode를 수동으로 호출하기 위해 tool_calls 넣어준 것과 같음"
   ]
  },
  {
   "cell_type": "code",
   "execution_count": 16,
   "metadata": {},
   "outputs": [
    {
     "data": {
      "text/plain": [
       "{'messages': [ToolMessage(content='[2, 3, 5, 7, 11]', name='python_code_interpreter', tool_call_id='call_BMjg9OdoJsclgobu2J3R4MeT')]}"
      ]
     },
     "execution_count": 16,
     "metadata": {},
     "output_type": "execute_result"
    }
   ],
   "source": [
    "# 도구 노드를 통한 메시지 처리 및 LLM 모델의 도구 기반 응답 생성\n",
    "tool_node.invoke(\n",
    "    {\n",
    "        \"messages\": [\n",
    "            model_with_tools.invoke(\n",
    "                \"처음 5개의 소수를 출력하는 python code 를 작성해줘\"\n",
    "            )\n",
    "        ]\n",
    "    }\n",
    ")"
   ]
  },
  {
   "cell_type": "markdown",
   "metadata": {},
   "source": [
    "### Agent 와 함께 사용하기\n",
    "\n",
    "다음으로, LangGraph 그래프 내에서 `ToolNode`를 사용하는 방법을 살펴보겠습니다. \n",
    "\n",
    "Agent 의 그래프 구현을 설정해보겠습니다. 이 **Agent** 는 쿼리를 입력으로 받아, 쿼리를 해결하는 데 필요한 충분한 정보를 얻을 때까지 반복적으로 도구들을 호출합니다. \n",
    "\n",
    "방금 정의한 도구들과 함께 `ToolNode` 및 OpenAI 모델을 사용하게 됩니다."
   ]
  },
  {
   "cell_type": "code",
   "execution_count": 17,
   "metadata": {},
   "outputs": [
    {
     "data": {
      "image/jpeg": "[encoded data removed]",
      "text/plain": [
       "<IPython.core.display.Image object>"
      ]
     },
     "metadata": {},
     "output_type": "display_data"
    }
   ],
   "source": [
    "# LangGraph 워크플로우 상태 및 메시지 처리를 위한 타입 임포트\n",
    "from langgraph.graph import StateGraph, MessagesState, START, END\n",
    "\n",
    "\n",
    "# LLM 모델을 사용하여 메시지 처리 및 응답 생성, 도구 호출이 포함된 응답 반환\n",
    "def call_model(state: MessagesState):\n",
    "    messages = state[\"messages\"]\n",
    "    response = model_with_tools.invoke(messages)\n",
    "    return {\"messages\": [response]}\n",
    "\n",
    "\n",
    "# 메시지 상태 기반 워크플로우 그래프 초기화\n",
    "workflow = StateGraph(MessagesState)\n",
    "\n",
    "# 에이전트와 도구 노드 정의 및 워크플로우 그래프에 추가\n",
    "workflow.add_node(\"agent\", call_model)\n",
    "workflow.add_node(\"tools\", tool_node)\n",
    "\n",
    "# 워크플로우 시작점에서 에이전트 노드로 연결\n",
    "workflow.add_edge(START, \"agent\")\n",
    "\n",
    "# 에이전트 노드에서 조건부 분기 설정, 도구 노드 또는 종료 지점으로 연결\n",
    "workflow.add_conditional_edges(\"agent\", tools_condition)\n",
    "\n",
    "# 도구 노드에서 에이전트 노드로 순환 연결\n",
    "workflow.add_edge(\"tools\", \"agent\")\n",
    "\n",
    "# 에이전트 노드에서 종료 지점으로 연결\n",
    "workflow.add_edge(\"agent\", END)\n",
    "\n",
    "\n",
    "# 정의된 워크플로우 그래프 컴파일 및 실행 가능한 애플리케이션 생성\n",
    "app = workflow.compile()\n",
    "\n",
    "visualize_graph(app)"
   ]
  },
  {
   "cell_type": "code",
   "execution_count": 18,
   "metadata": {},
   "outputs": [
    {
     "name": "stdout",
     "output_type": "stream",
     "text": [
      "================================\u001b[1m Human Message \u001b[0m=================================\n",
      "\n",
      "처음 5개의 소수를 출력하는 python code 를 작성해줘\n",
      "==================================\u001b[1m Ai Message \u001b[0m==================================\n",
      "Tool Calls:\n",
      "  python_code_interpreter (call_dRzshEwCjt8VuCbQdb772Mhr)\n",
      " Call ID: call_dRzshEwCjt8VuCbQdb772Mhr\n",
      "  Args:\n",
      "    code: def first_n_primes(n):\n",
      "    primes = []\n",
      "    num = 2  # Starting from the first prime number\n",
      "    while len(primes) < n:\n",
      "        is_prime = True\n",
      "        for i in range(2, int(num**0.5) + 1):\n",
      "            if num % i == 0:\n",
      "                is_prime = False\n",
      "                break\n",
      "        if is_prime:\n",
      "            primes.append(num)\n",
      "        num += 1\n",
      "    return primes\n",
      "\n",
      "# Get the first 5 prime numbers\n",
      "first_n_primes(5)\n",
      "=================================\u001b[1m Tool Message \u001b[0m=================================\n",
      "Name: python_code_interpreter\n",
      "\n",
      "[2, 3, 5, 7, 11]\n",
      "==================================\u001b[1m Ai Message \u001b[0m==================================\n",
      "\n",
      "처음 5개의 소수는 다음과 같습니다: [2, 3, 5, 7, 11]\n"
     ]
    }
   ],
   "source": [
    "# 실행 및 결과 확인\n",
    "for chunk in app.stream(\n",
    "    {\"messages\": [(\"human\", \"처음 5개의 소수를 출력하는 python code 를 작성해줘\")]},\n",
    "    stream_mode=\"values\",\n",
    "):\n",
    "    # 마지막 메시지 출력\n",
    "    chunk[\"messages\"][-1].pretty_print()"
   ]
  },
  {
   "cell_type": "code",
   "execution_count": 19,
   "metadata": {},
   "outputs": [
    {
     "name": "stdout",
     "output_type": "stream",
     "text": [
      "================================\u001b[1m Human Message \u001b[0m=================================\n",
      "\n",
      "search google news about AI\n",
      "==================================\u001b[1m Ai Message \u001b[0m==================================\n",
      "Tool Calls:\n",
      "  search_news (call_HKDIXkzkvxSRh8QlRutDd9xe)\n",
      " Call ID: call_HKDIXkzkvxSRh8QlRutDd9xe\n",
      "  Args:\n",
      "    query: AI\n",
      "=================================\u001b[1m Tool Message \u001b[0m=================================\n",
      "Name: search_news\n",
      "\n",
      "[{\"url\": \"https://news.google.com/rss/articles/CBMiakFVX3lxTE5zT3VxSkxjUW1fMEJVU3J6TVhFYkF4QkhZUC1KVHFmeXhNQk9UemVEQi1IVUdrbUV0S2FPdkZYWDVMZmczRnhVcTZzcVlQQk44MTg4emkyTG05d3ZiOTFhdVpyRHJwa2ExY3c?oc=5\", \"content\": \"\\uc624\\ud508AI, \\uac00\\uc7a5 \\ud070 AI \\ubaa8\\ub378 'GPT-4.5' \\uacf5\\uac1c...\\ube44\\ucd94\\ub860 \\ubaa8\\ub378 \\ud55c\\uacc4 \\ubcf4\\uc5ec\\uc918 - AI\\ud0c0\\uc784\\uc2a4\"}, {\"url\": \"https://news.google.com/rss/articles/CBMiW0FVX3lxTE1KSUV3VUUwQThfWTlGMFBqLXJ2RnZxdWFNbmllQTVmVVVwc3ZDZVpvMXkyQVZsUjZjNG44TTJTdElibUpwQlFGZEJjcEhNV2ZtTmdGQ25haXV4OGvSAWBBVV95cUxQeTFzVC1kTkxuc1JHOUtLM25lUjV6b2hXcUs3V3NqQjFfWG1xWjlVZ3V1eFFCT2p2eWpwRE1aekpBX2ZJNnBHWHJoVm4yLXl2MnhtVmtTcVc5aGl5MTd6QVM?oc=5\", \"content\": \"\\uc624\\ud508AI, \\ucd5c\\uc2e0 AI \\ubaa8\\ub378 GPT-4.5 \\ucd9c\\uc2dc\\u2026\\\"\\ub300\\ud654\\ud615 \\ubaa8\\ub378 \\ucd5c\\uac15\\\" - \\uc5f0\\ud569\\ub274\\uc2a4\"}, {\"url\": \"https://news.google.com/rss/articles/CBMiggFBVV95cUxQQVRHMnJkZFpjbVR2NGNOZEpuZHV6UXQ0UlotVnlTN0FFcDBJcW5JYXRwR25oN0dmbEh2di1jbHFSZEtfUG5KS0RCTHlJTEo4a3dSdUVjZ1FtR0xndHpIdGhnUmpXTlV4cHR2aTZTOEo2WGhseHpTaFR2RUk4ejVVdHZR0gGWAUFVX3lxTE1fTHMzcnFuYW5iUFVadGtzV2NuYmpybUl3N3lZUGJsM2llZFh4VmVrY2tOSnN1YnhVMXBXRlB4U1NyaGhWS21DWFZobktvMDNiRnJ4eUxKTjF2a2tZd3dBckNYaXVhaTRSSUN0M0ZxdFVwTC1qNEZ5WjZiY3NMaTZmd2lzb1RMbmtEZ19sdUVqQ05TSlVBZw?oc=5\", \"content\": \"\\u201cAI \\uc131\\ub2a5 \\uac1c\\uc120 \\ud55c\\uacc4 \\uc654\\ub098\\u201d\\u2026 \\uc624\\ud508AI GPT-4.5, \\uc131\\ub2a5\\u00b7\\uac00\\uaca9 \\ub17c\\ub780 - \\uc870\\uc120\\ube44\\uc988 - \\uc870\\uc120\\ube44\\uc988\"}, {\"url\": \"https://news.google.com/rss/articles/CBMiggFBVV95cUxQb0JUMTlpUDlTUzlIeEdIdmtFakRrMjRjdnVJN1ZMM1JVZG12ZTFDaDlDd08wRjdKU1MtX212Vm1wVEZiU3ZsUVVCSFVhZWQ1VWhWWXBVSU1aWFRxMWhTVmhTOWhXeGU5V3h4YzNScTdiNk02eU1adERfZ0F4VEtLdDFB0gGWAUFVX3lxTE1IVHhNNGx3cmhrOHVQVWlDSlBNLWpPWWRpVkZ4cDltZXppU0xtR0pBWS1qOWpIbjdlSmlWeWN5Um5mVTJ4MTdmTjFpYTVISndvTEVmRGhXSGdScURkRlBSTDd2TFpIYnZuWndCd2pVaDhfYkdreVdhZkFZUERmd0tlWVF4ejBnSEI1MEpBWFV4SEUtVVdvUQ?oc=5\", \"content\": \"AI \\uc5f4\\ud48d\\uc5d0 \\ud2b9\\uc131\\ud654\\uace0 \\uc774\\ub984\\ub3c4 \\u2018\\uc778\\uacf5\\uc9c0\\ub2a5\\uace0\\u2019\\ub85c\\u2026 \\u201c\\uac04\\ud310\\ub9cc \\ubc14\\uafb8\\uba74 \\ud63c\\ub780\\ub9cc \\ucd08\\ub798\\u201d - \\uc870\\uc120\\ube44\\uc988 - \\uc870\\uc120\\ube44\\uc988\"}, {\"url\": \"https://news.google.com/rss/articles/CBMicEFVX3lxTE5iaE5sLUZmclQ5aHRTN3VQZ3lfWWcxbEJXTlBORnZHbDN3RmZ3MWxSU0ZGWUFtUW9QdndMMjd3ci1WZEJvRFlDRU9mMGE4QjlGcExtV3lpa1JQNG5rNWR0MWlLNkRabHNtVHVZcU1Yb2M?oc=5\", \"content\": \"[\\ubc30\\uc885\\ucc2c\\uc758 \\ubcf4\\uc548 \\ube45\\ub370\\uc774\\ud130] AI\\uae30\\ubcf8\\ubc95\\uc5d0\\ub3c4 \\ubb34\\ub108\\uc9c0\\ub294 \\u2018AI\\uac15\\uad6d\\u2019\\uc758 \\uafc8 - \\ubcf4\\uc548\\ub274\\uc2a4\"}]\n",
      "==================================\u001b[1m Ai Message \u001b[0m==================================\n",
      "\n",
      "Here are some recent news articles about AI:\n",
      "\n",
      "1. **AI and the New GPT-4.5 Model**  \n",
      "   [Read more](https://news.google.com/rss/articles/CBMiakFVX3lxTE5zT3VxSkxjUW1fMEJVU3J6TVhFYkF4QkhZUC1KVHFmeXhNQk9UemVEQi1IVUdrbUV0S2FPdkZYWDVMZmczRnhVcTZzcVlQQk44MTg4emkyTG05d3ZiOTFhdVpyRHJwa2ExY3c?oc=5)  \n",
      "   Content: Discusses the latest developments in AI, particularly focusing on the new AI model 'GPT-4.5'.\n",
      "\n",
      "2. **AI's Latest Developments**  \n",
      "   [Read more](https://news.google.com/rss/articles/CBMiW0FVX3lxTE1KSUV3VUUwQThfWTlGMFBqLXJ2RnZxdWFNbmllQTVmVVVwc3ZDZVpvMXkyQVZsUjZjNG44TTJTdElibUpwQlFGZEJjcEhNV2ZtTmdGQ25haXV4OGvSAWBBVV95cUxQeTFzVC1kTkxuc1JHOUtLM25lUjV6b2hXcUs3V3NqQjFfWG1xWjlVZ3V1eFFCT2p2eWpwRE1aekpBX2ZJNnBHWHJoVm4yLXl2MnhtVmtTcVc5aGl5MTd6QVM?oc=5)  \n",
      "   Content: Covers the advancements in AI technology, particularly the GPT-4.5 model.\n",
      "\n",
      "3. **AI's Impact on Decision-Making**  \n",
      "   [Read more](https://news.google.com/rss/articles/CBMiggFBVV95cUxQQVRHMnJkZFpjbVR2NGNOZEpuZHV6UXQ0UlotVnlTN0FFcDBJcW5JYXRwR25oN0dmbEh2di1jbHFSZEtfUG5KS0RCTHlJTEo4a3dSdUVjZ1FtR0xndHpIdGhnUmpXTlV4cHR2aTZTOEo2WGhseHpTaFR2RUk4ejVVdHZR0gGWAUFVX3lxTE1fTHMzcnFuYW5iUFVadGtzV2NuYmpybUl3N3lZUGJsM2llZFh4VmVrY2tOSnN1YnhVMXBXRlB4U1NyaGhWS21DWFZobktvMDNiRnJ4eUxKTjF2a2tZd3dBckNYaXVhaTRSSUN0M0ZxdFVwTC1qNEZ5WjZiY3NMaTZmd2lzb1RMbmtEZ19sdUVqQ05TSlVBZw?oc=5)  \n",
      "   Content: Discusses how AI influences decision-making processes in various sectors.\n",
      "\n",
      "4. **AI and Personalization**  \n",
      "   [Read more](https://news.google.com/rss/articles/CBMiggFBVV95cUxQb0JUMTlpUDlTUzlIeEdIdmtFakRrMjRjdnVJN1ZMM1JVZG12ZTFDaDlDd08wRjdKU1MtX212Vm1wVEZiU3ZsUVVCSFVhZWQ1VWhWWXBVSU1aWFRxMWhTVmhTOWhXeGU5V3h4YzNScTdiNk02eU1adERfZ0F4VEtLdDFB0gGWAUFVX3lxTE1IVHhNNGx3cmhrOHVQVWlDSlBNLWpPWWRpVkZ4cDltZXppU0xtR0pBWS1qOWpIbjdlSmlWeWN5Um5mVTJ4MTdmTjFpYTVISndvTEVmRGhXSGdScURkRlBSTDd2TFpIYnZuWndCd2pVaDhfYkdreVdhZkFZUERmd0tlWVF4ejBnSEI1MEpBWFV4SEUtVVdvUQ?oc=5)  \n",
      "   Content: Explores how AI is used for personalization in various applications.\n",
      "\n",
      "5. **AI and Ethical Considerations**  \n",
      "   [Read more](https://news.google.com/rss/articles/CBMicEFVX3lxTE5iaE5sLUZmclQ5aHRTN3VQZ3lfWWcxbEJXTlBORnZHbDN3RmZ3MWxSU0ZGWUFtUW9QdndMMjd3ci1WZEJvRFlDRU9mMGE4QjlGcExtV3lpa1JQNG5rNWR0MWlLNkRabHNtVHVZcU1Yb2M?oc=5)  \n",
      "   Content: Discusses the ethical implications of AI technologies and their governance.\n",
      "\n",
      "Feel free to click on the links to read more about each topic!\n"
     ]
    }
   ],
   "source": [
    "# 검색 질문 수행\n",
    "for chunk in app.stream(\n",
    "    {\"messages\": [(\"human\", \"search google news about AI\")]},\n",
    "    stream_mode=\"values\",\n",
    "):\n",
    "    chunk[\"messages\"][-1].pretty_print()"
   ]
  },
  {
   "cell_type": "code",
   "execution_count": 20,
   "metadata": {},
   "outputs": [
    {
     "name": "stdout",
     "output_type": "stream",
     "text": [
      "================================\u001b[1m Human Message \u001b[0m=================================\n",
      "\n",
      "안녕? 반가워\n",
      "==================================\u001b[1m Ai Message \u001b[0m==================================\n",
      "\n",
      "안녕하세요! 반가워요. 어떻게 도와드릴까요?\n"
     ]
    }
   ],
   "source": [
    "# 도구 호출이 필요 없는 질문 수행\n",
    "for chunk in app.stream(\n",
    "    {\"messages\": [(\"human\", \"안녕? 반가워\")]},\n",
    "    stream_mode=\"values\",\n",
    "):\n",
    "    chunk[\"messages\"][-1].pretty_print()"
   ]
  },
  {
   "cell_type": "markdown",
   "metadata": {},
   "source": [
    "- `ToolNode`는 도구 실행 중 발생하는 오류도 처리할 수 있습니다. \n",
    "\n",
    "- `handle_tool_errors=True`를 설정하여 이 기능을 활성화/비활성화할 수 있습니다(기본적으로 활성화되어 있음)"
   ]
  }
 ],
 "metadata": {
  "kernelspec": {
   "display_name": "myenv",
   "language": "python",
   "name": "python3"
  },
  "language_info": {
   "codemirror_mode": {
    "name": "ipython",
    "version": 3
   },
   "file_extension": ".py",
   "mimetype": "text/x-python",
   "name": "python",
   "nbconvert_exporter": "python",
   "pygments_lexer": "ipython3",
   "version": "3.11.11"
  }
 },
 "nbformat": 4,
 "nbformat_minor": 2
}
